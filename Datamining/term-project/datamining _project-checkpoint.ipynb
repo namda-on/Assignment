{
 "cells": [
  {
   "cell_type": "code",
   "execution_count": 1,
   "metadata": {
    "scrolled": true
   },
   "outputs": [
    {
     "name": "stderr",
     "output_type": "stream",
     "text": [
      "\n",
      "Attaching package: 'dplyr'\n",
      "\n",
      "\n",
      "The following objects are masked from 'package:stats':\n",
      "\n",
      "    filter, lag\n",
      "\n",
      "\n",
      "The following objects are masked from 'package:base':\n",
      "\n",
      "    intersect, setdiff, setequal, union\n",
      "\n",
      "\n",
      "Loading required package: usethis\n",
      "\n",
      "Loading required package: plyr\n",
      "\n",
      "------------------------------------------------------------------------------\n",
      "\n",
      "You have loaded plyr after dplyr - this is likely to cause problems.\n",
      "If you need functions from both plyr and dplyr, please load plyr first, then dplyr:\n",
      "library(plyr); library(dplyr)\n",
      "\n",
      "------------------------------------------------------------------------------\n",
      "\n",
      "\n",
      "Attaching package: 'plyr'\n",
      "\n",
      "\n",
      "The following object is masked from 'package:purrr':\n",
      "\n",
      "    compact\n",
      "\n",
      "\n",
      "The following objects are masked from 'package:dplyr':\n",
      "\n",
      "    arrange, count, desc, failwith, id, mutate, rename, summarise,\n",
      "    summarize\n",
      "\n",
      "\n",
      "Loading required package: scales\n",
      "\n",
      "\n",
      "Attaching package: 'scales'\n",
      "\n",
      "\n",
      "The following object is masked from 'package:purrr':\n",
      "\n",
      "    discard\n",
      "\n",
      "\n",
      "The following object is masked from 'package:readr':\n",
      "\n",
      "    col_factor\n",
      "\n",
      "\n",
      "Loading required package: grid\n",
      "\n",
      "corrplot 0.84 loaded\n",
      "\n",
      "Loading required package: lattice\n",
      "\n",
      "\n",
      "Attaching package: 'caret'\n",
      "\n",
      "\n",
      "The following object is masked from 'package:purrr':\n",
      "\n",
      "    lift\n",
      "\n",
      "\n",
      "\n",
      "Attaching package: 'pastecs'\n",
      "\n",
      "\n",
      "The following objects are masked from 'package:dplyr':\n",
      "\n",
      "    first, last\n",
      "\n",
      "\n"
     ]
    }
   ],
   "source": [
    "library(readr)\n",
    "library(dplyr)\n",
    "library(ggplot2)\n",
    "library(purrr)\n",
    "library(devtools)\n",
    "library(ggbiplot)\n",
    "library(corrplot)\n",
    "library(caret)\n",
    "library(FSelector)\n",
    "library(pastecs)\n",
    "library(stats)"
   ]
  },
  {
   "cell_type": "code",
   "execution_count": 2,
   "metadata": {},
   "outputs": [],
   "source": [
    "setwd(\"C:/Users/Park/namda_git/Datamining/term-project\")\n",
    "firedata <- read.csv(file = 'forestfires.csv', header = T, stringsAsFactors = F )"
   ]
  },
  {
   "cell_type": "code",
   "execution_count": 3,
   "metadata": {},
   "outputs": [
    {
     "data": {
      "text/html": [
       "<table>\n",
       "<caption>A data.frame: 517 × 13</caption>\n",
       "<thead>\n",
       "\t<tr><th scope=col>X</th><th scope=col>Y</th><th scope=col>month</th><th scope=col>day</th><th scope=col>FFMC</th><th scope=col>DMC</th><th scope=col>DC</th><th scope=col>ISI</th><th scope=col>temp</th><th scope=col>RH</th><th scope=col>wind</th><th scope=col>rain</th><th scope=col>area</th></tr>\n",
       "\t<tr><th scope=col>&lt;int&gt;</th><th scope=col>&lt;int&gt;</th><th scope=col>&lt;chr&gt;</th><th scope=col>&lt;chr&gt;</th><th scope=col>&lt;dbl&gt;</th><th scope=col>&lt;dbl&gt;</th><th scope=col>&lt;dbl&gt;</th><th scope=col>&lt;dbl&gt;</th><th scope=col>&lt;dbl&gt;</th><th scope=col>&lt;int&gt;</th><th scope=col>&lt;dbl&gt;</th><th scope=col>&lt;dbl&gt;</th><th scope=col>&lt;dbl&gt;</th></tr>\n",
       "</thead>\n",
       "<tbody>\n",
       "\t<tr><td>7</td><td>5</td><td>mar</td><td>fri</td><td>86.2</td><td> 26.2</td><td> 94.3</td><td> 5.1</td><td> 8.2</td><td>51</td><td>6.7</td><td>0.0</td><td>0</td></tr>\n",
       "\t<tr><td>7</td><td>4</td><td>oct</td><td>tue</td><td>90.6</td><td> 35.4</td><td>669.1</td><td> 6.7</td><td>18.0</td><td>33</td><td>0.9</td><td>0.0</td><td>0</td></tr>\n",
       "\t<tr><td>7</td><td>4</td><td>oct</td><td>sat</td><td>90.6</td><td> 43.7</td><td>686.9</td><td> 6.7</td><td>14.6</td><td>33</td><td>1.3</td><td>0.0</td><td>0</td></tr>\n",
       "\t<tr><td>8</td><td>6</td><td>mar</td><td>fri</td><td>91.7</td><td> 33.3</td><td> 77.5</td><td> 9.0</td><td> 8.3</td><td>97</td><td>4.0</td><td>0.2</td><td>0</td></tr>\n",
       "\t<tr><td>8</td><td>6</td><td>mar</td><td>sun</td><td>89.3</td><td> 51.3</td><td>102.2</td><td> 9.6</td><td>11.4</td><td>99</td><td>1.8</td><td>0.0</td><td>0</td></tr>\n",
       "\t<tr><td>8</td><td>6</td><td>aug</td><td>sun</td><td>92.3</td><td> 85.3</td><td>488.0</td><td>14.7</td><td>22.2</td><td>29</td><td>5.4</td><td>0.0</td><td>0</td></tr>\n",
       "\t<tr><td>8</td><td>6</td><td>aug</td><td>mon</td><td>92.3</td><td> 88.9</td><td>495.6</td><td> 8.5</td><td>24.1</td><td>27</td><td>3.1</td><td>0.0</td><td>0</td></tr>\n",
       "\t<tr><td>8</td><td>6</td><td>aug</td><td>mon</td><td>91.5</td><td>145.4</td><td>608.2</td><td>10.7</td><td> 8.0</td><td>86</td><td>2.2</td><td>0.0</td><td>0</td></tr>\n",
       "\t<tr><td>8</td><td>6</td><td>sep</td><td>tue</td><td>91.0</td><td>129.5</td><td>692.6</td><td> 7.0</td><td>13.1</td><td>63</td><td>5.4</td><td>0.0</td><td>0</td></tr>\n",
       "\t<tr><td>7</td><td>5</td><td>sep</td><td>sat</td><td>92.5</td><td> 88.0</td><td>698.6</td><td> 7.1</td><td>22.8</td><td>40</td><td>4.0</td><td>0.0</td><td>0</td></tr>\n",
       "\t<tr><td>7</td><td>5</td><td>sep</td><td>sat</td><td>92.5</td><td> 88.0</td><td>698.6</td><td> 7.1</td><td>17.8</td><td>51</td><td>7.2</td><td>0.0</td><td>0</td></tr>\n",
       "\t<tr><td>7</td><td>5</td><td>sep</td><td>sat</td><td>92.8</td><td> 73.2</td><td>713.0</td><td>22.6</td><td>19.3</td><td>38</td><td>4.0</td><td>0.0</td><td>0</td></tr>\n",
       "\t<tr><td>6</td><td>5</td><td>aug</td><td>fri</td><td>63.5</td><td> 70.8</td><td>665.3</td><td> 0.8</td><td>17.0</td><td>72</td><td>6.7</td><td>0.0</td><td>0</td></tr>\n",
       "\t<tr><td>6</td><td>5</td><td>sep</td><td>mon</td><td>90.9</td><td>126.5</td><td>686.5</td><td> 7.0</td><td>21.3</td><td>42</td><td>2.2</td><td>0.0</td><td>0</td></tr>\n",
       "\t<tr><td>6</td><td>5</td><td>sep</td><td>wed</td><td>92.9</td><td>133.3</td><td>699.6</td><td> 9.2</td><td>26.4</td><td>21</td><td>4.5</td><td>0.0</td><td>0</td></tr>\n",
       "\t<tr><td>6</td><td>5</td><td>sep</td><td>fri</td><td>93.3</td><td>141.2</td><td>713.9</td><td>13.9</td><td>22.9</td><td>44</td><td>5.4</td><td>0.0</td><td>0</td></tr>\n",
       "\t<tr><td>5</td><td>5</td><td>mar</td><td>sat</td><td>91.7</td><td> 35.8</td><td> 80.8</td><td> 7.8</td><td>15.1</td><td>27</td><td>5.4</td><td>0.0</td><td>0</td></tr>\n",
       "\t<tr><td>8</td><td>5</td><td>oct</td><td>mon</td><td>84.9</td><td> 32.8</td><td>664.2</td><td> 3.0</td><td>16.7</td><td>47</td><td>4.9</td><td>0.0</td><td>0</td></tr>\n",
       "\t<tr><td>6</td><td>4</td><td>mar</td><td>wed</td><td>89.2</td><td> 27.9</td><td> 70.8</td><td> 6.3</td><td>15.9</td><td>35</td><td>4.0</td><td>0.0</td><td>0</td></tr>\n",
       "\t<tr><td>6</td><td>4</td><td>apr</td><td>sat</td><td>86.3</td><td> 27.4</td><td> 97.1</td><td> 5.1</td><td> 9.3</td><td>44</td><td>4.5</td><td>0.0</td><td>0</td></tr>\n",
       "\t<tr><td>6</td><td>4</td><td>sep</td><td>tue</td><td>91.0</td><td>129.5</td><td>692.6</td><td> 7.0</td><td>18.3</td><td>40</td><td>2.7</td><td>0.0</td><td>0</td></tr>\n",
       "\t<tr><td>5</td><td>4</td><td>sep</td><td>mon</td><td>91.8</td><td> 78.5</td><td>724.3</td><td> 9.2</td><td>19.1</td><td>38</td><td>2.7</td><td>0.0</td><td>0</td></tr>\n",
       "\t<tr><td>7</td><td>4</td><td>jun</td><td>sun</td><td>94.3</td><td> 96.3</td><td>200.0</td><td>56.1</td><td>21.0</td><td>44</td><td>4.5</td><td>0.0</td><td>0</td></tr>\n",
       "\t<tr><td>7</td><td>4</td><td>aug</td><td>sat</td><td>90.2</td><td>110.9</td><td>537.4</td><td> 6.2</td><td>19.5</td><td>43</td><td>5.8</td><td>0.0</td><td>0</td></tr>\n",
       "\t<tr><td>7</td><td>4</td><td>aug</td><td>sat</td><td>93.5</td><td>139.4</td><td>594.2</td><td>20.3</td><td>23.7</td><td>32</td><td>5.8</td><td>0.0</td><td>0</td></tr>\n",
       "\t<tr><td>7</td><td>4</td><td>aug</td><td>sun</td><td>91.4</td><td>142.4</td><td>601.4</td><td>10.6</td><td>16.3</td><td>60</td><td>5.4</td><td>0.0</td><td>0</td></tr>\n",
       "\t<tr><td>7</td><td>4</td><td>sep</td><td>fri</td><td>92.4</td><td>117.9</td><td>668.0</td><td>12.2</td><td>19.0</td><td>34</td><td>5.8</td><td>0.0</td><td>0</td></tr>\n",
       "\t<tr><td>7</td><td>4</td><td>sep</td><td>mon</td><td>90.9</td><td>126.5</td><td>686.5</td><td> 7.0</td><td>19.4</td><td>48</td><td>1.3</td><td>0.0</td><td>0</td></tr>\n",
       "\t<tr><td>6</td><td>3</td><td>sep</td><td>sat</td><td>93.4</td><td>145.4</td><td>721.4</td><td> 8.1</td><td>30.2</td><td>24</td><td>2.7</td><td>0.0</td><td>0</td></tr>\n",
       "\t<tr><td>6</td><td>3</td><td>sep</td><td>sun</td><td>93.5</td><td>149.3</td><td>728.6</td><td> 8.1</td><td>22.8</td><td>39</td><td>3.6</td><td>0.0</td><td>0</td></tr>\n",
       "\t<tr><td>...</td><td>...</td><td>...</td><td>...</td><td>...</td><td>...</td><td>...</td><td>...</td><td>...</td><td>...</td><td>...</td><td>...</td><td>...</td></tr>\n",
       "\t<tr><td>5</td><td>4</td><td>aug</td><td>tue</td><td>95.1</td><td>141.3</td><td>605.8</td><td>17.7</td><td>26.4</td><td>34</td><td>3.6</td><td>0.0</td><td>16.40</td></tr>\n",
       "\t<tr><td>4</td><td>4</td><td>aug</td><td>tue</td><td>95.1</td><td>141.3</td><td>605.8</td><td>17.7</td><td>19.4</td><td>71</td><td>7.6</td><td>0.0</td><td>46.70</td></tr>\n",
       "\t<tr><td>4</td><td>4</td><td>aug</td><td>wed</td><td>95.1</td><td>141.3</td><td>605.8</td><td>17.7</td><td>20.6</td><td>58</td><td>1.3</td><td>0.0</td><td> 0.00</td></tr>\n",
       "\t<tr><td>4</td><td>4</td><td>aug</td><td>wed</td><td>95.1</td><td>141.3</td><td>605.8</td><td>17.7</td><td>28.7</td><td>33</td><td>4.0</td><td>0.0</td><td> 0.00</td></tr>\n",
       "\t<tr><td>4</td><td>4</td><td>aug</td><td>thu</td><td>95.8</td><td>152.0</td><td>624.1</td><td>13.8</td><td>32.4</td><td>21</td><td>4.5</td><td>0.0</td><td> 0.00</td></tr>\n",
       "\t<tr><td>1</td><td>3</td><td>aug</td><td>fri</td><td>95.9</td><td>158.0</td><td>633.6</td><td>11.3</td><td>32.4</td><td>27</td><td>2.2</td><td>0.0</td><td> 0.00</td></tr>\n",
       "\t<tr><td>1</td><td>3</td><td>aug</td><td>fri</td><td>95.9</td><td>158.0</td><td>633.6</td><td>11.3</td><td>27.5</td><td>29</td><td>4.5</td><td>0.0</td><td>43.32</td></tr>\n",
       "\t<tr><td>6</td><td>6</td><td>aug</td><td>sat</td><td>96.0</td><td>164.0</td><td>643.0</td><td>14.0</td><td>30.8</td><td>30</td><td>4.9</td><td>0.0</td><td> 8.59</td></tr>\n",
       "\t<tr><td>6</td><td>6</td><td>aug</td><td>mon</td><td>96.2</td><td>175.5</td><td>661.8</td><td>16.8</td><td>23.9</td><td>42</td><td>2.2</td><td>0.0</td><td> 0.00</td></tr>\n",
       "\t<tr><td>4</td><td>5</td><td>aug</td><td>mon</td><td>96.2</td><td>175.5</td><td>661.8</td><td>16.8</td><td>32.6</td><td>26</td><td>3.1</td><td>0.0</td><td> 2.77</td></tr>\n",
       "\t<tr><td>3</td><td>4</td><td>aug</td><td>tue</td><td>96.1</td><td>181.1</td><td>671.2</td><td>14.3</td><td>32.3</td><td>27</td><td>2.2</td><td>0.0</td><td>14.68</td></tr>\n",
       "\t<tr><td>6</td><td>5</td><td>aug</td><td>tue</td><td>96.1</td><td>181.1</td><td>671.2</td><td>14.3</td><td>33.3</td><td>26</td><td>2.7</td><td>0.0</td><td>40.54</td></tr>\n",
       "\t<tr><td>7</td><td>5</td><td>aug</td><td>tue</td><td>96.1</td><td>181.1</td><td>671.2</td><td>14.3</td><td>27.3</td><td>63</td><td>4.9</td><td>6.4</td><td>10.82</td></tr>\n",
       "\t<tr><td>8</td><td>6</td><td>aug</td><td>tue</td><td>96.1</td><td>181.1</td><td>671.2</td><td>14.3</td><td>21.6</td><td>65</td><td>4.9</td><td>0.8</td><td> 0.00</td></tr>\n",
       "\t<tr><td>7</td><td>5</td><td>aug</td><td>tue</td><td>96.1</td><td>181.1</td><td>671.2</td><td>14.3</td><td>21.6</td><td>65</td><td>4.9</td><td>0.8</td><td> 0.00</td></tr>\n",
       "\t<tr><td>4</td><td>4</td><td>aug</td><td>tue</td><td>96.1</td><td>181.1</td><td>671.2</td><td>14.3</td><td>20.7</td><td>69</td><td>4.9</td><td>0.4</td><td> 0.00</td></tr>\n",
       "\t<tr><td>2</td><td>4</td><td>aug</td><td>wed</td><td>94.5</td><td>139.4</td><td>689.1</td><td>20.0</td><td>29.2</td><td>30</td><td>4.9</td><td>0.0</td><td> 1.95</td></tr>\n",
       "\t<tr><td>4</td><td>3</td><td>aug</td><td>wed</td><td>94.5</td><td>139.4</td><td>689.1</td><td>20.0</td><td>28.9</td><td>29</td><td>4.9</td><td>0.0</td><td>49.59</td></tr>\n",
       "\t<tr><td>1</td><td>2</td><td>aug</td><td>thu</td><td>91.0</td><td>163.2</td><td>744.4</td><td>10.1</td><td>26.7</td><td>35</td><td>1.8</td><td>0.0</td><td> 5.80</td></tr>\n",
       "\t<tr><td>1</td><td>2</td><td>aug</td><td>fri</td><td>91.0</td><td>166.9</td><td>752.6</td><td> 7.1</td><td>18.5</td><td>73</td><td>8.5</td><td>0.0</td><td> 0.00</td></tr>\n",
       "\t<tr><td>2</td><td>4</td><td>aug</td><td>fri</td><td>91.0</td><td>166.9</td><td>752.6</td><td> 7.1</td><td>25.9</td><td>41</td><td>3.6</td><td>0.0</td><td> 0.00</td></tr>\n",
       "\t<tr><td>1</td><td>2</td><td>aug</td><td>fri</td><td>91.0</td><td>166.9</td><td>752.6</td><td> 7.1</td><td>25.9</td><td>41</td><td>3.6</td><td>0.0</td><td> 0.00</td></tr>\n",
       "\t<tr><td>5</td><td>4</td><td>aug</td><td>fri</td><td>91.0</td><td>166.9</td><td>752.6</td><td> 7.1</td><td>21.1</td><td>71</td><td>7.6</td><td>1.4</td><td> 2.17</td></tr>\n",
       "\t<tr><td>6</td><td>5</td><td>aug</td><td>fri</td><td>91.0</td><td>166.9</td><td>752.6</td><td> 7.1</td><td>18.2</td><td>62</td><td>5.4</td><td>0.0</td><td> 0.43</td></tr>\n",
       "\t<tr><td>8</td><td>6</td><td>aug</td><td>sun</td><td>81.6</td><td> 56.7</td><td>665.6</td><td> 1.9</td><td>27.8</td><td>35</td><td>2.7</td><td>0.0</td><td> 0.00</td></tr>\n",
       "\t<tr><td>4</td><td>3</td><td>aug</td><td>sun</td><td>81.6</td><td> 56.7</td><td>665.6</td><td> 1.9</td><td>27.8</td><td>32</td><td>2.7</td><td>0.0</td><td> 6.44</td></tr>\n",
       "\t<tr><td>2</td><td>4</td><td>aug</td><td>sun</td><td>81.6</td><td> 56.7</td><td>665.6</td><td> 1.9</td><td>21.9</td><td>71</td><td>5.8</td><td>0.0</td><td>54.29</td></tr>\n",
       "\t<tr><td>7</td><td>4</td><td>aug</td><td>sun</td><td>81.6</td><td> 56.7</td><td>665.6</td><td> 1.9</td><td>21.2</td><td>70</td><td>6.7</td><td>0.0</td><td>11.16</td></tr>\n",
       "\t<tr><td>1</td><td>4</td><td>aug</td><td>sat</td><td>94.4</td><td>146.0</td><td>614.7</td><td>11.3</td><td>25.6</td><td>42</td><td>4.0</td><td>0.0</td><td> 0.00</td></tr>\n",
       "\t<tr><td>6</td><td>3</td><td>nov</td><td>tue</td><td>79.5</td><td>  3.0</td><td>106.7</td><td> 1.1</td><td>11.8</td><td>31</td><td>4.5</td><td>0.0</td><td> 0.00</td></tr>\n",
       "</tbody>\n",
       "</table>\n"
      ],
      "text/latex": [
       "A data.frame: 517 × 13\n",
       "\\begin{tabular}{lllllllllllll}\n",
       " X & Y & month & day & FFMC & DMC & DC & ISI & temp & RH & wind & rain & area\\\\\n",
       " <int> & <int> & <chr> & <chr> & <dbl> & <dbl> & <dbl> & <dbl> & <dbl> & <int> & <dbl> & <dbl> & <dbl>\\\\\n",
       "\\hline\n",
       "\t 7 & 5 & mar & fri & 86.2 &  26.2 &  94.3 &  5.1 &  8.2 & 51 & 6.7 & 0.0 & 0\\\\\n",
       "\t 7 & 4 & oct & tue & 90.6 &  35.4 & 669.1 &  6.7 & 18.0 & 33 & 0.9 & 0.0 & 0\\\\\n",
       "\t 7 & 4 & oct & sat & 90.6 &  43.7 & 686.9 &  6.7 & 14.6 & 33 & 1.3 & 0.0 & 0\\\\\n",
       "\t 8 & 6 & mar & fri & 91.7 &  33.3 &  77.5 &  9.0 &  8.3 & 97 & 4.0 & 0.2 & 0\\\\\n",
       "\t 8 & 6 & mar & sun & 89.3 &  51.3 & 102.2 &  9.6 & 11.4 & 99 & 1.8 & 0.0 & 0\\\\\n",
       "\t 8 & 6 & aug & sun & 92.3 &  85.3 & 488.0 & 14.7 & 22.2 & 29 & 5.4 & 0.0 & 0\\\\\n",
       "\t 8 & 6 & aug & mon & 92.3 &  88.9 & 495.6 &  8.5 & 24.1 & 27 & 3.1 & 0.0 & 0\\\\\n",
       "\t 8 & 6 & aug & mon & 91.5 & 145.4 & 608.2 & 10.7 &  8.0 & 86 & 2.2 & 0.0 & 0\\\\\n",
       "\t 8 & 6 & sep & tue & 91.0 & 129.5 & 692.6 &  7.0 & 13.1 & 63 & 5.4 & 0.0 & 0\\\\\n",
       "\t 7 & 5 & sep & sat & 92.5 &  88.0 & 698.6 &  7.1 & 22.8 & 40 & 4.0 & 0.0 & 0\\\\\n",
       "\t 7 & 5 & sep & sat & 92.5 &  88.0 & 698.6 &  7.1 & 17.8 & 51 & 7.2 & 0.0 & 0\\\\\n",
       "\t 7 & 5 & sep & sat & 92.8 &  73.2 & 713.0 & 22.6 & 19.3 & 38 & 4.0 & 0.0 & 0\\\\\n",
       "\t 6 & 5 & aug & fri & 63.5 &  70.8 & 665.3 &  0.8 & 17.0 & 72 & 6.7 & 0.0 & 0\\\\\n",
       "\t 6 & 5 & sep & mon & 90.9 & 126.5 & 686.5 &  7.0 & 21.3 & 42 & 2.2 & 0.0 & 0\\\\\n",
       "\t 6 & 5 & sep & wed & 92.9 & 133.3 & 699.6 &  9.2 & 26.4 & 21 & 4.5 & 0.0 & 0\\\\\n",
       "\t 6 & 5 & sep & fri & 93.3 & 141.2 & 713.9 & 13.9 & 22.9 & 44 & 5.4 & 0.0 & 0\\\\\n",
       "\t 5 & 5 & mar & sat & 91.7 &  35.8 &  80.8 &  7.8 & 15.1 & 27 & 5.4 & 0.0 & 0\\\\\n",
       "\t 8 & 5 & oct & mon & 84.9 &  32.8 & 664.2 &  3.0 & 16.7 & 47 & 4.9 & 0.0 & 0\\\\\n",
       "\t 6 & 4 & mar & wed & 89.2 &  27.9 &  70.8 &  6.3 & 15.9 & 35 & 4.0 & 0.0 & 0\\\\\n",
       "\t 6 & 4 & apr & sat & 86.3 &  27.4 &  97.1 &  5.1 &  9.3 & 44 & 4.5 & 0.0 & 0\\\\\n",
       "\t 6 & 4 & sep & tue & 91.0 & 129.5 & 692.6 &  7.0 & 18.3 & 40 & 2.7 & 0.0 & 0\\\\\n",
       "\t 5 & 4 & sep & mon & 91.8 &  78.5 & 724.3 &  9.2 & 19.1 & 38 & 2.7 & 0.0 & 0\\\\\n",
       "\t 7 & 4 & jun & sun & 94.3 &  96.3 & 200.0 & 56.1 & 21.0 & 44 & 4.5 & 0.0 & 0\\\\\n",
       "\t 7 & 4 & aug & sat & 90.2 & 110.9 & 537.4 &  6.2 & 19.5 & 43 & 5.8 & 0.0 & 0\\\\\n",
       "\t 7 & 4 & aug & sat & 93.5 & 139.4 & 594.2 & 20.3 & 23.7 & 32 & 5.8 & 0.0 & 0\\\\\n",
       "\t 7 & 4 & aug & sun & 91.4 & 142.4 & 601.4 & 10.6 & 16.3 & 60 & 5.4 & 0.0 & 0\\\\\n",
       "\t 7 & 4 & sep & fri & 92.4 & 117.9 & 668.0 & 12.2 & 19.0 & 34 & 5.8 & 0.0 & 0\\\\\n",
       "\t 7 & 4 & sep & mon & 90.9 & 126.5 & 686.5 &  7.0 & 19.4 & 48 & 1.3 & 0.0 & 0\\\\\n",
       "\t 6 & 3 & sep & sat & 93.4 & 145.4 & 721.4 &  8.1 & 30.2 & 24 & 2.7 & 0.0 & 0\\\\\n",
       "\t 6 & 3 & sep & sun & 93.5 & 149.3 & 728.6 &  8.1 & 22.8 & 39 & 3.6 & 0.0 & 0\\\\\n",
       "\t ... & ... & ... & ... & ... & ... & ... & ... & ... & ... & ... & ... & ...\\\\\n",
       "\t 5 & 4 & aug & tue & 95.1 & 141.3 & 605.8 & 17.7 & 26.4 & 34 & 3.6 & 0.0 & 16.40\\\\\n",
       "\t 4 & 4 & aug & tue & 95.1 & 141.3 & 605.8 & 17.7 & 19.4 & 71 & 7.6 & 0.0 & 46.70\\\\\n",
       "\t 4 & 4 & aug & wed & 95.1 & 141.3 & 605.8 & 17.7 & 20.6 & 58 & 1.3 & 0.0 &  0.00\\\\\n",
       "\t 4 & 4 & aug & wed & 95.1 & 141.3 & 605.8 & 17.7 & 28.7 & 33 & 4.0 & 0.0 &  0.00\\\\\n",
       "\t 4 & 4 & aug & thu & 95.8 & 152.0 & 624.1 & 13.8 & 32.4 & 21 & 4.5 & 0.0 &  0.00\\\\\n",
       "\t 1 & 3 & aug & fri & 95.9 & 158.0 & 633.6 & 11.3 & 32.4 & 27 & 2.2 & 0.0 &  0.00\\\\\n",
       "\t 1 & 3 & aug & fri & 95.9 & 158.0 & 633.6 & 11.3 & 27.5 & 29 & 4.5 & 0.0 & 43.32\\\\\n",
       "\t 6 & 6 & aug & sat & 96.0 & 164.0 & 643.0 & 14.0 & 30.8 & 30 & 4.9 & 0.0 &  8.59\\\\\n",
       "\t 6 & 6 & aug & mon & 96.2 & 175.5 & 661.8 & 16.8 & 23.9 & 42 & 2.2 & 0.0 &  0.00\\\\\n",
       "\t 4 & 5 & aug & mon & 96.2 & 175.5 & 661.8 & 16.8 & 32.6 & 26 & 3.1 & 0.0 &  2.77\\\\\n",
       "\t 3 & 4 & aug & tue & 96.1 & 181.1 & 671.2 & 14.3 & 32.3 & 27 & 2.2 & 0.0 & 14.68\\\\\n",
       "\t 6 & 5 & aug & tue & 96.1 & 181.1 & 671.2 & 14.3 & 33.3 & 26 & 2.7 & 0.0 & 40.54\\\\\n",
       "\t 7 & 5 & aug & tue & 96.1 & 181.1 & 671.2 & 14.3 & 27.3 & 63 & 4.9 & 6.4 & 10.82\\\\\n",
       "\t 8 & 6 & aug & tue & 96.1 & 181.1 & 671.2 & 14.3 & 21.6 & 65 & 4.9 & 0.8 &  0.00\\\\\n",
       "\t 7 & 5 & aug & tue & 96.1 & 181.1 & 671.2 & 14.3 & 21.6 & 65 & 4.9 & 0.8 &  0.00\\\\\n",
       "\t 4 & 4 & aug & tue & 96.1 & 181.1 & 671.2 & 14.3 & 20.7 & 69 & 4.9 & 0.4 &  0.00\\\\\n",
       "\t 2 & 4 & aug & wed & 94.5 & 139.4 & 689.1 & 20.0 & 29.2 & 30 & 4.9 & 0.0 &  1.95\\\\\n",
       "\t 4 & 3 & aug & wed & 94.5 & 139.4 & 689.1 & 20.0 & 28.9 & 29 & 4.9 & 0.0 & 49.59\\\\\n",
       "\t 1 & 2 & aug & thu & 91.0 & 163.2 & 744.4 & 10.1 & 26.7 & 35 & 1.8 & 0.0 &  5.80\\\\\n",
       "\t 1 & 2 & aug & fri & 91.0 & 166.9 & 752.6 &  7.1 & 18.5 & 73 & 8.5 & 0.0 &  0.00\\\\\n",
       "\t 2 & 4 & aug & fri & 91.0 & 166.9 & 752.6 &  7.1 & 25.9 & 41 & 3.6 & 0.0 &  0.00\\\\\n",
       "\t 1 & 2 & aug & fri & 91.0 & 166.9 & 752.6 &  7.1 & 25.9 & 41 & 3.6 & 0.0 &  0.00\\\\\n",
       "\t 5 & 4 & aug & fri & 91.0 & 166.9 & 752.6 &  7.1 & 21.1 & 71 & 7.6 & 1.4 &  2.17\\\\\n",
       "\t 6 & 5 & aug & fri & 91.0 & 166.9 & 752.6 &  7.1 & 18.2 & 62 & 5.4 & 0.0 &  0.43\\\\\n",
       "\t 8 & 6 & aug & sun & 81.6 &  56.7 & 665.6 &  1.9 & 27.8 & 35 & 2.7 & 0.0 &  0.00\\\\\n",
       "\t 4 & 3 & aug & sun & 81.6 &  56.7 & 665.6 &  1.9 & 27.8 & 32 & 2.7 & 0.0 &  6.44\\\\\n",
       "\t 2 & 4 & aug & sun & 81.6 &  56.7 & 665.6 &  1.9 & 21.9 & 71 & 5.8 & 0.0 & 54.29\\\\\n",
       "\t 7 & 4 & aug & sun & 81.6 &  56.7 & 665.6 &  1.9 & 21.2 & 70 & 6.7 & 0.0 & 11.16\\\\\n",
       "\t 1 & 4 & aug & sat & 94.4 & 146.0 & 614.7 & 11.3 & 25.6 & 42 & 4.0 & 0.0 &  0.00\\\\\n",
       "\t 6 & 3 & nov & tue & 79.5 &   3.0 & 106.7 &  1.1 & 11.8 & 31 & 4.5 & 0.0 &  0.00\\\\\n",
       "\\end{tabular}\n"
      ],
      "text/markdown": [
       "\n",
       "A data.frame: 517 × 13\n",
       "\n",
       "| X &lt;int&gt; | Y &lt;int&gt; | month &lt;chr&gt; | day &lt;chr&gt; | FFMC &lt;dbl&gt; | DMC &lt;dbl&gt; | DC &lt;dbl&gt; | ISI &lt;dbl&gt; | temp &lt;dbl&gt; | RH &lt;int&gt; | wind &lt;dbl&gt; | rain &lt;dbl&gt; | area &lt;dbl&gt; |\n",
       "|---|---|---|---|---|---|---|---|---|---|---|---|---|\n",
       "| 7 | 5 | mar | fri | 86.2 |  26.2 |  94.3 |  5.1 |  8.2 | 51 | 6.7 | 0.0 | 0 |\n",
       "| 7 | 4 | oct | tue | 90.6 |  35.4 | 669.1 |  6.7 | 18.0 | 33 | 0.9 | 0.0 | 0 |\n",
       "| 7 | 4 | oct | sat | 90.6 |  43.7 | 686.9 |  6.7 | 14.6 | 33 | 1.3 | 0.0 | 0 |\n",
       "| 8 | 6 | mar | fri | 91.7 |  33.3 |  77.5 |  9.0 |  8.3 | 97 | 4.0 | 0.2 | 0 |\n",
       "| 8 | 6 | mar | sun | 89.3 |  51.3 | 102.2 |  9.6 | 11.4 | 99 | 1.8 | 0.0 | 0 |\n",
       "| 8 | 6 | aug | sun | 92.3 |  85.3 | 488.0 | 14.7 | 22.2 | 29 | 5.4 | 0.0 | 0 |\n",
       "| 8 | 6 | aug | mon | 92.3 |  88.9 | 495.6 |  8.5 | 24.1 | 27 | 3.1 | 0.0 | 0 |\n",
       "| 8 | 6 | aug | mon | 91.5 | 145.4 | 608.2 | 10.7 |  8.0 | 86 | 2.2 | 0.0 | 0 |\n",
       "| 8 | 6 | sep | tue | 91.0 | 129.5 | 692.6 |  7.0 | 13.1 | 63 | 5.4 | 0.0 | 0 |\n",
       "| 7 | 5 | sep | sat | 92.5 |  88.0 | 698.6 |  7.1 | 22.8 | 40 | 4.0 | 0.0 | 0 |\n",
       "| 7 | 5 | sep | sat | 92.5 |  88.0 | 698.6 |  7.1 | 17.8 | 51 | 7.2 | 0.0 | 0 |\n",
       "| 7 | 5 | sep | sat | 92.8 |  73.2 | 713.0 | 22.6 | 19.3 | 38 | 4.0 | 0.0 | 0 |\n",
       "| 6 | 5 | aug | fri | 63.5 |  70.8 | 665.3 |  0.8 | 17.0 | 72 | 6.7 | 0.0 | 0 |\n",
       "| 6 | 5 | sep | mon | 90.9 | 126.5 | 686.5 |  7.0 | 21.3 | 42 | 2.2 | 0.0 | 0 |\n",
       "| 6 | 5 | sep | wed | 92.9 | 133.3 | 699.6 |  9.2 | 26.4 | 21 | 4.5 | 0.0 | 0 |\n",
       "| 6 | 5 | sep | fri | 93.3 | 141.2 | 713.9 | 13.9 | 22.9 | 44 | 5.4 | 0.0 | 0 |\n",
       "| 5 | 5 | mar | sat | 91.7 |  35.8 |  80.8 |  7.8 | 15.1 | 27 | 5.4 | 0.0 | 0 |\n",
       "| 8 | 5 | oct | mon | 84.9 |  32.8 | 664.2 |  3.0 | 16.7 | 47 | 4.9 | 0.0 | 0 |\n",
       "| 6 | 4 | mar | wed | 89.2 |  27.9 |  70.8 |  6.3 | 15.9 | 35 | 4.0 | 0.0 | 0 |\n",
       "| 6 | 4 | apr | sat | 86.3 |  27.4 |  97.1 |  5.1 |  9.3 | 44 | 4.5 | 0.0 | 0 |\n",
       "| 6 | 4 | sep | tue | 91.0 | 129.5 | 692.6 |  7.0 | 18.3 | 40 | 2.7 | 0.0 | 0 |\n",
       "| 5 | 4 | sep | mon | 91.8 |  78.5 | 724.3 |  9.2 | 19.1 | 38 | 2.7 | 0.0 | 0 |\n",
       "| 7 | 4 | jun | sun | 94.3 |  96.3 | 200.0 | 56.1 | 21.0 | 44 | 4.5 | 0.0 | 0 |\n",
       "| 7 | 4 | aug | sat | 90.2 | 110.9 | 537.4 |  6.2 | 19.5 | 43 | 5.8 | 0.0 | 0 |\n",
       "| 7 | 4 | aug | sat | 93.5 | 139.4 | 594.2 | 20.3 | 23.7 | 32 | 5.8 | 0.0 | 0 |\n",
       "| 7 | 4 | aug | sun | 91.4 | 142.4 | 601.4 | 10.6 | 16.3 | 60 | 5.4 | 0.0 | 0 |\n",
       "| 7 | 4 | sep | fri | 92.4 | 117.9 | 668.0 | 12.2 | 19.0 | 34 | 5.8 | 0.0 | 0 |\n",
       "| 7 | 4 | sep | mon | 90.9 | 126.5 | 686.5 |  7.0 | 19.4 | 48 | 1.3 | 0.0 | 0 |\n",
       "| 6 | 3 | sep | sat | 93.4 | 145.4 | 721.4 |  8.1 | 30.2 | 24 | 2.7 | 0.0 | 0 |\n",
       "| 6 | 3 | sep | sun | 93.5 | 149.3 | 728.6 |  8.1 | 22.8 | 39 | 3.6 | 0.0 | 0 |\n",
       "| ... | ... | ... | ... | ... | ... | ... | ... | ... | ... | ... | ... | ... |\n",
       "| 5 | 4 | aug | tue | 95.1 | 141.3 | 605.8 | 17.7 | 26.4 | 34 | 3.6 | 0.0 | 16.40 |\n",
       "| 4 | 4 | aug | tue | 95.1 | 141.3 | 605.8 | 17.7 | 19.4 | 71 | 7.6 | 0.0 | 46.70 |\n",
       "| 4 | 4 | aug | wed | 95.1 | 141.3 | 605.8 | 17.7 | 20.6 | 58 | 1.3 | 0.0 |  0.00 |\n",
       "| 4 | 4 | aug | wed | 95.1 | 141.3 | 605.8 | 17.7 | 28.7 | 33 | 4.0 | 0.0 |  0.00 |\n",
       "| 4 | 4 | aug | thu | 95.8 | 152.0 | 624.1 | 13.8 | 32.4 | 21 | 4.5 | 0.0 |  0.00 |\n",
       "| 1 | 3 | aug | fri | 95.9 | 158.0 | 633.6 | 11.3 | 32.4 | 27 | 2.2 | 0.0 |  0.00 |\n",
       "| 1 | 3 | aug | fri | 95.9 | 158.0 | 633.6 | 11.3 | 27.5 | 29 | 4.5 | 0.0 | 43.32 |\n",
       "| 6 | 6 | aug | sat | 96.0 | 164.0 | 643.0 | 14.0 | 30.8 | 30 | 4.9 | 0.0 |  8.59 |\n",
       "| 6 | 6 | aug | mon | 96.2 | 175.5 | 661.8 | 16.8 | 23.9 | 42 | 2.2 | 0.0 |  0.00 |\n",
       "| 4 | 5 | aug | mon | 96.2 | 175.5 | 661.8 | 16.8 | 32.6 | 26 | 3.1 | 0.0 |  2.77 |\n",
       "| 3 | 4 | aug | tue | 96.1 | 181.1 | 671.2 | 14.3 | 32.3 | 27 | 2.2 | 0.0 | 14.68 |\n",
       "| 6 | 5 | aug | tue | 96.1 | 181.1 | 671.2 | 14.3 | 33.3 | 26 | 2.7 | 0.0 | 40.54 |\n",
       "| 7 | 5 | aug | tue | 96.1 | 181.1 | 671.2 | 14.3 | 27.3 | 63 | 4.9 | 6.4 | 10.82 |\n",
       "| 8 | 6 | aug | tue | 96.1 | 181.1 | 671.2 | 14.3 | 21.6 | 65 | 4.9 | 0.8 |  0.00 |\n",
       "| 7 | 5 | aug | tue | 96.1 | 181.1 | 671.2 | 14.3 | 21.6 | 65 | 4.9 | 0.8 |  0.00 |\n",
       "| 4 | 4 | aug | tue | 96.1 | 181.1 | 671.2 | 14.3 | 20.7 | 69 | 4.9 | 0.4 |  0.00 |\n",
       "| 2 | 4 | aug | wed | 94.5 | 139.4 | 689.1 | 20.0 | 29.2 | 30 | 4.9 | 0.0 |  1.95 |\n",
       "| 4 | 3 | aug | wed | 94.5 | 139.4 | 689.1 | 20.0 | 28.9 | 29 | 4.9 | 0.0 | 49.59 |\n",
       "| 1 | 2 | aug | thu | 91.0 | 163.2 | 744.4 | 10.1 | 26.7 | 35 | 1.8 | 0.0 |  5.80 |\n",
       "| 1 | 2 | aug | fri | 91.0 | 166.9 | 752.6 |  7.1 | 18.5 | 73 | 8.5 | 0.0 |  0.00 |\n",
       "| 2 | 4 | aug | fri | 91.0 | 166.9 | 752.6 |  7.1 | 25.9 | 41 | 3.6 | 0.0 |  0.00 |\n",
       "| 1 | 2 | aug | fri | 91.0 | 166.9 | 752.6 |  7.1 | 25.9 | 41 | 3.6 | 0.0 |  0.00 |\n",
       "| 5 | 4 | aug | fri | 91.0 | 166.9 | 752.6 |  7.1 | 21.1 | 71 | 7.6 | 1.4 |  2.17 |\n",
       "| 6 | 5 | aug | fri | 91.0 | 166.9 | 752.6 |  7.1 | 18.2 | 62 | 5.4 | 0.0 |  0.43 |\n",
       "| 8 | 6 | aug | sun | 81.6 |  56.7 | 665.6 |  1.9 | 27.8 | 35 | 2.7 | 0.0 |  0.00 |\n",
       "| 4 | 3 | aug | sun | 81.6 |  56.7 | 665.6 |  1.9 | 27.8 | 32 | 2.7 | 0.0 |  6.44 |\n",
       "| 2 | 4 | aug | sun | 81.6 |  56.7 | 665.6 |  1.9 | 21.9 | 71 | 5.8 | 0.0 | 54.29 |\n",
       "| 7 | 4 | aug | sun | 81.6 |  56.7 | 665.6 |  1.9 | 21.2 | 70 | 6.7 | 0.0 | 11.16 |\n",
       "| 1 | 4 | aug | sat | 94.4 | 146.0 | 614.7 | 11.3 | 25.6 | 42 | 4.0 | 0.0 |  0.00 |\n",
       "| 6 | 3 | nov | tue | 79.5 |   3.0 | 106.7 |  1.1 | 11.8 | 31 | 4.5 | 0.0 |  0.00 |\n",
       "\n"
      ],
      "text/plain": [
       "    X   Y   month day FFMC DMC   DC    ISI  temp RH  wind rain area \n",
       "1   7   5   mar   fri 86.2  26.2  94.3  5.1  8.2 51  6.7  0.0  0    \n",
       "2   7   4   oct   tue 90.6  35.4 669.1  6.7 18.0 33  0.9  0.0  0    \n",
       "3   7   4   oct   sat 90.6  43.7 686.9  6.7 14.6 33  1.3  0.0  0    \n",
       "4   8   6   mar   fri 91.7  33.3  77.5  9.0  8.3 97  4.0  0.2  0    \n",
       "5   8   6   mar   sun 89.3  51.3 102.2  9.6 11.4 99  1.8  0.0  0    \n",
       "6   8   6   aug   sun 92.3  85.3 488.0 14.7 22.2 29  5.4  0.0  0    \n",
       "7   8   6   aug   mon 92.3  88.9 495.6  8.5 24.1 27  3.1  0.0  0    \n",
       "8   8   6   aug   mon 91.5 145.4 608.2 10.7  8.0 86  2.2  0.0  0    \n",
       "9   8   6   sep   tue 91.0 129.5 692.6  7.0 13.1 63  5.4  0.0  0    \n",
       "10  7   5   sep   sat 92.5  88.0 698.6  7.1 22.8 40  4.0  0.0  0    \n",
       "11  7   5   sep   sat 92.5  88.0 698.6  7.1 17.8 51  7.2  0.0  0    \n",
       "12  7   5   sep   sat 92.8  73.2 713.0 22.6 19.3 38  4.0  0.0  0    \n",
       "13  6   5   aug   fri 63.5  70.8 665.3  0.8 17.0 72  6.7  0.0  0    \n",
       "14  6   5   sep   mon 90.9 126.5 686.5  7.0 21.3 42  2.2  0.0  0    \n",
       "15  6   5   sep   wed 92.9 133.3 699.6  9.2 26.4 21  4.5  0.0  0    \n",
       "16  6   5   sep   fri 93.3 141.2 713.9 13.9 22.9 44  5.4  0.0  0    \n",
       "17  5   5   mar   sat 91.7  35.8  80.8  7.8 15.1 27  5.4  0.0  0    \n",
       "18  8   5   oct   mon 84.9  32.8 664.2  3.0 16.7 47  4.9  0.0  0    \n",
       "19  6   4   mar   wed 89.2  27.9  70.8  6.3 15.9 35  4.0  0.0  0    \n",
       "20  6   4   apr   sat 86.3  27.4  97.1  5.1  9.3 44  4.5  0.0  0    \n",
       "21  6   4   sep   tue 91.0 129.5 692.6  7.0 18.3 40  2.7  0.0  0    \n",
       "22  5   4   sep   mon 91.8  78.5 724.3  9.2 19.1 38  2.7  0.0  0    \n",
       "23  7   4   jun   sun 94.3  96.3 200.0 56.1 21.0 44  4.5  0.0  0    \n",
       "24  7   4   aug   sat 90.2 110.9 537.4  6.2 19.5 43  5.8  0.0  0    \n",
       "25  7   4   aug   sat 93.5 139.4 594.2 20.3 23.7 32  5.8  0.0  0    \n",
       "26  7   4   aug   sun 91.4 142.4 601.4 10.6 16.3 60  5.4  0.0  0    \n",
       "27  7   4   sep   fri 92.4 117.9 668.0 12.2 19.0 34  5.8  0.0  0    \n",
       "28  7   4   sep   mon 90.9 126.5 686.5  7.0 19.4 48  1.3  0.0  0    \n",
       "29  6   3   sep   sat 93.4 145.4 721.4  8.1 30.2 24  2.7  0.0  0    \n",
       "30  6   3   sep   sun 93.5 149.3 728.6  8.1 22.8 39  3.6  0.0  0    \n",
       "... ... ... ...   ... ...  ...   ...   ...  ...  ... ...  ...  ...  \n",
       "488 5   4   aug   tue 95.1 141.3 605.8 17.7 26.4 34  3.6  0.0  16.40\n",
       "489 4   4   aug   tue 95.1 141.3 605.8 17.7 19.4 71  7.6  0.0  46.70\n",
       "490 4   4   aug   wed 95.1 141.3 605.8 17.7 20.6 58  1.3  0.0   0.00\n",
       "491 4   4   aug   wed 95.1 141.3 605.8 17.7 28.7 33  4.0  0.0   0.00\n",
       "492 4   4   aug   thu 95.8 152.0 624.1 13.8 32.4 21  4.5  0.0   0.00\n",
       "493 1   3   aug   fri 95.9 158.0 633.6 11.3 32.4 27  2.2  0.0   0.00\n",
       "494 1   3   aug   fri 95.9 158.0 633.6 11.3 27.5 29  4.5  0.0  43.32\n",
       "495 6   6   aug   sat 96.0 164.0 643.0 14.0 30.8 30  4.9  0.0   8.59\n",
       "496 6   6   aug   mon 96.2 175.5 661.8 16.8 23.9 42  2.2  0.0   0.00\n",
       "497 4   5   aug   mon 96.2 175.5 661.8 16.8 32.6 26  3.1  0.0   2.77\n",
       "498 3   4   aug   tue 96.1 181.1 671.2 14.3 32.3 27  2.2  0.0  14.68\n",
       "499 6   5   aug   tue 96.1 181.1 671.2 14.3 33.3 26  2.7  0.0  40.54\n",
       "500 7   5   aug   tue 96.1 181.1 671.2 14.3 27.3 63  4.9  6.4  10.82\n",
       "501 8   6   aug   tue 96.1 181.1 671.2 14.3 21.6 65  4.9  0.8   0.00\n",
       "502 7   5   aug   tue 96.1 181.1 671.2 14.3 21.6 65  4.9  0.8   0.00\n",
       "503 4   4   aug   tue 96.1 181.1 671.2 14.3 20.7 69  4.9  0.4   0.00\n",
       "504 2   4   aug   wed 94.5 139.4 689.1 20.0 29.2 30  4.9  0.0   1.95\n",
       "505 4   3   aug   wed 94.5 139.4 689.1 20.0 28.9 29  4.9  0.0  49.59\n",
       "506 1   2   aug   thu 91.0 163.2 744.4 10.1 26.7 35  1.8  0.0   5.80\n",
       "507 1   2   aug   fri 91.0 166.9 752.6  7.1 18.5 73  8.5  0.0   0.00\n",
       "508 2   4   aug   fri 91.0 166.9 752.6  7.1 25.9 41  3.6  0.0   0.00\n",
       "509 1   2   aug   fri 91.0 166.9 752.6  7.1 25.9 41  3.6  0.0   0.00\n",
       "510 5   4   aug   fri 91.0 166.9 752.6  7.1 21.1 71  7.6  1.4   2.17\n",
       "511 6   5   aug   fri 91.0 166.9 752.6  7.1 18.2 62  5.4  0.0   0.43\n",
       "512 8   6   aug   sun 81.6  56.7 665.6  1.9 27.8 35  2.7  0.0   0.00\n",
       "513 4   3   aug   sun 81.6  56.7 665.6  1.9 27.8 32  2.7  0.0   6.44\n",
       "514 2   4   aug   sun 81.6  56.7 665.6  1.9 21.9 71  5.8  0.0  54.29\n",
       "515 7   4   aug   sun 81.6  56.7 665.6  1.9 21.2 70  6.7  0.0  11.16\n",
       "516 1   4   aug   sat 94.4 146.0 614.7 11.3 25.6 42  4.0  0.0   0.00\n",
       "517 6   3   nov   tue 79.5   3.0 106.7  1.1 11.8 31  4.5  0.0   0.00"
      ]
     },
     "metadata": {},
     "output_type": "display_data"
    },
    {
     "data": {
      "text/html": [
       "<table>\n",
       "<caption>A data.frame: 6 × 13</caption>\n",
       "<thead>\n",
       "\t<tr><th></th><th scope=col>X</th><th scope=col>Y</th><th scope=col>month</th><th scope=col>day</th><th scope=col>FFMC</th><th scope=col>DMC</th><th scope=col>DC</th><th scope=col>ISI</th><th scope=col>temp</th><th scope=col>RH</th><th scope=col>wind</th><th scope=col>rain</th><th scope=col>area</th></tr>\n",
       "\t<tr><th></th><th scope=col>&lt;int&gt;</th><th scope=col>&lt;int&gt;</th><th scope=col>&lt;chr&gt;</th><th scope=col>&lt;chr&gt;</th><th scope=col>&lt;dbl&gt;</th><th scope=col>&lt;dbl&gt;</th><th scope=col>&lt;dbl&gt;</th><th scope=col>&lt;dbl&gt;</th><th scope=col>&lt;dbl&gt;</th><th scope=col>&lt;int&gt;</th><th scope=col>&lt;dbl&gt;</th><th scope=col>&lt;dbl&gt;</th><th scope=col>&lt;dbl&gt;</th></tr>\n",
       "</thead>\n",
       "<tbody>\n",
       "\t<tr><th scope=row>1</th><td>7</td><td>5</td><td>mar</td><td>fri</td><td>86.2</td><td>26.2</td><td> 94.3</td><td> 5.1</td><td> 8.2</td><td>51</td><td>6.7</td><td>0.0</td><td>0</td></tr>\n",
       "\t<tr><th scope=row>2</th><td>7</td><td>4</td><td>oct</td><td>tue</td><td>90.6</td><td>35.4</td><td>669.1</td><td> 6.7</td><td>18.0</td><td>33</td><td>0.9</td><td>0.0</td><td>0</td></tr>\n",
       "\t<tr><th scope=row>3</th><td>7</td><td>4</td><td>oct</td><td>sat</td><td>90.6</td><td>43.7</td><td>686.9</td><td> 6.7</td><td>14.6</td><td>33</td><td>1.3</td><td>0.0</td><td>0</td></tr>\n",
       "\t<tr><th scope=row>4</th><td>8</td><td>6</td><td>mar</td><td>fri</td><td>91.7</td><td>33.3</td><td> 77.5</td><td> 9.0</td><td> 8.3</td><td>97</td><td>4.0</td><td>0.2</td><td>0</td></tr>\n",
       "\t<tr><th scope=row>5</th><td>8</td><td>6</td><td>mar</td><td>sun</td><td>89.3</td><td>51.3</td><td>102.2</td><td> 9.6</td><td>11.4</td><td>99</td><td>1.8</td><td>0.0</td><td>0</td></tr>\n",
       "\t<tr><th scope=row>6</th><td>8</td><td>6</td><td>aug</td><td>sun</td><td>92.3</td><td>85.3</td><td>488.0</td><td>14.7</td><td>22.2</td><td>29</td><td>5.4</td><td>0.0</td><td>0</td></tr>\n",
       "</tbody>\n",
       "</table>\n"
      ],
      "text/latex": [
       "A data.frame: 6 × 13\n",
       "\\begin{tabular}{r|lllllllllllll}\n",
       "  & X & Y & month & day & FFMC & DMC & DC & ISI & temp & RH & wind & rain & area\\\\\n",
       "  & <int> & <int> & <chr> & <chr> & <dbl> & <dbl> & <dbl> & <dbl> & <dbl> & <int> & <dbl> & <dbl> & <dbl>\\\\\n",
       "\\hline\n",
       "\t1 & 7 & 5 & mar & fri & 86.2 & 26.2 &  94.3 &  5.1 &  8.2 & 51 & 6.7 & 0.0 & 0\\\\\n",
       "\t2 & 7 & 4 & oct & tue & 90.6 & 35.4 & 669.1 &  6.7 & 18.0 & 33 & 0.9 & 0.0 & 0\\\\\n",
       "\t3 & 7 & 4 & oct & sat & 90.6 & 43.7 & 686.9 &  6.7 & 14.6 & 33 & 1.3 & 0.0 & 0\\\\\n",
       "\t4 & 8 & 6 & mar & fri & 91.7 & 33.3 &  77.5 &  9.0 &  8.3 & 97 & 4.0 & 0.2 & 0\\\\\n",
       "\t5 & 8 & 6 & mar & sun & 89.3 & 51.3 & 102.2 &  9.6 & 11.4 & 99 & 1.8 & 0.0 & 0\\\\\n",
       "\t6 & 8 & 6 & aug & sun & 92.3 & 85.3 & 488.0 & 14.7 & 22.2 & 29 & 5.4 & 0.0 & 0\\\\\n",
       "\\end{tabular}\n"
      ],
      "text/markdown": [
       "\n",
       "A data.frame: 6 × 13\n",
       "\n",
       "| <!--/--> | X &lt;int&gt; | Y &lt;int&gt; | month &lt;chr&gt; | day &lt;chr&gt; | FFMC &lt;dbl&gt; | DMC &lt;dbl&gt; | DC &lt;dbl&gt; | ISI &lt;dbl&gt; | temp &lt;dbl&gt; | RH &lt;int&gt; | wind &lt;dbl&gt; | rain &lt;dbl&gt; | area &lt;dbl&gt; |\n",
       "|---|---|---|---|---|---|---|---|---|---|---|---|---|---|\n",
       "| 1 | 7 | 5 | mar | fri | 86.2 | 26.2 |  94.3 |  5.1 |  8.2 | 51 | 6.7 | 0.0 | 0 |\n",
       "| 2 | 7 | 4 | oct | tue | 90.6 | 35.4 | 669.1 |  6.7 | 18.0 | 33 | 0.9 | 0.0 | 0 |\n",
       "| 3 | 7 | 4 | oct | sat | 90.6 | 43.7 | 686.9 |  6.7 | 14.6 | 33 | 1.3 | 0.0 | 0 |\n",
       "| 4 | 8 | 6 | mar | fri | 91.7 | 33.3 |  77.5 |  9.0 |  8.3 | 97 | 4.0 | 0.2 | 0 |\n",
       "| 5 | 8 | 6 | mar | sun | 89.3 | 51.3 | 102.2 |  9.6 | 11.4 | 99 | 1.8 | 0.0 | 0 |\n",
       "| 6 | 8 | 6 | aug | sun | 92.3 | 85.3 | 488.0 | 14.7 | 22.2 | 29 | 5.4 | 0.0 | 0 |\n",
       "\n"
      ],
      "text/plain": [
       "  X Y month day FFMC DMC  DC    ISI  temp RH wind rain area\n",
       "1 7 5 mar   fri 86.2 26.2  94.3  5.1  8.2 51 6.7  0.0  0   \n",
       "2 7 4 oct   tue 90.6 35.4 669.1  6.7 18.0 33 0.9  0.0  0   \n",
       "3 7 4 oct   sat 90.6 43.7 686.9  6.7 14.6 33 1.3  0.0  0   \n",
       "4 8 6 mar   fri 91.7 33.3  77.5  9.0  8.3 97 4.0  0.2  0   \n",
       "5 8 6 mar   sun 89.3 51.3 102.2  9.6 11.4 99 1.8  0.0  0   \n",
       "6 8 6 aug   sun 92.3 85.3 488.0 14.7 22.2 29 5.4  0.0  0   "
      ]
     },
     "metadata": {},
     "output_type": "display_data"
    }
   ],
   "source": [
    "firedata\n",
    "head(firedata)"
   ]
  },
  {
   "cell_type": "code",
   "execution_count": 4,
   "metadata": {
    "scrolled": true
   },
   "outputs": [
    {
     "data": {
      "text/plain": [
       "       X               Y          month               day           \n",
       " Min.   :1.000   Min.   :2.0   Length:517         Length:517        \n",
       " 1st Qu.:3.000   1st Qu.:4.0   Class :character   Class :character  \n",
       " Median :4.000   Median :4.0   Mode  :character   Mode  :character  \n",
       " Mean   :4.669   Mean   :4.3                                        \n",
       " 3rd Qu.:7.000   3rd Qu.:5.0                                        \n",
       " Max.   :9.000   Max.   :9.0                                        \n",
       "      FFMC            DMC              DC             ISI        \n",
       " Min.   :18.70   Min.   :  1.1   Min.   :  7.9   Min.   : 0.000  \n",
       " 1st Qu.:90.20   1st Qu.: 68.6   1st Qu.:437.7   1st Qu.: 6.500  \n",
       " Median :91.60   Median :108.3   Median :664.2   Median : 8.400  \n",
       " Mean   :90.64   Mean   :110.9   Mean   :547.9   Mean   : 9.022  \n",
       " 3rd Qu.:92.90   3rd Qu.:142.4   3rd Qu.:713.9   3rd Qu.:10.800  \n",
       " Max.   :96.20   Max.   :291.3   Max.   :860.6   Max.   :56.100  \n",
       "      temp             RH              wind            rain        \n",
       " Min.   : 2.20   Min.   : 15.00   Min.   :0.400   Min.   :0.00000  \n",
       " 1st Qu.:15.50   1st Qu.: 33.00   1st Qu.:2.700   1st Qu.:0.00000  \n",
       " Median :19.30   Median : 42.00   Median :4.000   Median :0.00000  \n",
       " Mean   :18.89   Mean   : 44.29   Mean   :4.018   Mean   :0.02166  \n",
       " 3rd Qu.:22.80   3rd Qu.: 53.00   3rd Qu.:4.900   3rd Qu.:0.00000  \n",
       " Max.   :33.30   Max.   :100.00   Max.   :9.400   Max.   :6.40000  \n",
       "      area        \n",
       " Min.   :   0.00  \n",
       " 1st Qu.:   0.00  \n",
       " Median :   0.52  \n",
       " Mean   :  12.85  \n",
       " 3rd Qu.:   6.57  \n",
       " Max.   :1090.84  "
      ]
     },
     "metadata": {},
     "output_type": "display_data"
    }
   ],
   "source": [
    "summary(firedata)"
   ]
  },
  {
   "cell_type": "code",
   "execution_count": 5,
   "metadata": {},
   "outputs": [
    {
     "data": {
      "text/html": [
       "0"
      ],
      "text/latex": [
       "0"
      ],
      "text/markdown": [
       "0"
      ],
      "text/plain": [
       "[1] 0"
      ]
     },
     "metadata": {},
     "output_type": "display_data"
    }
   ],
   "source": [
    "sum(is.na(firedata))"
   ]
  },
  {
   "cell_type": "code",
   "execution_count": 6,
   "metadata": {},
   "outputs": [
    {
     "data": {
      "text/html": [
       "4"
      ],
      "text/latex": [
       "4"
      ],
      "text/markdown": [
       "4"
      ],
      "text/plain": [
       "[1] 4"
      ]
     },
     "metadata": {},
     "output_type": "display_data"
    }
   ],
   "source": [
    "sum(duplicated(firedata))"
   ]
  },
  {
   "cell_type": "code",
   "execution_count": 7,
   "metadata": {},
   "outputs": [],
   "source": [
    "firedata <- unique(firedata)"
   ]
  },
  {
   "cell_type": "code",
   "execution_count": 8,
   "metadata": {
    "scrolled": true
   },
   "outputs": [
    {
     "data": {
      "text/html": [
       "<table>\n",
       "<caption>A matrix: 5 × 1 of type dbl</caption>\n",
       "<tbody>\n",
       "\t<tr><td>86.2</td></tr>\n",
       "\t<tr><td>90.2</td></tr>\n",
       "\t<tr><td>91.6</td></tr>\n",
       "\t<tr><td>92.9</td></tr>\n",
       "\t<tr><td>96.2</td></tr>\n",
       "</tbody>\n",
       "</table>\n"
      ],
      "text/latex": [
       "A matrix: 5 × 1 of type dbl\n",
       "\\begin{tabular}{l}\n",
       "\t 86.2\\\\\n",
       "\t 90.2\\\\\n",
       "\t 91.6\\\\\n",
       "\t 92.9\\\\\n",
       "\t 96.2\\\\\n",
       "\\end{tabular}\n"
      ],
      "text/markdown": [
       "\n",
       "A matrix: 5 × 1 of type dbl\n",
       "\n",
       "| 86.2 |\n",
       "| 90.2 |\n",
       "| 91.6 |\n",
       "| 92.9 |\n",
       "| 96.2 |\n",
       "\n"
      ],
      "text/plain": [
       "     [,1]\n",
       "[1,] 86.2\n",
       "[2,] 90.2\n",
       "[3,] 91.6\n",
       "[4,] 92.9\n",
       "[5,] 96.2"
      ]
     },
     "metadata": {},
     "output_type": "display_data"
    },
    {
     "data": {
      "image/png": "[encoded data removed]",
      "text/plain": [
       "plot without title"
      ]
     },
     "metadata": {
      "image/png": {
       "height": 420,
       "width": 420
      }
     },
     "output_type": "display_data"
    }
   ],
   "source": [
    "boxplot(firedata$FFMC)$stats"
   ]
  },
  {
   "cell_type": "code",
   "execution_count": 9,
   "metadata": {
    "scrolled": true
   },
   "outputs": [
    {
     "data": {
      "text/html": [
       "<table>\n",
       "<caption>A data.frame: 3 × 13</caption>\n",
       "<thead>\n",
       "\t<tr><th></th><th scope=col>X</th><th scope=col>Y</th><th scope=col>month</th><th scope=col>day</th><th scope=col>FFMC</th><th scope=col>DMC</th><th scope=col>DC</th><th scope=col>ISI</th><th scope=col>temp</th><th scope=col>RH</th><th scope=col>wind</th><th scope=col>rain</th><th scope=col>area</th></tr>\n",
       "\t<tr><th></th><th scope=col>&lt;int&gt;</th><th scope=col>&lt;int&gt;</th><th scope=col>&lt;chr&gt;</th><th scope=col>&lt;chr&gt;</th><th scope=col>&lt;dbl&gt;</th><th scope=col>&lt;dbl&gt;</th><th scope=col>&lt;dbl&gt;</th><th scope=col>&lt;dbl&gt;</th><th scope=col>&lt;dbl&gt;</th><th scope=col>&lt;int&gt;</th><th scope=col>&lt;dbl&gt;</th><th scope=col>&lt;dbl&gt;</th><th scope=col>&lt;dbl&gt;</th></tr>\n",
       "</thead>\n",
       "<tbody>\n",
       "\t<tr><th scope=row>300</th><td>6</td><td>5</td><td>jun</td><td>sat</td><td>53.4</td><td>71.0</td><td>233.8</td><td>0.4</td><td>10.6</td><td> 90</td><td>2.7</td><td>0</td><td>0</td></tr>\n",
       "\t<tr><th scope=row>313</th><td>2</td><td>4</td><td>sep</td><td>sun</td><td>50.4</td><td>46.2</td><td>706.6</td><td>0.4</td><td>12.2</td><td> 78</td><td>6.3</td><td>0</td><td>0</td></tr>\n",
       "\t<tr><th scope=row>380</th><td>4</td><td>5</td><td>jan</td><td>sun</td><td>18.7</td><td> 1.1</td><td>171.4</td><td>0.0</td><td> 5.2</td><td>100</td><td>0.9</td><td>0</td><td>0</td></tr>\n",
       "</tbody>\n",
       "</table>\n"
      ],
      "text/latex": [
       "A data.frame: 3 × 13\n",
       "\\begin{tabular}{r|lllllllllllll}\n",
       "  & X & Y & month & day & FFMC & DMC & DC & ISI & temp & RH & wind & rain & area\\\\\n",
       "  & <int> & <int> & <chr> & <chr> & <dbl> & <dbl> & <dbl> & <dbl> & <dbl> & <int> & <dbl> & <dbl> & <dbl>\\\\\n",
       "\\hline\n",
       "\t300 & 6 & 5 & jun & sat & 53.4 & 71.0 & 233.8 & 0.4 & 10.6 &  90 & 2.7 & 0 & 0\\\\\n",
       "\t313 & 2 & 4 & sep & sun & 50.4 & 46.2 & 706.6 & 0.4 & 12.2 &  78 & 6.3 & 0 & 0\\\\\n",
       "\t380 & 4 & 5 & jan & sun & 18.7 &  1.1 & 171.4 & 0.0 &  5.2 & 100 & 0.9 & 0 & 0\\\\\n",
       "\\end{tabular}\n"
      ],
      "text/markdown": [
       "\n",
       "A data.frame: 3 × 13\n",
       "\n",
       "| <!--/--> | X &lt;int&gt; | Y &lt;int&gt; | month &lt;chr&gt; | day &lt;chr&gt; | FFMC &lt;dbl&gt; | DMC &lt;dbl&gt; | DC &lt;dbl&gt; | ISI &lt;dbl&gt; | temp &lt;dbl&gt; | RH &lt;int&gt; | wind &lt;dbl&gt; | rain &lt;dbl&gt; | area &lt;dbl&gt; |\n",
       "|---|---|---|---|---|---|---|---|---|---|---|---|---|---|\n",
       "| 300 | 6 | 5 | jun | sat | 53.4 | 71.0 | 233.8 | 0.4 | 10.6 |  90 | 2.7 | 0 | 0 |\n",
       "| 313 | 2 | 4 | sep | sun | 50.4 | 46.2 | 706.6 | 0.4 | 12.2 |  78 | 6.3 | 0 | 0 |\n",
       "| 380 | 4 | 5 | jan | sun | 18.7 |  1.1 | 171.4 | 0.0 |  5.2 | 100 | 0.9 | 0 | 0 |\n",
       "\n"
      ],
      "text/plain": [
       "    X Y month day FFMC DMC  DC    ISI temp RH  wind rain area\n",
       "300 6 5 jun   sat 53.4 71.0 233.8 0.4 10.6  90 2.7  0    0   \n",
       "313 2 4 sep   sun 50.4 46.2 706.6 0.4 12.2  78 6.3  0    0   \n",
       "380 4 5 jan   sun 18.7  1.1 171.4 0.0  5.2 100 0.9  0    0   "
      ]
     },
     "metadata": {},
     "output_type": "display_data"
    }
   ],
   "source": [
    "firedata[firedata$FFMC < 60, ]"
   ]
  },
  {
   "cell_type": "code",
   "execution_count": 10,
   "metadata": {},
   "outputs": [],
   "source": [
    "firedata <- firedata[!(firedata$FFMC < 60), ]"
   ]
  },
  {
   "cell_type": "code",
   "execution_count": 11,
   "metadata": {},
   "outputs": [
    {
     "data": {
      "image/png": "[encoded data removed]",
      "text/plain": [
       "plot without title"
      ]
     },
     "metadata": {
      "image/png": {
       "height": 420,
       "width": 420
      }
     },
     "output_type": "display_data"
    }
   ],
   "source": [
    "boxplot(firedata$DMC)"
   ]
  },
  {
   "cell_type": "code",
   "execution_count": 12,
   "metadata": {
    "scrolled": true
   },
   "outputs": [
    {
     "data": {
      "text/html": [
       "<table>\n",
       "<caption>A data.frame: 7 × 13</caption>\n",
       "<thead>\n",
       "\t<tr><th></th><th scope=col>X</th><th scope=col>Y</th><th scope=col>month</th><th scope=col>day</th><th scope=col>FFMC</th><th scope=col>DMC</th><th scope=col>DC</th><th scope=col>ISI</th><th scope=col>temp</th><th scope=col>RH</th><th scope=col>wind</th><th scope=col>rain</th><th scope=col>area</th></tr>\n",
       "\t<tr><th></th><th scope=col>&lt;int&gt;</th><th scope=col>&lt;int&gt;</th><th scope=col>&lt;chr&gt;</th><th scope=col>&lt;chr&gt;</th><th scope=col>&lt;dbl&gt;</th><th scope=col>&lt;dbl&gt;</th><th scope=col>&lt;dbl&gt;</th><th scope=col>&lt;dbl&gt;</th><th scope=col>&lt;dbl&gt;</th><th scope=col>&lt;int&gt;</th><th scope=col>&lt;dbl&gt;</th><th scope=col>&lt;dbl&gt;</th><th scope=col>&lt;dbl&gt;</th></tr>\n",
       "</thead>\n",
       "<tbody>\n",
       "\t<tr><th scope=row>375</th><td>6</td><td>5</td><td>sep</td><td>fri</td><td>90.3</td><td>290.0</td><td>855.3</td><td> 7.4</td><td>10.3</td><td>78</td><td>4.0</td><td>0</td><td>18.30</td></tr>\n",
       "\t<tr><th scope=row>407</th><td>6</td><td>5</td><td>sep</td><td>sat</td><td>87.1</td><td>291.3</td><td>860.6</td><td> 4.0</td><td>17.0</td><td>67</td><td>4.9</td><td>0</td><td> 3.95</td></tr>\n",
       "\t<tr><th scope=row>409</th><td>4</td><td>3</td><td>sep</td><td>fri</td><td>90.3</td><td>290.0</td><td>855.3</td><td> 7.4</td><td>19.9</td><td>44</td><td>3.1</td><td>0</td><td> 7.80</td></tr>\n",
       "\t<tr><th scope=row>431</th><td>7</td><td>4</td><td>sep</td><td>thu</td><td>89.7</td><td>287.2</td><td>849.3</td><td> 6.8</td><td>19.4</td><td>45</td><td>3.6</td><td>0</td><td> 0.00</td></tr>\n",
       "\t<tr><th scope=row>441</th><td>5</td><td>4</td><td>sep</td><td>fri</td><td>90.3</td><td>290.0</td><td>855.3</td><td> 7.4</td><td>16.2</td><td>58</td><td>3.6</td><td>0</td><td> 0.00</td></tr>\n",
       "\t<tr><th scope=row>445</th><td>2</td><td>5</td><td>sep</td><td>fri</td><td>90.3</td><td>290.0</td><td>855.3</td><td> 7.4</td><td>16.2</td><td>58</td><td>3.6</td><td>0</td><td> 9.96</td></tr>\n",
       "\t<tr><th scope=row>449</th><td>7</td><td>4</td><td>sep</td><td>wed</td><td>89.7</td><td>284.9</td><td>844.0</td><td>10.1</td><td>10.5</td><td>77</td><td>4.0</td><td>0</td><td> 0.00</td></tr>\n",
       "</tbody>\n",
       "</table>\n"
      ],
      "text/latex": [
       "A data.frame: 7 × 13\n",
       "\\begin{tabular}{r|lllllllllllll}\n",
       "  & X & Y & month & day & FFMC & DMC & DC & ISI & temp & RH & wind & rain & area\\\\\n",
       "  & <int> & <int> & <chr> & <chr> & <dbl> & <dbl> & <dbl> & <dbl> & <dbl> & <int> & <dbl> & <dbl> & <dbl>\\\\\n",
       "\\hline\n",
       "\t375 & 6 & 5 & sep & fri & 90.3 & 290.0 & 855.3 &  7.4 & 10.3 & 78 & 4.0 & 0 & 18.30\\\\\n",
       "\t407 & 6 & 5 & sep & sat & 87.1 & 291.3 & 860.6 &  4.0 & 17.0 & 67 & 4.9 & 0 &  3.95\\\\\n",
       "\t409 & 4 & 3 & sep & fri & 90.3 & 290.0 & 855.3 &  7.4 & 19.9 & 44 & 3.1 & 0 &  7.80\\\\\n",
       "\t431 & 7 & 4 & sep & thu & 89.7 & 287.2 & 849.3 &  6.8 & 19.4 & 45 & 3.6 & 0 &  0.00\\\\\n",
       "\t441 & 5 & 4 & sep & fri & 90.3 & 290.0 & 855.3 &  7.4 & 16.2 & 58 & 3.6 & 0 &  0.00\\\\\n",
       "\t445 & 2 & 5 & sep & fri & 90.3 & 290.0 & 855.3 &  7.4 & 16.2 & 58 & 3.6 & 0 &  9.96\\\\\n",
       "\t449 & 7 & 4 & sep & wed & 89.7 & 284.9 & 844.0 & 10.1 & 10.5 & 77 & 4.0 & 0 &  0.00\\\\\n",
       "\\end{tabular}\n"
      ],
      "text/markdown": [
       "\n",
       "A data.frame: 7 × 13\n",
       "\n",
       "| <!--/--> | X &lt;int&gt; | Y &lt;int&gt; | month &lt;chr&gt; | day &lt;chr&gt; | FFMC &lt;dbl&gt; | DMC &lt;dbl&gt; | DC &lt;dbl&gt; | ISI &lt;dbl&gt; | temp &lt;dbl&gt; | RH &lt;int&gt; | wind &lt;dbl&gt; | rain &lt;dbl&gt; | area &lt;dbl&gt; |\n",
       "|---|---|---|---|---|---|---|---|---|---|---|---|---|---|\n",
       "| 375 | 6 | 5 | sep | fri | 90.3 | 290.0 | 855.3 |  7.4 | 10.3 | 78 | 4.0 | 0 | 18.30 |\n",
       "| 407 | 6 | 5 | sep | sat | 87.1 | 291.3 | 860.6 |  4.0 | 17.0 | 67 | 4.9 | 0 |  3.95 |\n",
       "| 409 | 4 | 3 | sep | fri | 90.3 | 290.0 | 855.3 |  7.4 | 19.9 | 44 | 3.1 | 0 |  7.80 |\n",
       "| 431 | 7 | 4 | sep | thu | 89.7 | 287.2 | 849.3 |  6.8 | 19.4 | 45 | 3.6 | 0 |  0.00 |\n",
       "| 441 | 5 | 4 | sep | fri | 90.3 | 290.0 | 855.3 |  7.4 | 16.2 | 58 | 3.6 | 0 |  0.00 |\n",
       "| 445 | 2 | 5 | sep | fri | 90.3 | 290.0 | 855.3 |  7.4 | 16.2 | 58 | 3.6 | 0 |  9.96 |\n",
       "| 449 | 7 | 4 | sep | wed | 89.7 | 284.9 | 844.0 | 10.1 | 10.5 | 77 | 4.0 | 0 |  0.00 |\n",
       "\n"
      ],
      "text/plain": [
       "    X Y month day FFMC DMC   DC    ISI  temp RH wind rain area \n",
       "375 6 5 sep   fri 90.3 290.0 855.3  7.4 10.3 78 4.0  0    18.30\n",
       "407 6 5 sep   sat 87.1 291.3 860.6  4.0 17.0 67 4.9  0     3.95\n",
       "409 4 3 sep   fri 90.3 290.0 855.3  7.4 19.9 44 3.1  0     7.80\n",
       "431 7 4 sep   thu 89.7 287.2 849.3  6.8 19.4 45 3.6  0     0.00\n",
       "441 5 4 sep   fri 90.3 290.0 855.3  7.4 16.2 58 3.6  0     0.00\n",
       "445 2 5 sep   fri 90.3 290.0 855.3  7.4 16.2 58 3.6  0     9.96\n",
       "449 7 4 sep   wed 89.7 284.9 844.0 10.1 10.5 77 4.0  0     0.00"
      ]
     },
     "metadata": {},
     "output_type": "display_data"
    }
   ],
   "source": [
    "firedata[firedata$DMC > 280, ]"
   ]
  },
  {
   "cell_type": "code",
   "execution_count": 13,
   "metadata": {},
   "outputs": [],
   "source": [
    "firedata <- firedata[!(firedata$DMC > 280),]"
   ]
  },
  {
   "cell_type": "code",
   "execution_count": 14,
   "metadata": {},
   "outputs": [
    {
     "data": {
      "text/html": [
       "<table>\n",
       "<caption>A matrix: 5 × 1 of type dbl</caption>\n",
       "<tbody>\n",
       "\t<tr><td> 34.0</td></tr>\n",
       "\t<tr><td>439.3</td></tr>\n",
       "\t<tr><td>661.8</td></tr>\n",
       "\t<tr><td>709.9</td></tr>\n",
       "\t<tr><td>825.1</td></tr>\n",
       "</tbody>\n",
       "</table>\n"
      ],
      "text/latex": [
       "A matrix: 5 × 1 of type dbl\n",
       "\\begin{tabular}{l}\n",
       "\t  34.0\\\\\n",
       "\t 439.3\\\\\n",
       "\t 661.8\\\\\n",
       "\t 709.9\\\\\n",
       "\t 825.1\\\\\n",
       "\\end{tabular}\n"
      ],
      "text/markdown": [
       "\n",
       "A matrix: 5 × 1 of type dbl\n",
       "\n",
       "|  34.0 |\n",
       "| 439.3 |\n",
       "| 661.8 |\n",
       "| 709.9 |\n",
       "| 825.1 |\n",
       "\n"
      ],
      "text/plain": [
       "     [,1] \n",
       "[1,]  34.0\n",
       "[2,] 439.3\n",
       "[3,] 661.8\n",
       "[4,] 709.9\n",
       "[5,] 825.1"
      ]
     },
     "metadata": {},
     "output_type": "display_data"
    },
    {
     "data": {
      "image/png": "[encoded data removed]",
      "text/plain": [
       "plot without title"
      ]
     },
     "metadata": {
      "image/png": {
       "height": 420,
       "width": 420
      }
     },
     "output_type": "display_data"
    }
   ],
   "source": [
    "boxplot(firedata$DC)$stats"
   ]
  },
  {
   "cell_type": "code",
   "execution_count": 15,
   "metadata": {},
   "outputs": [
    {
     "data": {
      "text/html": [
       "<table>\n",
       "<caption>A data.frame: 8 × 13</caption>\n",
       "<thead>\n",
       "\t<tr><th></th><th scope=col>X</th><th scope=col>Y</th><th scope=col>month</th><th scope=col>day</th><th scope=col>FFMC</th><th scope=col>DMC</th><th scope=col>DC</th><th scope=col>ISI</th><th scope=col>temp</th><th scope=col>RH</th><th scope=col>wind</th><th scope=col>rain</th><th scope=col>area</th></tr>\n",
       "\t<tr><th></th><th scope=col>&lt;int&gt;</th><th scope=col>&lt;int&gt;</th><th scope=col>&lt;chr&gt;</th><th scope=col>&lt;chr&gt;</th><th scope=col>&lt;dbl&gt;</th><th scope=col>&lt;dbl&gt;</th><th scope=col>&lt;dbl&gt;</th><th scope=col>&lt;dbl&gt;</th><th scope=col>&lt;dbl&gt;</th><th scope=col>&lt;int&gt;</th><th scope=col>&lt;dbl&gt;</th><th scope=col>&lt;dbl&gt;</th><th scope=col>&lt;dbl&gt;</th></tr>\n",
       "</thead>\n",
       "<tbody>\n",
       "\t<tr><th scope=row>98</th><td>3</td><td>4</td><td>mar</td><td>sat</td><td>69.0</td><td>2.4</td><td>15.5</td><td>0.7</td><td>17.4</td><td>24</td><td>5.4</td><td>0</td><td> 0.00</td></tr>\n",
       "\t<tr><th scope=row>105</th><td>2</td><td>4</td><td>jan</td><td>sat</td><td>82.1</td><td>3.7</td><td> 9.3</td><td>2.9</td><td> 5.3</td><td>78</td><td>3.1</td><td>0</td><td> 0.00</td></tr>\n",
       "\t<tr><th scope=row>240</th><td>7</td><td>5</td><td>apr</td><td>sun</td><td>81.9</td><td>3.0</td><td> 7.9</td><td>3.5</td><td>13.4</td><td>75</td><td>1.8</td><td>0</td><td> 0.00</td></tr>\n",
       "\t<tr><th scope=row>284</th><td>3</td><td>4</td><td>feb</td><td>wed</td><td>86.9</td><td>6.6</td><td>18.7</td><td>3.2</td><td> 8.8</td><td>35</td><td>3.1</td><td>0</td><td> 1.10</td></tr>\n",
       "\t<tr><th scope=row>285</th><td>5</td><td>4</td><td>feb</td><td>fri</td><td>85.2</td><td>4.9</td><td>15.8</td><td>6.3</td><td> 7.5</td><td>46</td><td>8.0</td><td>0</td><td>24.24</td></tr>\n",
       "\t<tr><th scope=row>464</th><td>6</td><td>5</td><td>feb</td><td>tue</td><td>75.1</td><td>4.4</td><td>16.2</td><td>1.9</td><td> 4.6</td><td>82</td><td>6.3</td><td>0</td><td> 5.39</td></tr>\n",
       "\t<tr><th scope=row>465</th><td>6</td><td>4</td><td>feb</td><td>tue</td><td>75.1</td><td>4.4</td><td>16.2</td><td>1.9</td><td> 5.1</td><td>77</td><td>5.4</td><td>0</td><td> 2.14</td></tr>\n",
       "\t<tr><th scope=row>466</th><td>2</td><td>2</td><td>feb</td><td>sat</td><td>79.5</td><td>3.6</td><td>15.3</td><td>1.8</td><td> 4.6</td><td>59</td><td>0.9</td><td>0</td><td> 6.84</td></tr>\n",
       "</tbody>\n",
       "</table>\n"
      ],
      "text/latex": [
       "A data.frame: 8 × 13\n",
       "\\begin{tabular}{r|lllllllllllll}\n",
       "  & X & Y & month & day & FFMC & DMC & DC & ISI & temp & RH & wind & rain & area\\\\\n",
       "  & <int> & <int> & <chr> & <chr> & <dbl> & <dbl> & <dbl> & <dbl> & <dbl> & <int> & <dbl> & <dbl> & <dbl>\\\\\n",
       "\\hline\n",
       "\t98 & 3 & 4 & mar & sat & 69.0 & 2.4 & 15.5 & 0.7 & 17.4 & 24 & 5.4 & 0 &  0.00\\\\\n",
       "\t105 & 2 & 4 & jan & sat & 82.1 & 3.7 &  9.3 & 2.9 &  5.3 & 78 & 3.1 & 0 &  0.00\\\\\n",
       "\t240 & 7 & 5 & apr & sun & 81.9 & 3.0 &  7.9 & 3.5 & 13.4 & 75 & 1.8 & 0 &  0.00\\\\\n",
       "\t284 & 3 & 4 & feb & wed & 86.9 & 6.6 & 18.7 & 3.2 &  8.8 & 35 & 3.1 & 0 &  1.10\\\\\n",
       "\t285 & 5 & 4 & feb & fri & 85.2 & 4.9 & 15.8 & 6.3 &  7.5 & 46 & 8.0 & 0 & 24.24\\\\\n",
       "\t464 & 6 & 5 & feb & tue & 75.1 & 4.4 & 16.2 & 1.9 &  4.6 & 82 & 6.3 & 0 &  5.39\\\\\n",
       "\t465 & 6 & 4 & feb & tue & 75.1 & 4.4 & 16.2 & 1.9 &  5.1 & 77 & 5.4 & 0 &  2.14\\\\\n",
       "\t466 & 2 & 2 & feb & sat & 79.5 & 3.6 & 15.3 & 1.8 &  4.6 & 59 & 0.9 & 0 &  6.84\\\\\n",
       "\\end{tabular}\n"
      ],
      "text/markdown": [
       "\n",
       "A data.frame: 8 × 13\n",
       "\n",
       "| <!--/--> | X &lt;int&gt; | Y &lt;int&gt; | month &lt;chr&gt; | day &lt;chr&gt; | FFMC &lt;dbl&gt; | DMC &lt;dbl&gt; | DC &lt;dbl&gt; | ISI &lt;dbl&gt; | temp &lt;dbl&gt; | RH &lt;int&gt; | wind &lt;dbl&gt; | rain &lt;dbl&gt; | area &lt;dbl&gt; |\n",
       "|---|---|---|---|---|---|---|---|---|---|---|---|---|---|\n",
       "| 98 | 3 | 4 | mar | sat | 69.0 | 2.4 | 15.5 | 0.7 | 17.4 | 24 | 5.4 | 0 |  0.00 |\n",
       "| 105 | 2 | 4 | jan | sat | 82.1 | 3.7 |  9.3 | 2.9 |  5.3 | 78 | 3.1 | 0 |  0.00 |\n",
       "| 240 | 7 | 5 | apr | sun | 81.9 | 3.0 |  7.9 | 3.5 | 13.4 | 75 | 1.8 | 0 |  0.00 |\n",
       "| 284 | 3 | 4 | feb | wed | 86.9 | 6.6 | 18.7 | 3.2 |  8.8 | 35 | 3.1 | 0 |  1.10 |\n",
       "| 285 | 5 | 4 | feb | fri | 85.2 | 4.9 | 15.8 | 6.3 |  7.5 | 46 | 8.0 | 0 | 24.24 |\n",
       "| 464 | 6 | 5 | feb | tue | 75.1 | 4.4 | 16.2 | 1.9 |  4.6 | 82 | 6.3 | 0 |  5.39 |\n",
       "| 465 | 6 | 4 | feb | tue | 75.1 | 4.4 | 16.2 | 1.9 |  5.1 | 77 | 5.4 | 0 |  2.14 |\n",
       "| 466 | 2 | 2 | feb | sat | 79.5 | 3.6 | 15.3 | 1.8 |  4.6 | 59 | 0.9 | 0 |  6.84 |\n",
       "\n"
      ],
      "text/plain": [
       "    X Y month day FFMC DMC DC   ISI temp RH wind rain area \n",
       "98  3 4 mar   sat 69.0 2.4 15.5 0.7 17.4 24 5.4  0     0.00\n",
       "105 2 4 jan   sat 82.1 3.7  9.3 2.9  5.3 78 3.1  0     0.00\n",
       "240 7 5 apr   sun 81.9 3.0  7.9 3.5 13.4 75 1.8  0     0.00\n",
       "284 3 4 feb   wed 86.9 6.6 18.7 3.2  8.8 35 3.1  0     1.10\n",
       "285 5 4 feb   fri 85.2 4.9 15.8 6.3  7.5 46 8.0  0    24.24\n",
       "464 6 5 feb   tue 75.1 4.4 16.2 1.9  4.6 82 6.3  0     5.39\n",
       "465 6 4 feb   tue 75.1 4.4 16.2 1.9  5.1 77 5.4  0     2.14\n",
       "466 2 2 feb   sat 79.5 3.6 15.3 1.8  4.6 59 0.9  0     6.84"
      ]
     },
     "metadata": {},
     "output_type": "display_data"
    }
   ],
   "source": [
    "firedata[firedata$DC<20, ]"
   ]
  },
  {
   "cell_type": "code",
   "execution_count": 17,
   "metadata": {},
   "outputs": [],
   "source": [
    "firedata <- firedata[!(firedata$DC <20), ]"
   ]
  },
  {
   "cell_type": "code",
   "execution_count": 18,
   "metadata": {},
   "outputs": [
    {
     "data": {
      "text/html": [
       "<table>\n",
       "<caption>A matrix: 5 × 1 of type dbl</caption>\n",
       "<tbody>\n",
       "\t<tr><td> 0.80</td></tr>\n",
       "\t<tr><td> 6.70</td></tr>\n",
       "\t<tr><td> 8.40</td></tr>\n",
       "\t<tr><td>11.05</td></tr>\n",
       "\t<tr><td>17.00</td></tr>\n",
       "</tbody>\n",
       "</table>\n"
      ],
      "text/latex": [
       "A matrix: 5 × 1 of type dbl\n",
       "\\begin{tabular}{l}\n",
       "\t  0.80\\\\\n",
       "\t  6.70\\\\\n",
       "\t  8.40\\\\\n",
       "\t 11.05\\\\\n",
       "\t 17.00\\\\\n",
       "\\end{tabular}\n"
      ],
      "text/markdown": [
       "\n",
       "A matrix: 5 × 1 of type dbl\n",
       "\n",
       "|  0.80 |\n",
       "|  6.70 |\n",
       "|  8.40 |\n",
       "| 11.05 |\n",
       "| 17.00 |\n",
       "\n"
      ],
      "text/plain": [
       "     [,1] \n",
       "[1,]  0.80\n",
       "[2,]  6.70\n",
       "[3,]  8.40\n",
       "[4,] 11.05\n",
       "[5,] 17.00"
      ]
     },
     "metadata": {},
     "output_type": "display_data"
    },
    {
     "data": {
      "image/png": "[encoded data removed]",
      "text/plain": [
       "plot without title"
      ]
     },
     "metadata": {
      "image/png": {
       "height": 420,
       "width": 420
      }
     },
     "output_type": "display_data"
    }
   ],
   "source": [
    "boxplot(firedata$ISI)$stats"
   ]
  },
  {
   "cell_type": "code",
   "execution_count": 19,
   "metadata": {},
   "outputs": [
    {
     "data": {
      "text/html": [
       "<table>\n",
       "<caption>A data.frame: 8 × 13</caption>\n",
       "<thead>\n",
       "\t<tr><th></th><th scope=col>X</th><th scope=col>Y</th><th scope=col>month</th><th scope=col>day</th><th scope=col>FFMC</th><th scope=col>DMC</th><th scope=col>DC</th><th scope=col>ISI</th><th scope=col>temp</th><th scope=col>RH</th><th scope=col>wind</th><th scope=col>rain</th><th scope=col>area</th></tr>\n",
       "\t<tr><th></th><th scope=col>&lt;int&gt;</th><th scope=col>&lt;int&gt;</th><th scope=col>&lt;chr&gt;</th><th scope=col>&lt;chr&gt;</th><th scope=col>&lt;dbl&gt;</th><th scope=col>&lt;dbl&gt;</th><th scope=col>&lt;dbl&gt;</th><th scope=col>&lt;dbl&gt;</th><th scope=col>&lt;dbl&gt;</th><th scope=col>&lt;int&gt;</th><th scope=col>&lt;dbl&gt;</th><th scope=col>&lt;dbl&gt;</th><th scope=col>&lt;dbl&gt;</th></tr>\n",
       "</thead>\n",
       "<tbody>\n",
       "\t<tr><th scope=row>12</th><td>7</td><td>5</td><td>sep</td><td>sat</td><td>92.8</td><td> 73.2</td><td>713.0</td><td>22.6</td><td>19.3</td><td>38</td><td>4.0</td><td>0</td><td> 0.00</td></tr>\n",
       "\t<tr><th scope=row>23</th><td>7</td><td>4</td><td>jun</td><td>sun</td><td>94.3</td><td> 96.3</td><td>200.0</td><td>56.1</td><td>21.0</td><td>44</td><td>4.5</td><td>0</td><td> 0.00</td></tr>\n",
       "\t<tr><th scope=row>25</th><td>7</td><td>4</td><td>aug</td><td>sat</td><td>93.5</td><td>139.4</td><td>594.2</td><td>20.3</td><td>23.7</td><td>32</td><td>5.8</td><td>0</td><td> 0.00</td></tr>\n",
       "\t<tr><th scope=row>136</th><td>3</td><td>5</td><td>aug</td><td>sat</td><td>93.5</td><td>139.4</td><td>594.2</td><td>20.3</td><td>17.6</td><td>52</td><td>5.8</td><td>0</td><td> 0.00</td></tr>\n",
       "\t<tr><th scope=row>207</th><td>2</td><td>2</td><td>aug</td><td>sat</td><td>93.5</td><td>139.4</td><td>594.2</td><td>20.3</td><td>22.9</td><td>31</td><td>7.2</td><td>0</td><td>15.45</td></tr>\n",
       "\t<tr><th scope=row>212</th><td>7</td><td>4</td><td>aug</td><td>sat</td><td>93.5</td><td>139.4</td><td>594.2</td><td>20.3</td><td> 5.1</td><td>96</td><td>5.8</td><td>0</td><td>26.00</td></tr>\n",
       "\t<tr><th scope=row>267</th><td>6</td><td>5</td><td>aug</td><td>tue</td><td>94.3</td><td>131.7</td><td>607.1</td><td>22.7</td><td>19.4</td><td>55</td><td>4.0</td><td>0</td><td> 0.17</td></tr>\n",
       "\t<tr><th scope=row>486</th><td>2</td><td>4</td><td>aug</td><td>mon</td><td>95.0</td><td>135.5</td><td>596.3</td><td>21.3</td><td>30.6</td><td>28</td><td>3.6</td><td>0</td><td> 2.07</td></tr>\n",
       "</tbody>\n",
       "</table>\n"
      ],
      "text/latex": [
       "A data.frame: 8 × 13\n",
       "\\begin{tabular}{r|lllllllllllll}\n",
       "  & X & Y & month & day & FFMC & DMC & DC & ISI & temp & RH & wind & rain & area\\\\\n",
       "  & <int> & <int> & <chr> & <chr> & <dbl> & <dbl> & <dbl> & <dbl> & <dbl> & <int> & <dbl> & <dbl> & <dbl>\\\\\n",
       "\\hline\n",
       "\t12 & 7 & 5 & sep & sat & 92.8 &  73.2 & 713.0 & 22.6 & 19.3 & 38 & 4.0 & 0 &  0.00\\\\\n",
       "\t23 & 7 & 4 & jun & sun & 94.3 &  96.3 & 200.0 & 56.1 & 21.0 & 44 & 4.5 & 0 &  0.00\\\\\n",
       "\t25 & 7 & 4 & aug & sat & 93.5 & 139.4 & 594.2 & 20.3 & 23.7 & 32 & 5.8 & 0 &  0.00\\\\\n",
       "\t136 & 3 & 5 & aug & sat & 93.5 & 139.4 & 594.2 & 20.3 & 17.6 & 52 & 5.8 & 0 &  0.00\\\\\n",
       "\t207 & 2 & 2 & aug & sat & 93.5 & 139.4 & 594.2 & 20.3 & 22.9 & 31 & 7.2 & 0 & 15.45\\\\\n",
       "\t212 & 7 & 4 & aug & sat & 93.5 & 139.4 & 594.2 & 20.3 &  5.1 & 96 & 5.8 & 0 & 26.00\\\\\n",
       "\t267 & 6 & 5 & aug & tue & 94.3 & 131.7 & 607.1 & 22.7 & 19.4 & 55 & 4.0 & 0 &  0.17\\\\\n",
       "\t486 & 2 & 4 & aug & mon & 95.0 & 135.5 & 596.3 & 21.3 & 30.6 & 28 & 3.6 & 0 &  2.07\\\\\n",
       "\\end{tabular}\n"
      ],
      "text/markdown": [
       "\n",
       "A data.frame: 8 × 13\n",
       "\n",
       "| <!--/--> | X &lt;int&gt; | Y &lt;int&gt; | month &lt;chr&gt; | day &lt;chr&gt; | FFMC &lt;dbl&gt; | DMC &lt;dbl&gt; | DC &lt;dbl&gt; | ISI &lt;dbl&gt; | temp &lt;dbl&gt; | RH &lt;int&gt; | wind &lt;dbl&gt; | rain &lt;dbl&gt; | area &lt;dbl&gt; |\n",
       "|---|---|---|---|---|---|---|---|---|---|---|---|---|---|\n",
       "| 12 | 7 | 5 | sep | sat | 92.8 |  73.2 | 713.0 | 22.6 | 19.3 | 38 | 4.0 | 0 |  0.00 |\n",
       "| 23 | 7 | 4 | jun | sun | 94.3 |  96.3 | 200.0 | 56.1 | 21.0 | 44 | 4.5 | 0 |  0.00 |\n",
       "| 25 | 7 | 4 | aug | sat | 93.5 | 139.4 | 594.2 | 20.3 | 23.7 | 32 | 5.8 | 0 |  0.00 |\n",
       "| 136 | 3 | 5 | aug | sat | 93.5 | 139.4 | 594.2 | 20.3 | 17.6 | 52 | 5.8 | 0 |  0.00 |\n",
       "| 207 | 2 | 2 | aug | sat | 93.5 | 139.4 | 594.2 | 20.3 | 22.9 | 31 | 7.2 | 0 | 15.45 |\n",
       "| 212 | 7 | 4 | aug | sat | 93.5 | 139.4 | 594.2 | 20.3 |  5.1 | 96 | 5.8 | 0 | 26.00 |\n",
       "| 267 | 6 | 5 | aug | tue | 94.3 | 131.7 | 607.1 | 22.7 | 19.4 | 55 | 4.0 | 0 |  0.17 |\n",
       "| 486 | 2 | 4 | aug | mon | 95.0 | 135.5 | 596.3 | 21.3 | 30.6 | 28 | 3.6 | 0 |  2.07 |\n",
       "\n"
      ],
      "text/plain": [
       "    X Y month day FFMC DMC   DC    ISI  temp RH wind rain area \n",
       "12  7 5 sep   sat 92.8  73.2 713.0 22.6 19.3 38 4.0  0     0.00\n",
       "23  7 4 jun   sun 94.3  96.3 200.0 56.1 21.0 44 4.5  0     0.00\n",
       "25  7 4 aug   sat 93.5 139.4 594.2 20.3 23.7 32 5.8  0     0.00\n",
       "136 3 5 aug   sat 93.5 139.4 594.2 20.3 17.6 52 5.8  0     0.00\n",
       "207 2 2 aug   sat 93.5 139.4 594.2 20.3 22.9 31 7.2  0    15.45\n",
       "212 7 4 aug   sat 93.5 139.4 594.2 20.3  5.1 96 5.8  0    26.00\n",
       "267 6 5 aug   tue 94.3 131.7 607.1 22.7 19.4 55 4.0  0     0.17\n",
       "486 2 4 aug   mon 95.0 135.5 596.3 21.3 30.6 28 3.6  0     2.07"
      ]
     },
     "metadata": {},
     "output_type": "display_data"
    }
   ],
   "source": [
    "firedata[firedata$ISI >20, ]"
   ]
  },
  {
   "cell_type": "code",
   "execution_count": 20,
   "metadata": {},
   "outputs": [],
   "source": [
    "firedata <- firedata[!(firedata$ISI >20), ]"
   ]
  },
  {
   "cell_type": "code",
   "execution_count": 21,
   "metadata": {},
   "outputs": [
    {
     "data": {
      "text/html": [
       "<table>\n",
       "<caption>A matrix: 5 × 1 of type dbl</caption>\n",
       "<tbody>\n",
       "\t<tr><td> 5.3</td></tr>\n",
       "\t<tr><td>15.8</td></tr>\n",
       "\t<tr><td>19.4</td></tr>\n",
       "\t<tr><td>22.9</td></tr>\n",
       "\t<tr><td>33.3</td></tr>\n",
       "</tbody>\n",
       "</table>\n"
      ],
      "text/latex": [
       "A matrix: 5 × 1 of type dbl\n",
       "\\begin{tabular}{l}\n",
       "\t  5.3\\\\\n",
       "\t 15.8\\\\\n",
       "\t 19.4\\\\\n",
       "\t 22.9\\\\\n",
       "\t 33.3\\\\\n",
       "\\end{tabular}\n"
      ],
      "text/markdown": [
       "\n",
       "A matrix: 5 × 1 of type dbl\n",
       "\n",
       "|  5.3 |\n",
       "| 15.8 |\n",
       "| 19.4 |\n",
       "| 22.9 |\n",
       "| 33.3 |\n",
       "\n"
      ],
      "text/plain": [
       "     [,1]\n",
       "[1,]  5.3\n",
       "[2,] 15.8\n",
       "[3,] 19.4\n",
       "[4,] 22.9\n",
       "[5,] 33.3"
      ]
     },
     "metadata": {},
     "output_type": "display_data"
    },
    {
     "data": {
      "image/png": "[encoded data removed]",
      "text/plain": [
       "plot without title"
      ]
     },
     "metadata": {
      "image/png": {
       "height": 420,
       "width": 420
      }
     },
     "output_type": "display_data"
    }
   ],
   "source": [
    "boxplot(firedata$temp)$stats"
   ]
  },
  {
   "cell_type": "code",
   "execution_count": 22,
   "metadata": {},
   "outputs": [
    {
     "data": {
      "text/html": [
       "<table>\n",
       "<caption>A data.frame: 1 × 13</caption>\n",
       "<thead>\n",
       "\t<tr><th></th><th scope=col>X</th><th scope=col>Y</th><th scope=col>month</th><th scope=col>day</th><th scope=col>FFMC</th><th scope=col>DMC</th><th scope=col>DC</th><th scope=col>ISI</th><th scope=col>temp</th><th scope=col>RH</th><th scope=col>wind</th><th scope=col>rain</th><th scope=col>area</th></tr>\n",
       "\t<tr><th></th><th scope=col>&lt;int&gt;</th><th scope=col>&lt;int&gt;</th><th scope=col>&lt;chr&gt;</th><th scope=col>&lt;chr&gt;</th><th scope=col>&lt;dbl&gt;</th><th scope=col>&lt;dbl&gt;</th><th scope=col>&lt;dbl&gt;</th><th scope=col>&lt;dbl&gt;</th><th scope=col>&lt;dbl&gt;</th><th scope=col>&lt;int&gt;</th><th scope=col>&lt;dbl&gt;</th><th scope=col>&lt;dbl&gt;</th><th scope=col>&lt;dbl&gt;</th></tr>\n",
       "</thead>\n",
       "<tbody>\n",
       "\t<tr><th scope=row>281</th><td>4</td><td>6</td><td>dec</td><td>fri</td><td>84.7</td><td>26.7</td><td>352.6</td><td>4.1</td><td>2.2</td><td>59</td><td>4.9</td><td>0</td><td>9.27</td></tr>\n",
       "</tbody>\n",
       "</table>\n"
      ],
      "text/latex": [
       "A data.frame: 1 × 13\n",
       "\\begin{tabular}{r|lllllllllllll}\n",
       "  & X & Y & month & day & FFMC & DMC & DC & ISI & temp & RH & wind & rain & area\\\\\n",
       "  & <int> & <int> & <chr> & <chr> & <dbl> & <dbl> & <dbl> & <dbl> & <dbl> & <int> & <dbl> & <dbl> & <dbl>\\\\\n",
       "\\hline\n",
       "\t281 & 4 & 6 & dec & fri & 84.7 & 26.7 & 352.6 & 4.1 & 2.2 & 59 & 4.9 & 0 & 9.27\\\\\n",
       "\\end{tabular}\n"
      ],
      "text/markdown": [
       "\n",
       "A data.frame: 1 × 13\n",
       "\n",
       "| <!--/--> | X &lt;int&gt; | Y &lt;int&gt; | month &lt;chr&gt; | day &lt;chr&gt; | FFMC &lt;dbl&gt; | DMC &lt;dbl&gt; | DC &lt;dbl&gt; | ISI &lt;dbl&gt; | temp &lt;dbl&gt; | RH &lt;int&gt; | wind &lt;dbl&gt; | rain &lt;dbl&gt; | area &lt;dbl&gt; |\n",
       "|---|---|---|---|---|---|---|---|---|---|---|---|---|---|\n",
       "| 281 | 4 | 6 | dec | fri | 84.7 | 26.7 | 352.6 | 4.1 | 2.2 | 59 | 4.9 | 0 | 9.27 |\n",
       "\n"
      ],
      "text/plain": [
       "    X Y month day FFMC DMC  DC    ISI temp RH wind rain area\n",
       "281 4 6 dec   fri 84.7 26.7 352.6 4.1 2.2  59 4.9  0    9.27"
      ]
     },
     "metadata": {},
     "output_type": "display_data"
    }
   ],
   "source": [
    "firedata[firedata$temp < 3, ]"
   ]
  },
  {
   "cell_type": "code",
   "execution_count": 23,
   "metadata": {},
   "outputs": [],
   "source": [
    "firedata <- firedata[!(firedata$temp < 3),]"
   ]
  },
  {
   "cell_type": "code",
   "execution_count": 24,
   "metadata": {
    "scrolled": false
   },
   "outputs": [
    {
     "data": {
      "text/html": [
       "<style>\n",
       ".list-inline {list-style: none; margin:0; padding: 0}\n",
       ".list-inline>li {display: inline-block}\n",
       ".list-inline>li:not(:last-child)::after {content: \"\\00b7\"; padding: 0 .5ex}\n",
       "</style>\n",
       "<ol class=list-inline><li>15</li><li>32</li><li>41</li><li>53</li><li>84</li></ol>\n"
      ],
      "text/latex": [
       "\\begin{enumerate*}\n",
       "\\item 15\n",
       "\\item 32\n",
       "\\item 41\n",
       "\\item 53\n",
       "\\item 84\n",
       "\\end{enumerate*}\n"
      ],
      "text/markdown": [
       "1. 15\n",
       "2. 32\n",
       "3. 41\n",
       "4. 53\n",
       "5. 84\n",
       "\n",
       "\n"
      ],
      "text/plain": [
       "     [,1]\n",
       "[1,]   15\n",
       "[2,]   32\n",
       "[3,]   41\n",
       "[4,]   53\n",
       "[5,]   84\n",
       "attr(,\"class\")\n",
       "        1 \n",
       "\"integer\" "
      ]
     },
     "metadata": {},
     "output_type": "display_data"
    },
    {
     "data": {
      "image/png": "[encoded data removed]",
      "text/plain": [
       "plot without title"
      ]
     },
     "metadata": {
      "image/png": {
       "height": 420,
       "width": 420
      }
     },
     "output_type": "display_data"
    }
   ],
   "source": [
    "boxplot(firedata$RH)$stats"
   ]
  },
  {
   "cell_type": "code",
   "execution_count": 25,
   "metadata": {},
   "outputs": [
    {
     "data": {
      "text/html": [
       "<table>\n",
       "<caption>A data.frame: 3 × 13</caption>\n",
       "<thead>\n",
       "\t<tr><th></th><th scope=col>X</th><th scope=col>Y</th><th scope=col>month</th><th scope=col>day</th><th scope=col>FFMC</th><th scope=col>DMC</th><th scope=col>DC</th><th scope=col>ISI</th><th scope=col>temp</th><th scope=col>RH</th><th scope=col>wind</th><th scope=col>rain</th><th scope=col>area</th></tr>\n",
       "\t<tr><th></th><th scope=col>&lt;int&gt;</th><th scope=col>&lt;int&gt;</th><th scope=col>&lt;chr&gt;</th><th scope=col>&lt;chr&gt;</th><th scope=col>&lt;dbl&gt;</th><th scope=col>&lt;dbl&gt;</th><th scope=col>&lt;dbl&gt;</th><th scope=col>&lt;dbl&gt;</th><th scope=col>&lt;dbl&gt;</th><th scope=col>&lt;int&gt;</th><th scope=col>&lt;dbl&gt;</th><th scope=col>&lt;dbl&gt;</th><th scope=col>&lt;dbl&gt;</th></tr>\n",
       "</thead>\n",
       "<tbody>\n",
       "\t<tr><th scope=row>4</th><td>8</td><td>6</td><td>mar</td><td>fri</td><td>91.7</td><td>33.3</td><td> 77.5</td><td>9.0</td><td> 8.3</td><td>97</td><td>4.0</td><td>0.2</td><td>0</td></tr>\n",
       "\t<tr><th scope=row>5</th><td>8</td><td>6</td><td>mar</td><td>sun</td><td>89.3</td><td>51.3</td><td>102.2</td><td>9.6</td><td>11.4</td><td>99</td><td>1.8</td><td>0.0</td><td>0</td></tr>\n",
       "\t<tr><th scope=row>305</th><td>6</td><td>5</td><td>may</td><td>sat</td><td>85.1</td><td>28.0</td><td>113.8</td><td>3.5</td><td>11.3</td><td>94</td><td>4.9</td><td>0.0</td><td>0</td></tr>\n",
       "</tbody>\n",
       "</table>\n"
      ],
      "text/latex": [
       "A data.frame: 3 × 13\n",
       "\\begin{tabular}{r|lllllllllllll}\n",
       "  & X & Y & month & day & FFMC & DMC & DC & ISI & temp & RH & wind & rain & area\\\\\n",
       "  & <int> & <int> & <chr> & <chr> & <dbl> & <dbl> & <dbl> & <dbl> & <dbl> & <int> & <dbl> & <dbl> & <dbl>\\\\\n",
       "\\hline\n",
       "\t4 & 8 & 6 & mar & fri & 91.7 & 33.3 &  77.5 & 9.0 &  8.3 & 97 & 4.0 & 0.2 & 0\\\\\n",
       "\t5 & 8 & 6 & mar & sun & 89.3 & 51.3 & 102.2 & 9.6 & 11.4 & 99 & 1.8 & 0.0 & 0\\\\\n",
       "\t305 & 6 & 5 & may & sat & 85.1 & 28.0 & 113.8 & 3.5 & 11.3 & 94 & 4.9 & 0.0 & 0\\\\\n",
       "\\end{tabular}\n"
      ],
      "text/markdown": [
       "\n",
       "A data.frame: 3 × 13\n",
       "\n",
       "| <!--/--> | X &lt;int&gt; | Y &lt;int&gt; | month &lt;chr&gt; | day &lt;chr&gt; | FFMC &lt;dbl&gt; | DMC &lt;dbl&gt; | DC &lt;dbl&gt; | ISI &lt;dbl&gt; | temp &lt;dbl&gt; | RH &lt;int&gt; | wind &lt;dbl&gt; | rain &lt;dbl&gt; | area &lt;dbl&gt; |\n",
       "|---|---|---|---|---|---|---|---|---|---|---|---|---|---|\n",
       "| 4 | 8 | 6 | mar | fri | 91.7 | 33.3 |  77.5 | 9.0 |  8.3 | 97 | 4.0 | 0.2 | 0 |\n",
       "| 5 | 8 | 6 | mar | sun | 89.3 | 51.3 | 102.2 | 9.6 | 11.4 | 99 | 1.8 | 0.0 | 0 |\n",
       "| 305 | 6 | 5 | may | sat | 85.1 | 28.0 | 113.8 | 3.5 | 11.3 | 94 | 4.9 | 0.0 | 0 |\n",
       "\n"
      ],
      "text/plain": [
       "    X Y month day FFMC DMC  DC    ISI temp RH wind rain area\n",
       "4   8 6 mar   fri 91.7 33.3  77.5 9.0  8.3 97 4.0  0.2  0   \n",
       "5   8 6 mar   sun 89.3 51.3 102.2 9.6 11.4 99 1.8  0.0  0   \n",
       "305 6 5 may   sat 85.1 28.0 113.8 3.5 11.3 94 4.9  0.0  0   "
      ]
     },
     "metadata": {},
     "output_type": "display_data"
    }
   ],
   "source": [
    "firedata[firedata$RH > 90, ]"
   ]
  },
  {
   "cell_type": "code",
   "execution_count": 26,
   "metadata": {},
   "outputs": [],
   "source": [
    "firedata <- firedata[!(firedata$RH > 90), ]"
   ]
  },
  {
   "cell_type": "code",
   "execution_count": 27,
   "metadata": {},
   "outputs": [
    {
     "data": {
      "text/html": [
       "<table>\n",
       "<caption>A matrix: 5 × 1 of type dbl</caption>\n",
       "<tbody>\n",
       "\t<tr><td>0.4</td></tr>\n",
       "\t<tr><td>2.7</td></tr>\n",
       "\t<tr><td>4.0</td></tr>\n",
       "\t<tr><td>4.9</td></tr>\n",
       "\t<tr><td>8.0</td></tr>\n",
       "</tbody>\n",
       "</table>\n"
      ],
      "text/latex": [
       "A matrix: 5 × 1 of type dbl\n",
       "\\begin{tabular}{l}\n",
       "\t 0.4\\\\\n",
       "\t 2.7\\\\\n",
       "\t 4.0\\\\\n",
       "\t 4.9\\\\\n",
       "\t 8.0\\\\\n",
       "\\end{tabular}\n"
      ],
      "text/markdown": [
       "\n",
       "A matrix: 5 × 1 of type dbl\n",
       "\n",
       "| 0.4 |\n",
       "| 2.7 |\n",
       "| 4.0 |\n",
       "| 4.9 |\n",
       "| 8.0 |\n",
       "\n"
      ],
      "text/plain": [
       "     [,1]\n",
       "[1,] 0.4 \n",
       "[2,] 2.7 \n",
       "[3,] 4.0 \n",
       "[4,] 4.9 \n",
       "[5,] 8.0 "
      ]
     },
     "metadata": {},
     "output_type": "display_data"
    },
    {
     "data": {
      "image/png": "[encoded data removed]",
      "text/plain": [
       "plot without title"
      ]
     },
     "metadata": {
      "image/png": {
       "height": 420,
       "width": 420
      }
     },
     "output_type": "display_data"
    }
   ],
   "source": [
    "boxplot(firedata$wind)$stats"
   ]
  },
  {
   "cell_type": "code",
   "execution_count": 28,
   "metadata": {},
   "outputs": [
    {
     "data": {
      "text/html": [
       "<table>\n",
       "<caption>A data.frame: 4 × 13</caption>\n",
       "<thead>\n",
       "\t<tr><th></th><th scope=col>X</th><th scope=col>Y</th><th scope=col>month</th><th scope=col>day</th><th scope=col>FFMC</th><th scope=col>DMC</th><th scope=col>DC</th><th scope=col>ISI</th><th scope=col>temp</th><th scope=col>RH</th><th scope=col>wind</th><th scope=col>rain</th><th scope=col>area</th></tr>\n",
       "\t<tr><th></th><th scope=col>&lt;int&gt;</th><th scope=col>&lt;int&gt;</th><th scope=col>&lt;chr&gt;</th><th scope=col>&lt;chr&gt;</th><th scope=col>&lt;dbl&gt;</th><th scope=col>&lt;dbl&gt;</th><th scope=col>&lt;dbl&gt;</th><th scope=col>&lt;dbl&gt;</th><th scope=col>&lt;dbl&gt;</th><th scope=col>&lt;int&gt;</th><th scope=col>&lt;dbl&gt;</th><th scope=col>&lt;dbl&gt;</th><th scope=col>&lt;dbl&gt;</th></tr>\n",
       "</thead>\n",
       "<tbody>\n",
       "\t<tr><th scope=row>169</th><td>6</td><td>5</td><td>mar</td><td>fri</td><td>91.2</td><td> 48.3</td><td> 97.8</td><td>12.5</td><td>14.6</td><td>26</td><td>9.4</td><td>0</td><td> 2.53</td></tr>\n",
       "\t<tr><th scope=row>412</th><td>7</td><td>4</td><td>feb</td><td>fri</td><td>84.6</td><td>  3.2</td><td> 43.6</td><td> 3.3</td><td> 8.2</td><td>53</td><td>9.4</td><td>0</td><td> 4.62</td></tr>\n",
       "\t<tr><th scope=row>470</th><td>6</td><td>3</td><td>apr</td><td>sun</td><td>91.0</td><td> 14.6</td><td> 25.6</td><td>12.3</td><td>13.7</td><td>33</td><td>9.4</td><td>0</td><td>61.13</td></tr>\n",
       "\t<tr><th scope=row>476</th><td>2</td><td>5</td><td>jun</td><td>thu</td><td>93.7</td><td>121.7</td><td>350.2</td><td>18.0</td><td>22.7</td><td>40</td><td>9.4</td><td>0</td><td> 3.19</td></tr>\n",
       "</tbody>\n",
       "</table>\n"
      ],
      "text/latex": [
       "A data.frame: 4 × 13\n",
       "\\begin{tabular}{r|lllllllllllll}\n",
       "  & X & Y & month & day & FFMC & DMC & DC & ISI & temp & RH & wind & rain & area\\\\\n",
       "  & <int> & <int> & <chr> & <chr> & <dbl> & <dbl> & <dbl> & <dbl> & <dbl> & <int> & <dbl> & <dbl> & <dbl>\\\\\n",
       "\\hline\n",
       "\t169 & 6 & 5 & mar & fri & 91.2 &  48.3 &  97.8 & 12.5 & 14.6 & 26 & 9.4 & 0 &  2.53\\\\\n",
       "\t412 & 7 & 4 & feb & fri & 84.6 &   3.2 &  43.6 &  3.3 &  8.2 & 53 & 9.4 & 0 &  4.62\\\\\n",
       "\t470 & 6 & 3 & apr & sun & 91.0 &  14.6 &  25.6 & 12.3 & 13.7 & 33 & 9.4 & 0 & 61.13\\\\\n",
       "\t476 & 2 & 5 & jun & thu & 93.7 & 121.7 & 350.2 & 18.0 & 22.7 & 40 & 9.4 & 0 &  3.19\\\\\n",
       "\\end{tabular}\n"
      ],
      "text/markdown": [
       "\n",
       "A data.frame: 4 × 13\n",
       "\n",
       "| <!--/--> | X &lt;int&gt; | Y &lt;int&gt; | month &lt;chr&gt; | day &lt;chr&gt; | FFMC &lt;dbl&gt; | DMC &lt;dbl&gt; | DC &lt;dbl&gt; | ISI &lt;dbl&gt; | temp &lt;dbl&gt; | RH &lt;int&gt; | wind &lt;dbl&gt; | rain &lt;dbl&gt; | area &lt;dbl&gt; |\n",
       "|---|---|---|---|---|---|---|---|---|---|---|---|---|---|\n",
       "| 169 | 6 | 5 | mar | fri | 91.2 |  48.3 |  97.8 | 12.5 | 14.6 | 26 | 9.4 | 0 |  2.53 |\n",
       "| 412 | 7 | 4 | feb | fri | 84.6 |   3.2 |  43.6 |  3.3 |  8.2 | 53 | 9.4 | 0 |  4.62 |\n",
       "| 470 | 6 | 3 | apr | sun | 91.0 |  14.6 |  25.6 | 12.3 | 13.7 | 33 | 9.4 | 0 | 61.13 |\n",
       "| 476 | 2 | 5 | jun | thu | 93.7 | 121.7 | 350.2 | 18.0 | 22.7 | 40 | 9.4 | 0 |  3.19 |\n",
       "\n"
      ],
      "text/plain": [
       "    X Y month day FFMC DMC   DC    ISI  temp RH wind rain area \n",
       "169 6 5 mar   fri 91.2  48.3  97.8 12.5 14.6 26 9.4  0     2.53\n",
       "412 7 4 feb   fri 84.6   3.2  43.6  3.3  8.2 53 9.4  0     4.62\n",
       "470 6 3 apr   sun 91.0  14.6  25.6 12.3 13.7 33 9.4  0    61.13\n",
       "476 2 5 jun   thu 93.7 121.7 350.2 18.0 22.7 40 9.4  0     3.19"
      ]
     },
     "metadata": {},
     "output_type": "display_data"
    }
   ],
   "source": [
    "firedata[firedata$wind > 9, ]"
   ]
  },
  {
   "cell_type": "code",
   "execution_count": 29,
   "metadata": {},
   "outputs": [],
   "source": [
    "firedata <- firedata[!(firedata$wind > 9),]"
   ]
  },
  {
   "cell_type": "code",
   "execution_count": 31,
   "metadata": {},
   "outputs": [
    {
     "data": {
      "text/html": [
       "<table>\n",
       "<caption>A matrix: 5 × 1 of type dbl</caption>\n",
       "<tbody>\n",
       "\t<tr><td>0</td></tr>\n",
       "\t<tr><td>0</td></tr>\n",
       "\t<tr><td>0</td></tr>\n",
       "\t<tr><td>0</td></tr>\n",
       "\t<tr><td>0</td></tr>\n",
       "</tbody>\n",
       "</table>\n"
      ],
      "text/latex": [
       "A matrix: 5 × 1 of type dbl\n",
       "\\begin{tabular}{l}\n",
       "\t 0\\\\\n",
       "\t 0\\\\\n",
       "\t 0\\\\\n",
       "\t 0\\\\\n",
       "\t 0\\\\\n",
       "\\end{tabular}\n"
      ],
      "text/markdown": [
       "\n",
       "A matrix: 5 × 1 of type dbl\n",
       "\n",
       "| 0 |\n",
       "| 0 |\n",
       "| 0 |\n",
       "| 0 |\n",
       "| 0 |\n",
       "\n"
      ],
      "text/plain": [
       "     [,1]\n",
       "[1,] 0   \n",
       "[2,] 0   \n",
       "[3,] 0   \n",
       "[4,] 0   \n",
       "[5,] 0   "
      ]
     },
     "metadata": {},
     "output_type": "display_data"
    },
    {
     "data": {
      "image/png": "[encoded data removed]",
      "text/plain": [
       "plot without title"
      ]
     },
     "metadata": {
      "image/png": {
       "height": 420,
       "width": 420
      }
     },
     "output_type": "display_data"
    }
   ],
   "source": [
    "boxplot(firedata$rain)$stats"
   ]
  },
  {
   "cell_type": "code",
   "execution_count": 32,
   "metadata": {},
   "outputs": [
    {
     "data": {
      "text/plain": [
       "\n",
       "FALSE  TRUE \n",
       "    7   472 "
      ]
     },
     "metadata": {},
     "output_type": "display_data"
    }
   ],
   "source": [
    "table(firedata$rain == 0)"
   ]
  },
  {
   "cell_type": "code",
   "execution_count": 33,
   "metadata": {},
   "outputs": [
    {
     "data": {
      "text/html": [
       "<table>\n",
       "<caption>A matrix: 5 × 1 of type dbl</caption>\n",
       "<tbody>\n",
       "\t<tr><td> 0.000</td></tr>\n",
       "\t<tr><td> 0.000</td></tr>\n",
       "\t<tr><td> 0.540</td></tr>\n",
       "\t<tr><td> 6.555</td></tr>\n",
       "\t<tr><td>16.330</td></tr>\n",
       "</tbody>\n",
       "</table>\n"
      ],
      "text/latex": [
       "A matrix: 5 × 1 of type dbl\n",
       "\\begin{tabular}{l}\n",
       "\t  0.000\\\\\n",
       "\t  0.000\\\\\n",
       "\t  0.540\\\\\n",
       "\t  6.555\\\\\n",
       "\t 16.330\\\\\n",
       "\\end{tabular}\n"
      ],
      "text/markdown": [
       "\n",
       "A matrix: 5 × 1 of type dbl\n",
       "\n",
       "|  0.000 |\n",
       "|  0.000 |\n",
       "|  0.540 |\n",
       "|  6.555 |\n",
       "| 16.330 |\n",
       "\n"
      ],
      "text/plain": [
       "     [,1]  \n",
       "[1,]  0.000\n",
       "[2,]  0.000\n",
       "[3,]  0.540\n",
       "[4,]  6.555\n",
       "[5,] 16.330"
      ]
     },
     "metadata": {},
     "output_type": "display_data"
    },
    {
     "data": {
      "image/png": "[encoded data removed]",
      "text/plain": [
       "plot without title"
      ]
     },
     "metadata": {
      "image/png": {
       "height": 420,
       "width": 420
      }
     },
     "output_type": "display_data"
    }
   ],
   "source": [
    "boxplot(firedata$area)$stats"
   ]
  },
  {
   "cell_type": "code",
   "execution_count": 34,
   "metadata": {},
   "outputs": [
    {
     "data": {
      "text/html": [
       "<table>\n",
       "<caption>A data.frame: 2 × 13</caption>\n",
       "<thead>\n",
       "\t<tr><th></th><th scope=col>X</th><th scope=col>Y</th><th scope=col>month</th><th scope=col>day</th><th scope=col>FFMC</th><th scope=col>DMC</th><th scope=col>DC</th><th scope=col>ISI</th><th scope=col>temp</th><th scope=col>RH</th><th scope=col>wind</th><th scope=col>rain</th><th scope=col>area</th></tr>\n",
       "\t<tr><th></th><th scope=col>&lt;int&gt;</th><th scope=col>&lt;int&gt;</th><th scope=col>&lt;chr&gt;</th><th scope=col>&lt;chr&gt;</th><th scope=col>&lt;dbl&gt;</th><th scope=col>&lt;dbl&gt;</th><th scope=col>&lt;dbl&gt;</th><th scope=col>&lt;dbl&gt;</th><th scope=col>&lt;dbl&gt;</th><th scope=col>&lt;int&gt;</th><th scope=col>&lt;dbl&gt;</th><th scope=col>&lt;dbl&gt;</th><th scope=col>&lt;dbl&gt;</th></tr>\n",
       "</thead>\n",
       "<tbody>\n",
       "\t<tr><th scope=row>239</th><td>6</td><td>5</td><td>sep</td><td>sat</td><td>92.5</td><td>121.1</td><td>674.4</td><td> 8.6</td><td>25.1</td><td>27</td><td>4.0</td><td>0</td><td>1090.84</td></tr>\n",
       "\t<tr><th scope=row>416</th><td>8</td><td>6</td><td>aug</td><td>thu</td><td>94.8</td><td>222.4</td><td>698.6</td><td>13.9</td><td>27.5</td><td>27</td><td>4.9</td><td>0</td><td> 746.28</td></tr>\n",
       "</tbody>\n",
       "</table>\n"
      ],
      "text/latex": [
       "A data.frame: 2 × 13\n",
       "\\begin{tabular}{r|lllllllllllll}\n",
       "  & X & Y & month & day & FFMC & DMC & DC & ISI & temp & RH & wind & rain & area\\\\\n",
       "  & <int> & <int> & <chr> & <chr> & <dbl> & <dbl> & <dbl> & <dbl> & <dbl> & <int> & <dbl> & <dbl> & <dbl>\\\\\n",
       "\\hline\n",
       "\t239 & 6 & 5 & sep & sat & 92.5 & 121.1 & 674.4 &  8.6 & 25.1 & 27 & 4.0 & 0 & 1090.84\\\\\n",
       "\t416 & 8 & 6 & aug & thu & 94.8 & 222.4 & 698.6 & 13.9 & 27.5 & 27 & 4.9 & 0 &  746.28\\\\\n",
       "\\end{tabular}\n"
      ],
      "text/markdown": [
       "\n",
       "A data.frame: 2 × 13\n",
       "\n",
       "| <!--/--> | X &lt;int&gt; | Y &lt;int&gt; | month &lt;chr&gt; | day &lt;chr&gt; | FFMC &lt;dbl&gt; | DMC &lt;dbl&gt; | DC &lt;dbl&gt; | ISI &lt;dbl&gt; | temp &lt;dbl&gt; | RH &lt;int&gt; | wind &lt;dbl&gt; | rain &lt;dbl&gt; | area &lt;dbl&gt; |\n",
       "|---|---|---|---|---|---|---|---|---|---|---|---|---|---|\n",
       "| 239 | 6 | 5 | sep | sat | 92.5 | 121.1 | 674.4 |  8.6 | 25.1 | 27 | 4.0 | 0 | 1090.84 |\n",
       "| 416 | 8 | 6 | aug | thu | 94.8 | 222.4 | 698.6 | 13.9 | 27.5 | 27 | 4.9 | 0 |  746.28 |\n",
       "\n"
      ],
      "text/plain": [
       "    X Y month day FFMC DMC   DC    ISI  temp RH wind rain area   \n",
       "239 6 5 sep   sat 92.5 121.1 674.4  8.6 25.1 27 4.0  0    1090.84\n",
       "416 8 6 aug   thu 94.8 222.4 698.6 13.9 27.5 27 4.9  0     746.28"
      ]
     },
     "metadata": {},
     "output_type": "display_data"
    }
   ],
   "source": [
    "firedata[firedata$area > 500, ]"
   ]
  },
  {
   "cell_type": "code",
   "execution_count": 35,
   "metadata": {},
   "outputs": [],
   "source": [
    "firedata <- firedata[!(firedata$area > 500), ]"
   ]
  },
  {
   "cell_type": "code",
   "execution_count": 36,
   "metadata": {},
   "outputs": [
    {
     "name": "stdout",
     "output_type": "stream",
     "text": [
      "'data.frame':\t477 obs. of  13 variables:\n",
      " $ X    : int  7 7 7 8 8 8 8 7 7 6 ...\n",
      " $ Y    : int  5 4 4 6 6 6 6 5 5 5 ...\n",
      " $ month: chr  \"mar\" \"oct\" \"oct\" \"aug\" ...\n",
      " $ day  : chr  \"fri\" \"tue\" \"sat\" \"sun\" ...\n",
      " $ FFMC : num  86.2 90.6 90.6 92.3 92.3 91.5 91 92.5 92.5 63.5 ...\n",
      " $ DMC  : num  26.2 35.4 43.7 85.3 88.9 ...\n",
      " $ DC   : num  94.3 669.1 686.9 488 495.6 ...\n",
      " $ ISI  : num  5.1 6.7 6.7 14.7 8.5 10.7 7 7.1 7.1 0.8 ...\n",
      " $ temp : num  8.2 18 14.6 22.2 24.1 8 13.1 22.8 17.8 17 ...\n",
      " $ RH   : int  51 33 33 29 27 86 63 40 51 72 ...\n",
      " $ wind : num  6.7 0.9 1.3 5.4 3.1 2.2 5.4 4 7.2 6.7 ...\n",
      " $ rain : num  0 0 0 0 0 0 0 0 0 0 ...\n",
      " $ area : num  0 0 0 0 0 0 0 0 0 0 ...\n"
     ]
    }
   ],
   "source": [
    "str(firedata)"
   ]
  },
  {
   "cell_type": "code",
   "execution_count": 37,
   "metadata": {},
   "outputs": [],
   "source": [
    "scaling_fun <- function (x) {\n",
    "\n",
    "normalized = (x - min(x)) / (max(x) - min(x))\n",
    "return (normalized)\n",
    "}"
   ]
  },
  {
   "cell_type": "code",
   "execution_count": 41,
   "metadata": {},
   "outputs": [
    {
     "name": "stdout",
     "output_type": "stream",
     "text": [
      "'data.frame':\t477 obs. of  13 variables:\n",
      " $ X    : int  7 7 7 8 8 8 8 7 7 6 ...\n",
      " $ Y    : int  5 4 4 6 6 6 6 5 5 5 ...\n",
      " $ month: chr  \"mar\" \"oct\" \"oct\" \"aug\" ...\n",
      " $ day  : chr  \"fri\" \"tue\" \"sat\" \"sun\" ...\n",
      " $ FFMC : num  0.694 0.829 0.829 0.881 0.881 ...\n",
      " $ DMC  : num  0.0849 0.1186 0.1489 0.3011 0.3143 ...\n",
      " $ DC   : num  0.0859 0.8049 0.8271 0.5784 0.5879 ...\n",
      " $ ISI  : num  0.224 0.307 0.307 0.724 0.401 ...\n",
      " $ temp : num  0.137 0.474 0.357 0.619 0.684 ...\n",
      " $ RH   : num  0.48 0.24 0.24 0.187 0.16 ...\n",
      " $ wind : num  0.7412 0.0588 0.1059 0.5882 0.3176 ...\n",
      " $ rain : num  0 0 0 0 0 0 0 0 0 0 ...\n",
      " $ area : num  0 0 0 0 0 0 0 0 0 0 ...\n"
     ]
    }
   ],
   "source": [
    "data_scaled <- firedata\n",
    "\n",
    "for(i in 5:12){\n",
    " data_scaled[i] <- scaling_fun(firedata[i])\n",
    "}\n",
    "str(data_scaled)\n"
   ]
  },
  {
   "cell_type": "code",
   "execution_count": 42,
   "metadata": {},
   "outputs": [
    {
     "data": {
      "image/png": "[encoded data removed]",
      "text/plain": [
       "plot without title"
      ]
     },
     "metadata": {
      "image/png": {
       "height": 420,
       "width": 420
      }
     },
     "output_type": "display_data"
    }
   ],
   "source": [
    "ggplot(data=data_scaled) + \n",
    "    geom_density(mapping= aes(x=area))"
   ]
  },
  {
   "cell_type": "code",
   "execution_count": 43,
   "metadata": {},
   "outputs": [
    {
     "data": {
      "text/html": [
       "<table>\n",
       "<caption>A data.frame: 477 × 13</caption>\n",
       "<thead>\n",
       "\t<tr><th></th><th scope=col>X</th><th scope=col>Y</th><th scope=col>month</th><th scope=col>day</th><th scope=col>FFMC</th><th scope=col>DMC</th><th scope=col>DC</th><th scope=col>ISI</th><th scope=col>temp</th><th scope=col>RH</th><th scope=col>wind</th><th scope=col>rain</th><th scope=col>area</th></tr>\n",
       "\t<tr><th></th><th scope=col>&lt;int&gt;</th><th scope=col>&lt;int&gt;</th><th scope=col>&lt;chr&gt;</th><th scope=col>&lt;chr&gt;</th><th scope=col>&lt;dbl&gt;</th><th scope=col>&lt;dbl&gt;</th><th scope=col>&lt;dbl&gt;</th><th scope=col>&lt;dbl&gt;</th><th scope=col>&lt;dbl&gt;</th><th scope=col>&lt;dbl&gt;</th><th scope=col>&lt;dbl&gt;</th><th scope=col>&lt;dbl&gt;</th><th scope=col>&lt;dbl&gt;</th></tr>\n",
       "</thead>\n",
       "<tbody>\n",
       "\t<tr><th scope=row>1</th><td>7</td><td>5</td><td>mar</td><td>fri</td><td>0.6941896</td><td>0.08488840</td><td>0.08592871</td><td>0.2239583</td><td>0.1374570</td><td>0.4800000</td><td>0.74117647</td><td>0</td><td>0</td></tr>\n",
       "\t<tr><th scope=row>2</th><td>7</td><td>4</td><td>oct</td><td>tue</td><td>0.8287462</td><td>0.11855104</td><td>0.80487805</td><td>0.3072917</td><td>0.4742268</td><td>0.2400000</td><td>0.05882353</td><td>0</td><td>0</td></tr>\n",
       "\t<tr><th scope=row>3</th><td>7</td><td>4</td><td>oct</td><td>sat</td><td>0.8287462</td><td>0.14892060</td><td>0.82714196</td><td>0.3072917</td><td>0.3573883</td><td>0.2400000</td><td>0.10588235</td><td>0</td><td>0</td></tr>\n",
       "\t<tr><th scope=row>6</th><td>8</td><td>6</td><td>aug</td><td>sun</td><td>0.8807339</td><td>0.30113428</td><td>0.57836148</td><td>0.7239583</td><td>0.6185567</td><td>0.1866667</td><td>0.58823529</td><td>0</td><td>0</td></tr>\n",
       "\t<tr><th scope=row>7</th><td>8</td><td>6</td><td>aug</td><td>mon</td><td>0.8807339</td><td>0.31430662</td><td>0.58786742</td><td>0.4010417</td><td>0.6838488</td><td>0.1600000</td><td>0.31764706</td><td>0</td><td>0</td></tr>\n",
       "\t<tr><th scope=row>8</th><td>8</td><td>6</td><td>aug</td><td>mon</td><td>0.8562691</td><td>0.52103915</td><td>0.72870544</td><td>0.5156250</td><td>0.1305842</td><td>0.9466667</td><td>0.21176471</td><td>0</td><td>0</td></tr>\n",
       "\t<tr><th scope=row>9</th><td>8</td><td>6</td><td>sep</td><td>tue</td><td>0.8409786</td><td>0.46286132</td><td>0.83427142</td><td>0.3229167</td><td>0.3058419</td><td>0.6400000</td><td>0.58823529</td><td>0</td><td>0</td></tr>\n",
       "\t<tr><th scope=row>10</th><td>7</td><td>5</td><td>sep</td><td>sat</td><td>0.8868502</td><td>0.31101354</td><td>0.84177611</td><td>0.3281250</td><td>0.6391753</td><td>0.3333333</td><td>0.42352941</td><td>0</td><td>0</td></tr>\n",
       "\t<tr><th scope=row>11</th><td>7</td><td>5</td><td>sep</td><td>sat</td><td>0.8868502</td><td>0.31101354</td><td>0.84177611</td><td>0.3281250</td><td>0.4673540</td><td>0.4800000</td><td>0.80000000</td><td>0</td><td>0</td></tr>\n",
       "\t<tr><th scope=row>13</th><td>6</td><td>5</td><td>aug</td><td>fri</td><td>0.0000000</td><td>0.24807903</td><td>0.80012508</td><td>0.0000000</td><td>0.4398625</td><td>0.7600000</td><td>0.74117647</td><td>0</td><td>0</td></tr>\n",
       "\t<tr><th scope=row>14</th><td>6</td><td>5</td><td>sep</td><td>mon</td><td>0.8379205</td><td>0.45188438</td><td>0.82664165</td><td>0.3229167</td><td>0.5876289</td><td>0.3600000</td><td>0.21176471</td><td>0</td><td>0</td></tr>\n",
       "\t<tr><th scope=row>15</th><td>6</td><td>5</td><td>sep</td><td>wed</td><td>0.8990826</td><td>0.47676546</td><td>0.84302689</td><td>0.4375000</td><td>0.7628866</td><td>0.0800000</td><td>0.48235294</td><td>0</td><td>0</td></tr>\n",
       "\t<tr><th scope=row>16</th><td>6</td><td>5</td><td>sep</td><td>fri</td><td>0.9113150</td><td>0.50567142</td><td>0.86091307</td><td>0.6822917</td><td>0.6426117</td><td>0.3866667</td><td>0.58823529</td><td>0</td><td>0</td></tr>\n",
       "\t<tr><th scope=row>17</th><td>5</td><td>5</td><td>mar</td><td>sat</td><td>0.8623853</td><td>0.12001464</td><td>0.06904315</td><td>0.3645833</td><td>0.3745704</td><td>0.1600000</td><td>0.58823529</td><td>0</td><td>0</td></tr>\n",
       "\t<tr><th scope=row>18</th><td>8</td><td>5</td><td>oct</td><td>mon</td><td>0.6544343</td><td>0.10903769</td><td>0.79874922</td><td>0.1145833</td><td>0.4295533</td><td>0.4266667</td><td>0.52941176</td><td>0</td><td>0</td></tr>\n",
       "\t<tr><th scope=row>19</th><td>6</td><td>4</td><td>mar</td><td>wed</td><td>0.7859327</td><td>0.09110867</td><td>0.05653533</td><td>0.2864583</td><td>0.4020619</td><td>0.2666667</td><td>0.42352941</td><td>0</td><td>0</td></tr>\n",
       "\t<tr><th scope=row>20</th><td>6</td><td>4</td><td>apr</td><td>sat</td><td>0.6972477</td><td>0.08927918</td><td>0.08943089</td><td>0.2239583</td><td>0.1752577</td><td>0.3866667</td><td>0.48235294</td><td>0</td><td>0</td></tr>\n",
       "\t<tr><th scope=row>21</th><td>6</td><td>4</td><td>sep</td><td>tue</td><td>0.8409786</td><td>0.46286132</td><td>0.83427142</td><td>0.3229167</td><td>0.4845361</td><td>0.3333333</td><td>0.27058824</td><td>0</td><td>0</td></tr>\n",
       "\t<tr><th scope=row>22</th><td>5</td><td>4</td><td>sep</td><td>mon</td><td>0.8654434</td><td>0.27625320</td><td>0.87392120</td><td>0.4375000</td><td>0.5120275</td><td>0.3066667</td><td>0.27058824</td><td>0</td><td>0</td></tr>\n",
       "\t<tr><th scope=row>24</th><td>7</td><td>4</td><td>aug</td><td>sat</td><td>0.8165138</td><td>0.39480424</td><td>0.64015009</td><td>0.2812500</td><td>0.5257732</td><td>0.3733333</td><td>0.63529412</td><td>0</td><td>0</td></tr>\n",
       "\t<tr><th scope=row>26</th><td>7</td><td>4</td><td>aug</td><td>sun</td><td>0.8532110</td><td>0.51006220</td><td>0.72020013</td><td>0.5104167</td><td>0.4158076</td><td>0.6000000</td><td>0.58823529</td><td>0</td><td>0</td></tr>\n",
       "\t<tr><th scope=row>27</th><td>7</td><td>4</td><td>sep</td><td>fri</td><td>0.8837920</td><td>0.42041712</td><td>0.80350219</td><td>0.5937500</td><td>0.5085911</td><td>0.2533333</td><td>0.63529412</td><td>0</td><td>0</td></tr>\n",
       "\t<tr><th scope=row>28</th><td>7</td><td>4</td><td>sep</td><td>mon</td><td>0.8379205</td><td>0.45188438</td><td>0.82664165</td><td>0.3229167</td><td>0.5223368</td><td>0.4400000</td><td>0.10588235</td><td>0</td><td>0</td></tr>\n",
       "\t<tr><th scope=row>29</th><td>6</td><td>3</td><td>sep</td><td>sat</td><td>0.9143731</td><td>0.52103915</td><td>0.87029393</td><td>0.3802083</td><td>0.8934708</td><td>0.1200000</td><td>0.27058824</td><td>0</td><td>0</td></tr>\n",
       "\t<tr><th scope=row>30</th><td>6</td><td>3</td><td>sep</td><td>sun</td><td>0.9174312</td><td>0.53530918</td><td>0.87929956</td><td>0.3802083</td><td>0.6391753</td><td>0.3200000</td><td>0.37647059</td><td>0</td><td>0</td></tr>\n",
       "\t<tr><th scope=row>31</th><td>6</td><td>3</td><td>sep</td><td>fri</td><td>0.9418960</td><td>0.30040249</td><td>0.83389619</td><td>0.7864583</td><td>0.7285223</td><td>0.1200000</td><td>0.37647059</td><td>0</td><td>0</td></tr>\n",
       "\t<tr><th scope=row>32</th><td>6</td><td>3</td><td>sep</td><td>mon</td><td>0.7675841</td><td>0.32491767</td><td>0.85590994</td><td>0.3281250</td><td>0.2405498</td><td>0.8400000</td><td>0.84705882</td><td>0</td><td>0</td></tr>\n",
       "\t<tr><th scope=row>33</th><td>6</td><td>3</td><td>sep</td><td>fri</td><td>0.7675841</td><td>0.24405415</td><td>0.85203252</td><td>0.2604167</td><td>0.5635739</td><td>0.2933333</td><td>0.16470588</td><td>0</td><td>0</td></tr>\n",
       "\t<tr><th scope=row>34</th><td>6</td><td>3</td><td>sep</td><td>sun</td><td>0.8623853</td><td>0.26564215</td><td>0.86641651</td><td>0.3645833</td><td>0.4639175</td><td>0.3200000</td><td>0.37647059</td><td>0</td><td>0</td></tr>\n",
       "\t<tr><th scope=row>35</th><td>6</td><td>3</td><td>sep</td><td>mon</td><td>0.8654434</td><td>0.27625320</td><td>0.87392120</td><td>0.4375000</td><td>0.5841924</td><td>0.2266667</td><td>0.27058824</td><td>0</td><td>0</td></tr>\n",
       "\t<tr><th scope=row>...</th><td>...</td><td>...</td><td>...</td><td>...</td><td>...</td><td>...</td><td>...</td><td>...</td><td>...</td><td>...</td><td>...</td><td>...</td><td>...</td></tr>\n",
       "\t<tr><th scope=row>488</th><td>5</td><td>4</td><td>aug</td><td>tue</td><td>0.9663609</td><td>0.5060373</td><td>0.7257036</td><td>0.88020833</td><td>0.7628866</td><td>0.2533333</td><td>0.3764706</td><td>0.00000</td><td>2.8564702</td></tr>\n",
       "\t<tr><th scope=row>489</th><td>4</td><td>4</td><td>aug</td><td>tue</td><td>0.9663609</td><td>0.5060373</td><td>0.7257036</td><td>0.88020833</td><td>0.5223368</td><td>0.7466667</td><td>0.8470588</td><td>0.00000</td><td>3.8649314</td></tr>\n",
       "\t<tr><th scope=row>490</th><td>4</td><td>4</td><td>aug</td><td>wed</td><td>0.9663609</td><td>0.5060373</td><td>0.7257036</td><td>0.88020833</td><td>0.5635739</td><td>0.5733333</td><td>0.1058824</td><td>0.00000</td><td>0.0000000</td></tr>\n",
       "\t<tr><th scope=row>491</th><td>4</td><td>4</td><td>aug</td><td>wed</td><td>0.9663609</td><td>0.5060373</td><td>0.7257036</td><td>0.88020833</td><td>0.8419244</td><td>0.2400000</td><td>0.4235294</td><td>0.00000</td><td>0.0000000</td></tr>\n",
       "\t<tr><th scope=row>492</th><td>4</td><td>4</td><td>aug</td><td>thu</td><td>0.9877676</td><td>0.5451884</td><td>0.7485929</td><td>0.67708333</td><td>0.9690722</td><td>0.0800000</td><td>0.4823529</td><td>0.00000</td><td>0.0000000</td></tr>\n",
       "\t<tr><th scope=row>493</th><td>1</td><td>3</td><td>aug</td><td>fri</td><td>0.9908257</td><td>0.5671423</td><td>0.7604753</td><td>0.54687500</td><td>0.9690722</td><td>0.1600000</td><td>0.2117647</td><td>0.00000</td><td>0.0000000</td></tr>\n",
       "\t<tr><th scope=row>494</th><td>1</td><td>3</td><td>aug</td><td>fri</td><td>0.9908257</td><td>0.5671423</td><td>0.7604753</td><td>0.54687500</td><td>0.8006873</td><td>0.1866667</td><td>0.4823529</td><td>0.00000</td><td>3.7914360</td></tr>\n",
       "\t<tr><th scope=row>495</th><td>6</td><td>6</td><td>aug</td><td>sat</td><td>0.9938838</td><td>0.5890962</td><td>0.7722326</td><td>0.68750000</td><td>0.9140893</td><td>0.2000000</td><td>0.5294118</td><td>0.00000</td><td>2.2607209</td></tr>\n",
       "\t<tr><th scope=row>496</th><td>6</td><td>6</td><td>aug</td><td>mon</td><td>1.0000000</td><td>0.6311745</td><td>0.7957473</td><td>0.83333333</td><td>0.6769759</td><td>0.3600000</td><td>0.2117647</td><td>0.00000</td><td>0.0000000</td></tr>\n",
       "\t<tr><th scope=row>497</th><td>4</td><td>5</td><td>aug</td><td>mon</td><td>1.0000000</td><td>0.6311745</td><td>0.7957473</td><td>0.83333333</td><td>0.9759450</td><td>0.1466667</td><td>0.3176471</td><td>0.00000</td><td>1.3270750</td></tr>\n",
       "\t<tr><th scope=row>498</th><td>3</td><td>4</td><td>aug</td><td>tue</td><td>0.9969419</td><td>0.6516648</td><td>0.8075047</td><td>0.70312500</td><td>0.9656357</td><td>0.1600000</td><td>0.2117647</td><td>0.00000</td><td>2.7523860</td></tr>\n",
       "\t<tr><th scope=row>499</th><td>6</td><td>5</td><td>aug</td><td>tue</td><td>0.9969419</td><td>0.6516648</td><td>0.8075047</td><td>0.70312500</td><td>1.0000000</td><td>0.1466667</td><td>0.2705882</td><td>0.00000</td><td>3.7266568</td></tr>\n",
       "\t<tr><th scope=row>500</th><td>7</td><td>5</td><td>aug</td><td>tue</td><td>0.9969419</td><td>0.6516648</td><td>0.8075047</td><td>0.70312500</td><td>0.7938144</td><td>0.6400000</td><td>0.5294118</td><td>1.00000</td><td>2.4697930</td></tr>\n",
       "\t<tr><th scope=row>501</th><td>8</td><td>6</td><td>aug</td><td>tue</td><td>0.9969419</td><td>0.6516648</td><td>0.8075047</td><td>0.70312500</td><td>0.5979381</td><td>0.6666667</td><td>0.5294118</td><td>0.12500</td><td>0.0000000</td></tr>\n",
       "\t<tr><th scope=row>502</th><td>7</td><td>5</td><td>aug</td><td>tue</td><td>0.9969419</td><td>0.6516648</td><td>0.8075047</td><td>0.70312500</td><td>0.5979381</td><td>0.6666667</td><td>0.5294118</td><td>0.12500</td><td>0.0000000</td></tr>\n",
       "\t<tr><th scope=row>503</th><td>4</td><td>4</td><td>aug</td><td>tue</td><td>0.9969419</td><td>0.6516648</td><td>0.8075047</td><td>0.70312500</td><td>0.5670103</td><td>0.7200000</td><td>0.5294118</td><td>0.06250</td><td>0.0000000</td></tr>\n",
       "\t<tr><th scope=row>504</th><td>2</td><td>4</td><td>aug</td><td>wed</td><td>0.9480122</td><td>0.4990853</td><td>0.8298937</td><td>1.00000000</td><td>0.8591065</td><td>0.2000000</td><td>0.5294118</td><td>0.00000</td><td>1.0818052</td></tr>\n",
       "\t<tr><th scope=row>505</th><td>4</td><td>3</td><td>aug</td><td>wed</td><td>0.9480122</td><td>0.4990853</td><td>0.8298937</td><td>1.00000000</td><td>0.8487973</td><td>0.1866667</td><td>0.5294118</td><td>0.00000</td><td>3.9237539</td></tr>\n",
       "\t<tr><th scope=row>506</th><td>1</td><td>2</td><td>aug</td><td>thu</td><td>0.8409786</td><td>0.5861690</td><td>0.8990619</td><td>0.48437500</td><td>0.7731959</td><td>0.2666667</td><td>0.1647059</td><td>0.00000</td><td>1.9169226</td></tr>\n",
       "\t<tr><th scope=row>507</th><td>1</td><td>2</td><td>aug</td><td>fri</td><td>0.8409786</td><td>0.5997073</td><td>0.9093183</td><td>0.32812500</td><td>0.4914089</td><td>0.7733333</td><td>0.9529412</td><td>0.00000</td><td>0.0000000</td></tr>\n",
       "\t<tr><th scope=row>508</th><td>2</td><td>4</td><td>aug</td><td>fri</td><td>0.8409786</td><td>0.5997073</td><td>0.9093183</td><td>0.32812500</td><td>0.7457045</td><td>0.3466667</td><td>0.3764706</td><td>0.00000</td><td>0.0000000</td></tr>\n",
       "\t<tr><th scope=row>509</th><td>1</td><td>2</td><td>aug</td><td>fri</td><td>0.8409786</td><td>0.5997073</td><td>0.9093183</td><td>0.32812500</td><td>0.7457045</td><td>0.3466667</td><td>0.3764706</td><td>0.00000</td><td>0.0000000</td></tr>\n",
       "\t<tr><th scope=row>510</th><td>5</td><td>4</td><td>aug</td><td>fri</td><td>0.8409786</td><td>0.5997073</td><td>0.9093183</td><td>0.32812500</td><td>0.5807560</td><td>0.7466667</td><td>0.8470588</td><td>0.21875</td><td>1.1537316</td></tr>\n",
       "\t<tr><th scope=row>511</th><td>6</td><td>5</td><td>aug</td><td>fri</td><td>0.8409786</td><td>0.5997073</td><td>0.9093183</td><td>0.32812500</td><td>0.4810997</td><td>0.6266667</td><td>0.5882353</td><td>0.00000</td><td>0.3576744</td></tr>\n",
       "\t<tr><th scope=row>512</th><td>8</td><td>6</td><td>aug</td><td>sun</td><td>0.5535168</td><td>0.1964874</td><td>0.8005003</td><td>0.05729167</td><td>0.8109966</td><td>0.2666667</td><td>0.2705882</td><td>0.00000</td><td>0.0000000</td></tr>\n",
       "\t<tr><th scope=row>513</th><td>4</td><td>3</td><td>aug</td><td>sun</td><td>0.5535168</td><td>0.1964874</td><td>0.8005003</td><td>0.05729167</td><td>0.8109966</td><td>0.2266667</td><td>0.2705882</td><td>0.00000</td><td>2.0068708</td></tr>\n",
       "\t<tr><th scope=row>514</th><td>2</td><td>4</td><td>aug</td><td>sun</td><td>0.5535168</td><td>0.1964874</td><td>0.8005003</td><td>0.05729167</td><td>0.6082474</td><td>0.7466667</td><td>0.6352941</td><td>0.00000</td><td>4.0125921</td></tr>\n",
       "\t<tr><th scope=row>515</th><td>7</td><td>4</td><td>aug</td><td>sun</td><td>0.5535168</td><td>0.1964874</td><td>0.8005003</td><td>0.05729167</td><td>0.5841924</td><td>0.7333333</td><td>0.7411765</td><td>0.00000</td><td>2.4981519</td></tr>\n",
       "\t<tr><th scope=row>516</th><td>1</td><td>4</td><td>aug</td><td>sat</td><td>0.9449541</td><td>0.5232345</td><td>0.7368355</td><td>0.54687500</td><td>0.7353952</td><td>0.3600000</td><td>0.4235294</td><td>0.00000</td><td>0.0000000</td></tr>\n",
       "\t<tr><th scope=row>517</th><td>6</td><td>3</td><td>nov</td><td>tue</td><td>0.4892966</td><td>0.0000000</td><td>0.1014384</td><td>0.01562500</td><td>0.2611684</td><td>0.2133333</td><td>0.4823529</td><td>0.00000</td><td>0.0000000</td></tr>\n",
       "</tbody>\n",
       "</table>\n"
      ],
      "text/latex": [
       "A data.frame: 477 × 13\n",
       "\\begin{tabular}{r|lllllllllllll}\n",
       "  & X & Y & month & day & FFMC & DMC & DC & ISI & temp & RH & wind & rain & area\\\\\n",
       "  & <int> & <int> & <chr> & <chr> & <dbl> & <dbl> & <dbl> & <dbl> & <dbl> & <dbl> & <dbl> & <dbl> & <dbl>\\\\\n",
       "\\hline\n",
       "\t1 & 7 & 5 & mar & fri & 0.6941896 & 0.08488840 & 0.08592871 & 0.2239583 & 0.1374570 & 0.4800000 & 0.74117647 & 0 & 0\\\\\n",
       "\t2 & 7 & 4 & oct & tue & 0.8287462 & 0.11855104 & 0.80487805 & 0.3072917 & 0.4742268 & 0.2400000 & 0.05882353 & 0 & 0\\\\\n",
       "\t3 & 7 & 4 & oct & sat & 0.8287462 & 0.14892060 & 0.82714196 & 0.3072917 & 0.3573883 & 0.2400000 & 0.10588235 & 0 & 0\\\\\n",
       "\t6 & 8 & 6 & aug & sun & 0.8807339 & 0.30113428 & 0.57836148 & 0.7239583 & 0.6185567 & 0.1866667 & 0.58823529 & 0 & 0\\\\\n",
       "\t7 & 8 & 6 & aug & mon & 0.8807339 & 0.31430662 & 0.58786742 & 0.4010417 & 0.6838488 & 0.1600000 & 0.31764706 & 0 & 0\\\\\n",
       "\t8 & 8 & 6 & aug & mon & 0.8562691 & 0.52103915 & 0.72870544 & 0.5156250 & 0.1305842 & 0.9466667 & 0.21176471 & 0 & 0\\\\\n",
       "\t9 & 8 & 6 & sep & tue & 0.8409786 & 0.46286132 & 0.83427142 & 0.3229167 & 0.3058419 & 0.6400000 & 0.58823529 & 0 & 0\\\\\n",
       "\t10 & 7 & 5 & sep & sat & 0.8868502 & 0.31101354 & 0.84177611 & 0.3281250 & 0.6391753 & 0.3333333 & 0.42352941 & 0 & 0\\\\\n",
       "\t11 & 7 & 5 & sep & sat & 0.8868502 & 0.31101354 & 0.84177611 & 0.3281250 & 0.4673540 & 0.4800000 & 0.80000000 & 0 & 0\\\\\n",
       "\t13 & 6 & 5 & aug & fri & 0.0000000 & 0.24807903 & 0.80012508 & 0.0000000 & 0.4398625 & 0.7600000 & 0.74117647 & 0 & 0\\\\\n",
       "\t14 & 6 & 5 & sep & mon & 0.8379205 & 0.45188438 & 0.82664165 & 0.3229167 & 0.5876289 & 0.3600000 & 0.21176471 & 0 & 0\\\\\n",
       "\t15 & 6 & 5 & sep & wed & 0.8990826 & 0.47676546 & 0.84302689 & 0.4375000 & 0.7628866 & 0.0800000 & 0.48235294 & 0 & 0\\\\\n",
       "\t16 & 6 & 5 & sep & fri & 0.9113150 & 0.50567142 & 0.86091307 & 0.6822917 & 0.6426117 & 0.3866667 & 0.58823529 & 0 & 0\\\\\n",
       "\t17 & 5 & 5 & mar & sat & 0.8623853 & 0.12001464 & 0.06904315 & 0.3645833 & 0.3745704 & 0.1600000 & 0.58823529 & 0 & 0\\\\\n",
       "\t18 & 8 & 5 & oct & mon & 0.6544343 & 0.10903769 & 0.79874922 & 0.1145833 & 0.4295533 & 0.4266667 & 0.52941176 & 0 & 0\\\\\n",
       "\t19 & 6 & 4 & mar & wed & 0.7859327 & 0.09110867 & 0.05653533 & 0.2864583 & 0.4020619 & 0.2666667 & 0.42352941 & 0 & 0\\\\\n",
       "\t20 & 6 & 4 & apr & sat & 0.6972477 & 0.08927918 & 0.08943089 & 0.2239583 & 0.1752577 & 0.3866667 & 0.48235294 & 0 & 0\\\\\n",
       "\t21 & 6 & 4 & sep & tue & 0.8409786 & 0.46286132 & 0.83427142 & 0.3229167 & 0.4845361 & 0.3333333 & 0.27058824 & 0 & 0\\\\\n",
       "\t22 & 5 & 4 & sep & mon & 0.8654434 & 0.27625320 & 0.87392120 & 0.4375000 & 0.5120275 & 0.3066667 & 0.27058824 & 0 & 0\\\\\n",
       "\t24 & 7 & 4 & aug & sat & 0.8165138 & 0.39480424 & 0.64015009 & 0.2812500 & 0.5257732 & 0.3733333 & 0.63529412 & 0 & 0\\\\\n",
       "\t26 & 7 & 4 & aug & sun & 0.8532110 & 0.51006220 & 0.72020013 & 0.5104167 & 0.4158076 & 0.6000000 & 0.58823529 & 0 & 0\\\\\n",
       "\t27 & 7 & 4 & sep & fri & 0.8837920 & 0.42041712 & 0.80350219 & 0.5937500 & 0.5085911 & 0.2533333 & 0.63529412 & 0 & 0\\\\\n",
       "\t28 & 7 & 4 & sep & mon & 0.8379205 & 0.45188438 & 0.82664165 & 0.3229167 & 0.5223368 & 0.4400000 & 0.10588235 & 0 & 0\\\\\n",
       "\t29 & 6 & 3 & sep & sat & 0.9143731 & 0.52103915 & 0.87029393 & 0.3802083 & 0.8934708 & 0.1200000 & 0.27058824 & 0 & 0\\\\\n",
       "\t30 & 6 & 3 & sep & sun & 0.9174312 & 0.53530918 & 0.87929956 & 0.3802083 & 0.6391753 & 0.3200000 & 0.37647059 & 0 & 0\\\\\n",
       "\t31 & 6 & 3 & sep & fri & 0.9418960 & 0.30040249 & 0.83389619 & 0.7864583 & 0.7285223 & 0.1200000 & 0.37647059 & 0 & 0\\\\\n",
       "\t32 & 6 & 3 & sep & mon & 0.7675841 & 0.32491767 & 0.85590994 & 0.3281250 & 0.2405498 & 0.8400000 & 0.84705882 & 0 & 0\\\\\n",
       "\t33 & 6 & 3 & sep & fri & 0.7675841 & 0.24405415 & 0.85203252 & 0.2604167 & 0.5635739 & 0.2933333 & 0.16470588 & 0 & 0\\\\\n",
       "\t34 & 6 & 3 & sep & sun & 0.8623853 & 0.26564215 & 0.86641651 & 0.3645833 & 0.4639175 & 0.3200000 & 0.37647059 & 0 & 0\\\\\n",
       "\t35 & 6 & 3 & sep & mon & 0.8654434 & 0.27625320 & 0.87392120 & 0.4375000 & 0.5841924 & 0.2266667 & 0.27058824 & 0 & 0\\\\\n",
       "\t... & ... & ... & ... & ... & ... & ... & ... & ... & ... & ... & ... & ... & ...\\\\\n",
       "\t488 & 5 & 4 & aug & tue & 0.9663609 & 0.5060373 & 0.7257036 & 0.88020833 & 0.7628866 & 0.2533333 & 0.3764706 & 0.00000 & 2.8564702\\\\\n",
       "\t489 & 4 & 4 & aug & tue & 0.9663609 & 0.5060373 & 0.7257036 & 0.88020833 & 0.5223368 & 0.7466667 & 0.8470588 & 0.00000 & 3.8649314\\\\\n",
       "\t490 & 4 & 4 & aug & wed & 0.9663609 & 0.5060373 & 0.7257036 & 0.88020833 & 0.5635739 & 0.5733333 & 0.1058824 & 0.00000 & 0.0000000\\\\\n",
       "\t491 & 4 & 4 & aug & wed & 0.9663609 & 0.5060373 & 0.7257036 & 0.88020833 & 0.8419244 & 0.2400000 & 0.4235294 & 0.00000 & 0.0000000\\\\\n",
       "\t492 & 4 & 4 & aug & thu & 0.9877676 & 0.5451884 & 0.7485929 & 0.67708333 & 0.9690722 & 0.0800000 & 0.4823529 & 0.00000 & 0.0000000\\\\\n",
       "\t493 & 1 & 3 & aug & fri & 0.9908257 & 0.5671423 & 0.7604753 & 0.54687500 & 0.9690722 & 0.1600000 & 0.2117647 & 0.00000 & 0.0000000\\\\\n",
       "\t494 & 1 & 3 & aug & fri & 0.9908257 & 0.5671423 & 0.7604753 & 0.54687500 & 0.8006873 & 0.1866667 & 0.4823529 & 0.00000 & 3.7914360\\\\\n",
       "\t495 & 6 & 6 & aug & sat & 0.9938838 & 0.5890962 & 0.7722326 & 0.68750000 & 0.9140893 & 0.2000000 & 0.5294118 & 0.00000 & 2.2607209\\\\\n",
       "\t496 & 6 & 6 & aug & mon & 1.0000000 & 0.6311745 & 0.7957473 & 0.83333333 & 0.6769759 & 0.3600000 & 0.2117647 & 0.00000 & 0.0000000\\\\\n",
       "\t497 & 4 & 5 & aug & mon & 1.0000000 & 0.6311745 & 0.7957473 & 0.83333333 & 0.9759450 & 0.1466667 & 0.3176471 & 0.00000 & 1.3270750\\\\\n",
       "\t498 & 3 & 4 & aug & tue & 0.9969419 & 0.6516648 & 0.8075047 & 0.70312500 & 0.9656357 & 0.1600000 & 0.2117647 & 0.00000 & 2.7523860\\\\\n",
       "\t499 & 6 & 5 & aug & tue & 0.9969419 & 0.6516648 & 0.8075047 & 0.70312500 & 1.0000000 & 0.1466667 & 0.2705882 & 0.00000 & 3.7266568\\\\\n",
       "\t500 & 7 & 5 & aug & tue & 0.9969419 & 0.6516648 & 0.8075047 & 0.70312500 & 0.7938144 & 0.6400000 & 0.5294118 & 1.00000 & 2.4697930\\\\\n",
       "\t501 & 8 & 6 & aug & tue & 0.9969419 & 0.6516648 & 0.8075047 & 0.70312500 & 0.5979381 & 0.6666667 & 0.5294118 & 0.12500 & 0.0000000\\\\\n",
       "\t502 & 7 & 5 & aug & tue & 0.9969419 & 0.6516648 & 0.8075047 & 0.70312500 & 0.5979381 & 0.6666667 & 0.5294118 & 0.12500 & 0.0000000\\\\\n",
       "\t503 & 4 & 4 & aug & tue & 0.9969419 & 0.6516648 & 0.8075047 & 0.70312500 & 0.5670103 & 0.7200000 & 0.5294118 & 0.06250 & 0.0000000\\\\\n",
       "\t504 & 2 & 4 & aug & wed & 0.9480122 & 0.4990853 & 0.8298937 & 1.00000000 & 0.8591065 & 0.2000000 & 0.5294118 & 0.00000 & 1.0818052\\\\\n",
       "\t505 & 4 & 3 & aug & wed & 0.9480122 & 0.4990853 & 0.8298937 & 1.00000000 & 0.8487973 & 0.1866667 & 0.5294118 & 0.00000 & 3.9237539\\\\\n",
       "\t506 & 1 & 2 & aug & thu & 0.8409786 & 0.5861690 & 0.8990619 & 0.48437500 & 0.7731959 & 0.2666667 & 0.1647059 & 0.00000 & 1.9169226\\\\\n",
       "\t507 & 1 & 2 & aug & fri & 0.8409786 & 0.5997073 & 0.9093183 & 0.32812500 & 0.4914089 & 0.7733333 & 0.9529412 & 0.00000 & 0.0000000\\\\\n",
       "\t508 & 2 & 4 & aug & fri & 0.8409786 & 0.5997073 & 0.9093183 & 0.32812500 & 0.7457045 & 0.3466667 & 0.3764706 & 0.00000 & 0.0000000\\\\\n",
       "\t509 & 1 & 2 & aug & fri & 0.8409786 & 0.5997073 & 0.9093183 & 0.32812500 & 0.7457045 & 0.3466667 & 0.3764706 & 0.00000 & 0.0000000\\\\\n",
       "\t510 & 5 & 4 & aug & fri & 0.8409786 & 0.5997073 & 0.9093183 & 0.32812500 & 0.5807560 & 0.7466667 & 0.8470588 & 0.21875 & 1.1537316\\\\\n",
       "\t511 & 6 & 5 & aug & fri & 0.8409786 & 0.5997073 & 0.9093183 & 0.32812500 & 0.4810997 & 0.6266667 & 0.5882353 & 0.00000 & 0.3576744\\\\\n",
       "\t512 & 8 & 6 & aug & sun & 0.5535168 & 0.1964874 & 0.8005003 & 0.05729167 & 0.8109966 & 0.2666667 & 0.2705882 & 0.00000 & 0.0000000\\\\\n",
       "\t513 & 4 & 3 & aug & sun & 0.5535168 & 0.1964874 & 0.8005003 & 0.05729167 & 0.8109966 & 0.2266667 & 0.2705882 & 0.00000 & 2.0068708\\\\\n",
       "\t514 & 2 & 4 & aug & sun & 0.5535168 & 0.1964874 & 0.8005003 & 0.05729167 & 0.6082474 & 0.7466667 & 0.6352941 & 0.00000 & 4.0125921\\\\\n",
       "\t515 & 7 & 4 & aug & sun & 0.5535168 & 0.1964874 & 0.8005003 & 0.05729167 & 0.5841924 & 0.7333333 & 0.7411765 & 0.00000 & 2.4981519\\\\\n",
       "\t516 & 1 & 4 & aug & sat & 0.9449541 & 0.5232345 & 0.7368355 & 0.54687500 & 0.7353952 & 0.3600000 & 0.4235294 & 0.00000 & 0.0000000\\\\\n",
       "\t517 & 6 & 3 & nov & tue & 0.4892966 & 0.0000000 & 0.1014384 & 0.01562500 & 0.2611684 & 0.2133333 & 0.4823529 & 0.00000 & 0.0000000\\\\\n",
       "\\end{tabular}\n"
      ],
      "text/markdown": [
       "\n",
       "A data.frame: 477 × 13\n",
       "\n",
       "| <!--/--> | X &lt;int&gt; | Y &lt;int&gt; | month &lt;chr&gt; | day &lt;chr&gt; | FFMC &lt;dbl&gt; | DMC &lt;dbl&gt; | DC &lt;dbl&gt; | ISI &lt;dbl&gt; | temp &lt;dbl&gt; | RH &lt;dbl&gt; | wind &lt;dbl&gt; | rain &lt;dbl&gt; | area &lt;dbl&gt; |\n",
       "|---|---|---|---|---|---|---|---|---|---|---|---|---|---|\n",
       "| 1 | 7 | 5 | mar | fri | 0.6941896 | 0.08488840 | 0.08592871 | 0.2239583 | 0.1374570 | 0.4800000 | 0.74117647 | 0 | 0 |\n",
       "| 2 | 7 | 4 | oct | tue | 0.8287462 | 0.11855104 | 0.80487805 | 0.3072917 | 0.4742268 | 0.2400000 | 0.05882353 | 0 | 0 |\n",
       "| 3 | 7 | 4 | oct | sat | 0.8287462 | 0.14892060 | 0.82714196 | 0.3072917 | 0.3573883 | 0.2400000 | 0.10588235 | 0 | 0 |\n",
       "| 6 | 8 | 6 | aug | sun | 0.8807339 | 0.30113428 | 0.57836148 | 0.7239583 | 0.6185567 | 0.1866667 | 0.58823529 | 0 | 0 |\n",
       "| 7 | 8 | 6 | aug | mon | 0.8807339 | 0.31430662 | 0.58786742 | 0.4010417 | 0.6838488 | 0.1600000 | 0.31764706 | 0 | 0 |\n",
       "| 8 | 8 | 6 | aug | mon | 0.8562691 | 0.52103915 | 0.72870544 | 0.5156250 | 0.1305842 | 0.9466667 | 0.21176471 | 0 | 0 |\n",
       "| 9 | 8 | 6 | sep | tue | 0.8409786 | 0.46286132 | 0.83427142 | 0.3229167 | 0.3058419 | 0.6400000 | 0.58823529 | 0 | 0 |\n",
       "| 10 | 7 | 5 | sep | sat | 0.8868502 | 0.31101354 | 0.84177611 | 0.3281250 | 0.6391753 | 0.3333333 | 0.42352941 | 0 | 0 |\n",
       "| 11 | 7 | 5 | sep | sat | 0.8868502 | 0.31101354 | 0.84177611 | 0.3281250 | 0.4673540 | 0.4800000 | 0.80000000 | 0 | 0 |\n",
       "| 13 | 6 | 5 | aug | fri | 0.0000000 | 0.24807903 | 0.80012508 | 0.0000000 | 0.4398625 | 0.7600000 | 0.74117647 | 0 | 0 |\n",
       "| 14 | 6 | 5 | sep | mon | 0.8379205 | 0.45188438 | 0.82664165 | 0.3229167 | 0.5876289 | 0.3600000 | 0.21176471 | 0 | 0 |\n",
       "| 15 | 6 | 5 | sep | wed | 0.8990826 | 0.47676546 | 0.84302689 | 0.4375000 | 0.7628866 | 0.0800000 | 0.48235294 | 0 | 0 |\n",
       "| 16 | 6 | 5 | sep | fri | 0.9113150 | 0.50567142 | 0.86091307 | 0.6822917 | 0.6426117 | 0.3866667 | 0.58823529 | 0 | 0 |\n",
       "| 17 | 5 | 5 | mar | sat | 0.8623853 | 0.12001464 | 0.06904315 | 0.3645833 | 0.3745704 | 0.1600000 | 0.58823529 | 0 | 0 |\n",
       "| 18 | 8 | 5 | oct | mon | 0.6544343 | 0.10903769 | 0.79874922 | 0.1145833 | 0.4295533 | 0.4266667 | 0.52941176 | 0 | 0 |\n",
       "| 19 | 6 | 4 | mar | wed | 0.7859327 | 0.09110867 | 0.05653533 | 0.2864583 | 0.4020619 | 0.2666667 | 0.42352941 | 0 | 0 |\n",
       "| 20 | 6 | 4 | apr | sat | 0.6972477 | 0.08927918 | 0.08943089 | 0.2239583 | 0.1752577 | 0.3866667 | 0.48235294 | 0 | 0 |\n",
       "| 21 | 6 | 4 | sep | tue | 0.8409786 | 0.46286132 | 0.83427142 | 0.3229167 | 0.4845361 | 0.3333333 | 0.27058824 | 0 | 0 |\n",
       "| 22 | 5 | 4 | sep | mon | 0.8654434 | 0.27625320 | 0.87392120 | 0.4375000 | 0.5120275 | 0.3066667 | 0.27058824 | 0 | 0 |\n",
       "| 24 | 7 | 4 | aug | sat | 0.8165138 | 0.39480424 | 0.64015009 | 0.2812500 | 0.5257732 | 0.3733333 | 0.63529412 | 0 | 0 |\n",
       "| 26 | 7 | 4 | aug | sun | 0.8532110 | 0.51006220 | 0.72020013 | 0.5104167 | 0.4158076 | 0.6000000 | 0.58823529 | 0 | 0 |\n",
       "| 27 | 7 | 4 | sep | fri | 0.8837920 | 0.42041712 | 0.80350219 | 0.5937500 | 0.5085911 | 0.2533333 | 0.63529412 | 0 | 0 |\n",
       "| 28 | 7 | 4 | sep | mon | 0.8379205 | 0.45188438 | 0.82664165 | 0.3229167 | 0.5223368 | 0.4400000 | 0.10588235 | 0 | 0 |\n",
       "| 29 | 6 | 3 | sep | sat | 0.9143731 | 0.52103915 | 0.87029393 | 0.3802083 | 0.8934708 | 0.1200000 | 0.27058824 | 0 | 0 |\n",
       "| 30 | 6 | 3 | sep | sun | 0.9174312 | 0.53530918 | 0.87929956 | 0.3802083 | 0.6391753 | 0.3200000 | 0.37647059 | 0 | 0 |\n",
       "| 31 | 6 | 3 | sep | fri | 0.9418960 | 0.30040249 | 0.83389619 | 0.7864583 | 0.7285223 | 0.1200000 | 0.37647059 | 0 | 0 |\n",
       "| 32 | 6 | 3 | sep | mon | 0.7675841 | 0.32491767 | 0.85590994 | 0.3281250 | 0.2405498 | 0.8400000 | 0.84705882 | 0 | 0 |\n",
       "| 33 | 6 | 3 | sep | fri | 0.7675841 | 0.24405415 | 0.85203252 | 0.2604167 | 0.5635739 | 0.2933333 | 0.16470588 | 0 | 0 |\n",
       "| 34 | 6 | 3 | sep | sun | 0.8623853 | 0.26564215 | 0.86641651 | 0.3645833 | 0.4639175 | 0.3200000 | 0.37647059 | 0 | 0 |\n",
       "| 35 | 6 | 3 | sep | mon | 0.8654434 | 0.27625320 | 0.87392120 | 0.4375000 | 0.5841924 | 0.2266667 | 0.27058824 | 0 | 0 |\n",
       "| ... | ... | ... | ... | ... | ... | ... | ... | ... | ... | ... | ... | ... | ... |\n",
       "| 488 | 5 | 4 | aug | tue | 0.9663609 | 0.5060373 | 0.7257036 | 0.88020833 | 0.7628866 | 0.2533333 | 0.3764706 | 0.00000 | 2.8564702 |\n",
       "| 489 | 4 | 4 | aug | tue | 0.9663609 | 0.5060373 | 0.7257036 | 0.88020833 | 0.5223368 | 0.7466667 | 0.8470588 | 0.00000 | 3.8649314 |\n",
       "| 490 | 4 | 4 | aug | wed | 0.9663609 | 0.5060373 | 0.7257036 | 0.88020833 | 0.5635739 | 0.5733333 | 0.1058824 | 0.00000 | 0.0000000 |\n",
       "| 491 | 4 | 4 | aug | wed | 0.9663609 | 0.5060373 | 0.7257036 | 0.88020833 | 0.8419244 | 0.2400000 | 0.4235294 | 0.00000 | 0.0000000 |\n",
       "| 492 | 4 | 4 | aug | thu | 0.9877676 | 0.5451884 | 0.7485929 | 0.67708333 | 0.9690722 | 0.0800000 | 0.4823529 | 0.00000 | 0.0000000 |\n",
       "| 493 | 1 | 3 | aug | fri | 0.9908257 | 0.5671423 | 0.7604753 | 0.54687500 | 0.9690722 | 0.1600000 | 0.2117647 | 0.00000 | 0.0000000 |\n",
       "| 494 | 1 | 3 | aug | fri | 0.9908257 | 0.5671423 | 0.7604753 | 0.54687500 | 0.8006873 | 0.1866667 | 0.4823529 | 0.00000 | 3.7914360 |\n",
       "| 495 | 6 | 6 | aug | sat | 0.9938838 | 0.5890962 | 0.7722326 | 0.68750000 | 0.9140893 | 0.2000000 | 0.5294118 | 0.00000 | 2.2607209 |\n",
       "| 496 | 6 | 6 | aug | mon | 1.0000000 | 0.6311745 | 0.7957473 | 0.83333333 | 0.6769759 | 0.3600000 | 0.2117647 | 0.00000 | 0.0000000 |\n",
       "| 497 | 4 | 5 | aug | mon | 1.0000000 | 0.6311745 | 0.7957473 | 0.83333333 | 0.9759450 | 0.1466667 | 0.3176471 | 0.00000 | 1.3270750 |\n",
       "| 498 | 3 | 4 | aug | tue | 0.9969419 | 0.6516648 | 0.8075047 | 0.70312500 | 0.9656357 | 0.1600000 | 0.2117647 | 0.00000 | 2.7523860 |\n",
       "| 499 | 6 | 5 | aug | tue | 0.9969419 | 0.6516648 | 0.8075047 | 0.70312500 | 1.0000000 | 0.1466667 | 0.2705882 | 0.00000 | 3.7266568 |\n",
       "| 500 | 7 | 5 | aug | tue | 0.9969419 | 0.6516648 | 0.8075047 | 0.70312500 | 0.7938144 | 0.6400000 | 0.5294118 | 1.00000 | 2.4697930 |\n",
       "| 501 | 8 | 6 | aug | tue | 0.9969419 | 0.6516648 | 0.8075047 | 0.70312500 | 0.5979381 | 0.6666667 | 0.5294118 | 0.12500 | 0.0000000 |\n",
       "| 502 | 7 | 5 | aug | tue | 0.9969419 | 0.6516648 | 0.8075047 | 0.70312500 | 0.5979381 | 0.6666667 | 0.5294118 | 0.12500 | 0.0000000 |\n",
       "| 503 | 4 | 4 | aug | tue | 0.9969419 | 0.6516648 | 0.8075047 | 0.70312500 | 0.5670103 | 0.7200000 | 0.5294118 | 0.06250 | 0.0000000 |\n",
       "| 504 | 2 | 4 | aug | wed | 0.9480122 | 0.4990853 | 0.8298937 | 1.00000000 | 0.8591065 | 0.2000000 | 0.5294118 | 0.00000 | 1.0818052 |\n",
       "| 505 | 4 | 3 | aug | wed | 0.9480122 | 0.4990853 | 0.8298937 | 1.00000000 | 0.8487973 | 0.1866667 | 0.5294118 | 0.00000 | 3.9237539 |\n",
       "| 506 | 1 | 2 | aug | thu | 0.8409786 | 0.5861690 | 0.8990619 | 0.48437500 | 0.7731959 | 0.2666667 | 0.1647059 | 0.00000 | 1.9169226 |\n",
       "| 507 | 1 | 2 | aug | fri | 0.8409786 | 0.5997073 | 0.9093183 | 0.32812500 | 0.4914089 | 0.7733333 | 0.9529412 | 0.00000 | 0.0000000 |\n",
       "| 508 | 2 | 4 | aug | fri | 0.8409786 | 0.5997073 | 0.9093183 | 0.32812500 | 0.7457045 | 0.3466667 | 0.3764706 | 0.00000 | 0.0000000 |\n",
       "| 509 | 1 | 2 | aug | fri | 0.8409786 | 0.5997073 | 0.9093183 | 0.32812500 | 0.7457045 | 0.3466667 | 0.3764706 | 0.00000 | 0.0000000 |\n",
       "| 510 | 5 | 4 | aug | fri | 0.8409786 | 0.5997073 | 0.9093183 | 0.32812500 | 0.5807560 | 0.7466667 | 0.8470588 | 0.21875 | 1.1537316 |\n",
       "| 511 | 6 | 5 | aug | fri | 0.8409786 | 0.5997073 | 0.9093183 | 0.32812500 | 0.4810997 | 0.6266667 | 0.5882353 | 0.00000 | 0.3576744 |\n",
       "| 512 | 8 | 6 | aug | sun | 0.5535168 | 0.1964874 | 0.8005003 | 0.05729167 | 0.8109966 | 0.2666667 | 0.2705882 | 0.00000 | 0.0000000 |\n",
       "| 513 | 4 | 3 | aug | sun | 0.5535168 | 0.1964874 | 0.8005003 | 0.05729167 | 0.8109966 | 0.2266667 | 0.2705882 | 0.00000 | 2.0068708 |\n",
       "| 514 | 2 | 4 | aug | sun | 0.5535168 | 0.1964874 | 0.8005003 | 0.05729167 | 0.6082474 | 0.7466667 | 0.6352941 | 0.00000 | 4.0125921 |\n",
       "| 515 | 7 | 4 | aug | sun | 0.5535168 | 0.1964874 | 0.8005003 | 0.05729167 | 0.5841924 | 0.7333333 | 0.7411765 | 0.00000 | 2.4981519 |\n",
       "| 516 | 1 | 4 | aug | sat | 0.9449541 | 0.5232345 | 0.7368355 | 0.54687500 | 0.7353952 | 0.3600000 | 0.4235294 | 0.00000 | 0.0000000 |\n",
       "| 517 | 6 | 3 | nov | tue | 0.4892966 | 0.0000000 | 0.1014384 | 0.01562500 | 0.2611684 | 0.2133333 | 0.4823529 | 0.00000 | 0.0000000 |\n",
       "\n"
      ],
      "text/plain": [
       "    X   Y   month day FFMC      DMC        DC         ISI        temp     \n",
       "1   7   5   mar   fri 0.6941896 0.08488840 0.08592871 0.2239583  0.1374570\n",
       "2   7   4   oct   tue 0.8287462 0.11855104 0.80487805 0.3072917  0.4742268\n",
       "3   7   4   oct   sat 0.8287462 0.14892060 0.82714196 0.3072917  0.3573883\n",
       "6   8   6   aug   sun 0.8807339 0.30113428 0.57836148 0.7239583  0.6185567\n",
       "7   8   6   aug   mon 0.8807339 0.31430662 0.58786742 0.4010417  0.6838488\n",
       "8   8   6   aug   mon 0.8562691 0.52103915 0.72870544 0.5156250  0.1305842\n",
       "9   8   6   sep   tue 0.8409786 0.46286132 0.83427142 0.3229167  0.3058419\n",
       "10  7   5   sep   sat 0.8868502 0.31101354 0.84177611 0.3281250  0.6391753\n",
       "11  7   5   sep   sat 0.8868502 0.31101354 0.84177611 0.3281250  0.4673540\n",
       "13  6   5   aug   fri 0.0000000 0.24807903 0.80012508 0.0000000  0.4398625\n",
       "14  6   5   sep   mon 0.8379205 0.45188438 0.82664165 0.3229167  0.5876289\n",
       "15  6   5   sep   wed 0.8990826 0.47676546 0.84302689 0.4375000  0.7628866\n",
       "16  6   5   sep   fri 0.9113150 0.50567142 0.86091307 0.6822917  0.6426117\n",
       "17  5   5   mar   sat 0.8623853 0.12001464 0.06904315 0.3645833  0.3745704\n",
       "18  8   5   oct   mon 0.6544343 0.10903769 0.79874922 0.1145833  0.4295533\n",
       "19  6   4   mar   wed 0.7859327 0.09110867 0.05653533 0.2864583  0.4020619\n",
       "20  6   4   apr   sat 0.6972477 0.08927918 0.08943089 0.2239583  0.1752577\n",
       "21  6   4   sep   tue 0.8409786 0.46286132 0.83427142 0.3229167  0.4845361\n",
       "22  5   4   sep   mon 0.8654434 0.27625320 0.87392120 0.4375000  0.5120275\n",
       "24  7   4   aug   sat 0.8165138 0.39480424 0.64015009 0.2812500  0.5257732\n",
       "26  7   4   aug   sun 0.8532110 0.51006220 0.72020013 0.5104167  0.4158076\n",
       "27  7   4   sep   fri 0.8837920 0.42041712 0.80350219 0.5937500  0.5085911\n",
       "28  7   4   sep   mon 0.8379205 0.45188438 0.82664165 0.3229167  0.5223368\n",
       "29  6   3   sep   sat 0.9143731 0.52103915 0.87029393 0.3802083  0.8934708\n",
       "30  6   3   sep   sun 0.9174312 0.53530918 0.87929956 0.3802083  0.6391753\n",
       "31  6   3   sep   fri 0.9418960 0.30040249 0.83389619 0.7864583  0.7285223\n",
       "32  6   3   sep   mon 0.7675841 0.32491767 0.85590994 0.3281250  0.2405498\n",
       "33  6   3   sep   fri 0.7675841 0.24405415 0.85203252 0.2604167  0.5635739\n",
       "34  6   3   sep   sun 0.8623853 0.26564215 0.86641651 0.3645833  0.4639175\n",
       "35  6   3   sep   mon 0.8654434 0.27625320 0.87392120 0.4375000  0.5841924\n",
       "... ... ... ...   ... ...       ...        ...        ...        ...      \n",
       "488 5   4   aug   tue 0.9663609 0.5060373  0.7257036  0.88020833 0.7628866\n",
       "489 4   4   aug   tue 0.9663609 0.5060373  0.7257036  0.88020833 0.5223368\n",
       "490 4   4   aug   wed 0.9663609 0.5060373  0.7257036  0.88020833 0.5635739\n",
       "491 4   4   aug   wed 0.9663609 0.5060373  0.7257036  0.88020833 0.8419244\n",
       "492 4   4   aug   thu 0.9877676 0.5451884  0.7485929  0.67708333 0.9690722\n",
       "493 1   3   aug   fri 0.9908257 0.5671423  0.7604753  0.54687500 0.9690722\n",
       "494 1   3   aug   fri 0.9908257 0.5671423  0.7604753  0.54687500 0.8006873\n",
       "495 6   6   aug   sat 0.9938838 0.5890962  0.7722326  0.68750000 0.9140893\n",
       "496 6   6   aug   mon 1.0000000 0.6311745  0.7957473  0.83333333 0.6769759\n",
       "497 4   5   aug   mon 1.0000000 0.6311745  0.7957473  0.83333333 0.9759450\n",
       "498 3   4   aug   tue 0.9969419 0.6516648  0.8075047  0.70312500 0.9656357\n",
       "499 6   5   aug   tue 0.9969419 0.6516648  0.8075047  0.70312500 1.0000000\n",
       "500 7   5   aug   tue 0.9969419 0.6516648  0.8075047  0.70312500 0.7938144\n",
       "501 8   6   aug   tue 0.9969419 0.6516648  0.8075047  0.70312500 0.5979381\n",
       "502 7   5   aug   tue 0.9969419 0.6516648  0.8075047  0.70312500 0.5979381\n",
       "503 4   4   aug   tue 0.9969419 0.6516648  0.8075047  0.70312500 0.5670103\n",
       "504 2   4   aug   wed 0.9480122 0.4990853  0.8298937  1.00000000 0.8591065\n",
       "505 4   3   aug   wed 0.9480122 0.4990853  0.8298937  1.00000000 0.8487973\n",
       "506 1   2   aug   thu 0.8409786 0.5861690  0.8990619  0.48437500 0.7731959\n",
       "507 1   2   aug   fri 0.8409786 0.5997073  0.9093183  0.32812500 0.4914089\n",
       "508 2   4   aug   fri 0.8409786 0.5997073  0.9093183  0.32812500 0.7457045\n",
       "509 1   2   aug   fri 0.8409786 0.5997073  0.9093183  0.32812500 0.7457045\n",
       "510 5   4   aug   fri 0.8409786 0.5997073  0.9093183  0.32812500 0.5807560\n",
       "511 6   5   aug   fri 0.8409786 0.5997073  0.9093183  0.32812500 0.4810997\n",
       "512 8   6   aug   sun 0.5535168 0.1964874  0.8005003  0.05729167 0.8109966\n",
       "513 4   3   aug   sun 0.5535168 0.1964874  0.8005003  0.05729167 0.8109966\n",
       "514 2   4   aug   sun 0.5535168 0.1964874  0.8005003  0.05729167 0.6082474\n",
       "515 7   4   aug   sun 0.5535168 0.1964874  0.8005003  0.05729167 0.5841924\n",
       "516 1   4   aug   sat 0.9449541 0.5232345  0.7368355  0.54687500 0.7353952\n",
       "517 6   3   nov   tue 0.4892966 0.0000000  0.1014384  0.01562500 0.2611684\n",
       "    RH        wind       rain    area     \n",
       "1   0.4800000 0.74117647 0       0        \n",
       "2   0.2400000 0.05882353 0       0        \n",
       "3   0.2400000 0.10588235 0       0        \n",
       "6   0.1866667 0.58823529 0       0        \n",
       "7   0.1600000 0.31764706 0       0        \n",
       "8   0.9466667 0.21176471 0       0        \n",
       "9   0.6400000 0.58823529 0       0        \n",
       "10  0.3333333 0.42352941 0       0        \n",
       "11  0.4800000 0.80000000 0       0        \n",
       "13  0.7600000 0.74117647 0       0        \n",
       "14  0.3600000 0.21176471 0       0        \n",
       "15  0.0800000 0.48235294 0       0        \n",
       "16  0.3866667 0.58823529 0       0        \n",
       "17  0.1600000 0.58823529 0       0        \n",
       "18  0.4266667 0.52941176 0       0        \n",
       "19  0.2666667 0.42352941 0       0        \n",
       "20  0.3866667 0.48235294 0       0        \n",
       "21  0.3333333 0.27058824 0       0        \n",
       "22  0.3066667 0.27058824 0       0        \n",
       "24  0.3733333 0.63529412 0       0        \n",
       "26  0.6000000 0.58823529 0       0        \n",
       "27  0.2533333 0.63529412 0       0        \n",
       "28  0.4400000 0.10588235 0       0        \n",
       "29  0.1200000 0.27058824 0       0        \n",
       "30  0.3200000 0.37647059 0       0        \n",
       "31  0.1200000 0.37647059 0       0        \n",
       "32  0.8400000 0.84705882 0       0        \n",
       "33  0.2933333 0.16470588 0       0        \n",
       "34  0.3200000 0.37647059 0       0        \n",
       "35  0.2266667 0.27058824 0       0        \n",
       "... ...       ...        ...     ...      \n",
       "488 0.2533333 0.3764706  0.00000 2.8564702\n",
       "489 0.7466667 0.8470588  0.00000 3.8649314\n",
       "490 0.5733333 0.1058824  0.00000 0.0000000\n",
       "491 0.2400000 0.4235294  0.00000 0.0000000\n",
       "492 0.0800000 0.4823529  0.00000 0.0000000\n",
       "493 0.1600000 0.2117647  0.00000 0.0000000\n",
       "494 0.1866667 0.4823529  0.00000 3.7914360\n",
       "495 0.2000000 0.5294118  0.00000 2.2607209\n",
       "496 0.3600000 0.2117647  0.00000 0.0000000\n",
       "497 0.1466667 0.3176471  0.00000 1.3270750\n",
       "498 0.1600000 0.2117647  0.00000 2.7523860\n",
       "499 0.1466667 0.2705882  0.00000 3.7266568\n",
       "500 0.6400000 0.5294118  1.00000 2.4697930\n",
       "501 0.6666667 0.5294118  0.12500 0.0000000\n",
       "502 0.6666667 0.5294118  0.12500 0.0000000\n",
       "503 0.7200000 0.5294118  0.06250 0.0000000\n",
       "504 0.2000000 0.5294118  0.00000 1.0818052\n",
       "505 0.1866667 0.5294118  0.00000 3.9237539\n",
       "506 0.2666667 0.1647059  0.00000 1.9169226\n",
       "507 0.7733333 0.9529412  0.00000 0.0000000\n",
       "508 0.3466667 0.3764706  0.00000 0.0000000\n",
       "509 0.3466667 0.3764706  0.00000 0.0000000\n",
       "510 0.7466667 0.8470588  0.21875 1.1537316\n",
       "511 0.6266667 0.5882353  0.00000 0.3576744\n",
       "512 0.2666667 0.2705882  0.00000 0.0000000\n",
       "513 0.2266667 0.2705882  0.00000 2.0068708\n",
       "514 0.7466667 0.6352941  0.00000 4.0125921\n",
       "515 0.7333333 0.7411765  0.00000 2.4981519\n",
       "516 0.3600000 0.4235294  0.00000 0.0000000\n",
       "517 0.2133333 0.4823529  0.00000 0.0000000"
      ]
     },
     "metadata": {},
     "output_type": "display_data"
    },
    {
     "data": {
      "image/png": "[encoded data removed]",
      "text/plain": [
       "plot without title"
      ]
     },
     "metadata": {
      "image/png": {
       "height": 420,
       "width": 420
      }
     },
     "output_type": "display_data"
    },
    {
     "data": {
      "image/png": "[encoded data removed]",
      "text/plain": [
       "plot without title"
      ]
     },
     "metadata": {
      "image/png": {
       "height": 420,
       "width": 420
      }
     },
     "output_type": "display_data"
    }
   ],
   "source": [
    "firedata_log <- transform(data_scaled, area= log(1+area))\n",
    "firedata_log\n",
    "ggplot(data=firedata_log) + \n",
    "    geom_density(mapping= aes(x=area))\n",
    "firedata_log_nonzero <- firedata_log[!(firedata_log$area == 0),]\n",
    "ggplot(data=firedata_log_nonzero) + \n",
    "    geom_density(mapping= aes(x=area))"
   ]
  },
  {
   "cell_type": "code",
   "execution_count": 44,
   "metadata": {},
   "outputs": [
    {
     "data": {
      "image/png": "[encoded data removed]",
      "text/plain": [
       "plot without title"
      ]
     },
     "metadata": {
      "image/png": {
       "height": 420,
       "width": 420
      }
     },
     "output_type": "display_data"
    },
    {
     "data": {
      "image/png": "[encoded data removed]",
      "text/plain": [
       "plot without title"
      ]
     },
     "metadata": {
      "image/png": {
       "height": 420,
       "width": 420
      }
     },
     "output_type": "display_data"
    }
   ],
   "source": [
    "firedata_sqrt <- transform(data_scaled, area = sqrt(area))\n",
    "ggplot(data=firedata_sqrt) + \n",
    "    geom_density(mapping= aes(x=area))\n",
    "firedata_sqrt_nonzero <- firedata_sqrt[!(firedata_sqrt$area == 0),]\n",
    "ggplot(data=firedata_sqrt_nonzero) + \n",
    "    geom_density(mapping= aes(x=area))"
   ]
  },
  {
   "cell_type": "code",
   "execution_count": 45,
   "metadata": {
    "scrolled": false
   },
   "outputs": [
    {
     "data": {
      "image/png": "[encoded data removed]",
      "text/plain": [
       "plot without title"
      ]
     },
     "metadata": {
      "image/png": {
       "height": 420,
       "width": 420
      }
     },
     "output_type": "display_data"
    },
    {
     "data": {
      "image/png": "[encoded data removed]",
      "text/plain": [
       "plot without title"
      ]
     },
     "metadata": {
      "image/png": {
       "height": 420,
       "width": 420
      }
     },
     "output_type": "display_data"
    }
   ],
   "source": [
    "firedata_nomalized <- transform(data_scaled, area = scaling_fun(area))\n",
    "firedata_nomalized_nonzero <- firedata_nomalized[!(firedata_nomalized$area ==0),]\n",
    "ggplot(data=firedata_nomalized) + \n",
    "    geom_density(mapping= aes(x=area))\n",
    "ggplot(data=firedata_nomalized_nonzero) + \n",
    "    geom_density(mapping= aes(x=area))"
   ]
  },
  {
   "cell_type": "code",
   "execution_count": 46,
   "metadata": {},
   "outputs": [
    {
     "data": {
      "image/png": "[encoded data removed]",
      "text/plain": [
       "plot without title"
      ]
     },
     "metadata": {
      "image/png": {
       "height": 420,
       "width": 420
      }
     },
     "output_type": "display_data"
    }
   ],
   "source": [
    "firedata_nomalized <- firedata <- firedata %>% mutate(month = factor(month, \n",
    "  levels = c(\"jan\", \"feb\", \"mar\", \"apr\", \"may\", \"jun\", \"jul\", \"aug\", \"sep\", \"oct\", \"nov\", \"dec\")))\n",
    "ggplot(data = firedata_nomalized) +\n",
    "aes(x = month, y = area) +\n",
    "geom_bar(stat = \"identity\") +\n",
    "theme(panel.background = element_rect(fill = \"white\"), \n",
    "        axis.line = element_line(size = 0.25, colour = \"black\"))"
   ]
  },
  {
   "cell_type": "code",
   "execution_count": 47,
   "metadata": {
    "scrolled": true
   },
   "outputs": [
    {
     "data": {
      "image/png": "[encoded data removed]",
      "text/plain": [
       "plot without title"
      ]
     },
     "metadata": {
      "image/png": {
       "height": 420,
       "width": 420
      }
     },
     "output_type": "display_data"
    }
   ],
   "source": [
    "ggplot(data = firedata_nomalized) +\n",
    "aes(x = day, y = area) +\n",
    "geom_bar(stat = \"identity\") +\n",
    "theme(panel.background = element_rect(fill = \"white\"), \n",
    "        axis.line = element_line(size = 0.25, colour = \"black\"))"
   ]
  },
  {
   "cell_type": "code",
   "execution_count": 56,
   "metadata": {
    "scrolled": true
   },
   "outputs": [
    {
     "data": {
      "text/html": [
       "<table>\n",
       "<caption>A data.frame: 477 × 13</caption>\n",
       "<thead>\n",
       "\t<tr><th></th><th scope=col>X</th><th scope=col>Y</th><th scope=col>month</th><th scope=col>day</th><th scope=col>FFMC</th><th scope=col>DMC</th><th scope=col>DC</th><th scope=col>ISI</th><th scope=col>temp</th><th scope=col>RH</th><th scope=col>wind</th><th scope=col>rain</th><th scope=col>area</th></tr>\n",
       "\t<tr><th></th><th scope=col>&lt;int&gt;</th><th scope=col>&lt;int&gt;</th><th scope=col>&lt;chr&gt;</th><th scope=col>&lt;chr&gt;</th><th scope=col>&lt;dbl&gt;</th><th scope=col>&lt;dbl&gt;</th><th scope=col>&lt;dbl&gt;</th><th scope=col>&lt;dbl&gt;</th><th scope=col>&lt;dbl&gt;</th><th scope=col>&lt;dbl&gt;</th><th scope=col>&lt;dbl&gt;</th><th scope=col>&lt;dbl&gt;</th><th scope=col>&lt;dbl&gt;</th></tr>\n",
       "</thead>\n",
       "<tbody>\n",
       "\t<tr><th scope=row>1</th><td>7</td><td>5</td><td>mar</td><td>fri</td><td>0.6941896</td><td>0.08488840</td><td>0.08592871</td><td>0.2239583</td><td>0.1374570</td><td>0.4800000</td><td>0.74117647</td><td>0</td><td>0</td></tr>\n",
       "\t<tr><th scope=row>2</th><td>7</td><td>4</td><td>oct</td><td>tue</td><td>0.8287462</td><td>0.11855104</td><td>0.80487805</td><td>0.3072917</td><td>0.4742268</td><td>0.2400000</td><td>0.05882353</td><td>0</td><td>0</td></tr>\n",
       "\t<tr><th scope=row>3</th><td>7</td><td>4</td><td>oct</td><td>sat</td><td>0.8287462</td><td>0.14892060</td><td>0.82714196</td><td>0.3072917</td><td>0.3573883</td><td>0.2400000</td><td>0.10588235</td><td>0</td><td>0</td></tr>\n",
       "\t<tr><th scope=row>6</th><td>8</td><td>6</td><td>aug</td><td>sun</td><td>0.8807339</td><td>0.30113428</td><td>0.57836148</td><td>0.7239583</td><td>0.6185567</td><td>0.1866667</td><td>0.58823529</td><td>0</td><td>0</td></tr>\n",
       "\t<tr><th scope=row>7</th><td>8</td><td>6</td><td>aug</td><td>mon</td><td>0.8807339</td><td>0.31430662</td><td>0.58786742</td><td>0.4010417</td><td>0.6838488</td><td>0.1600000</td><td>0.31764706</td><td>0</td><td>0</td></tr>\n",
       "\t<tr><th scope=row>8</th><td>8</td><td>6</td><td>aug</td><td>mon</td><td>0.8562691</td><td>0.52103915</td><td>0.72870544</td><td>0.5156250</td><td>0.1305842</td><td>0.9466667</td><td>0.21176471</td><td>0</td><td>0</td></tr>\n",
       "\t<tr><th scope=row>9</th><td>8</td><td>6</td><td>sep</td><td>tue</td><td>0.8409786</td><td>0.46286132</td><td>0.83427142</td><td>0.3229167</td><td>0.3058419</td><td>0.6400000</td><td>0.58823529</td><td>0</td><td>0</td></tr>\n",
       "\t<tr><th scope=row>10</th><td>7</td><td>5</td><td>sep</td><td>sat</td><td>0.8868502</td><td>0.31101354</td><td>0.84177611</td><td>0.3281250</td><td>0.6391753</td><td>0.3333333</td><td>0.42352941</td><td>0</td><td>0</td></tr>\n",
       "\t<tr><th scope=row>11</th><td>7</td><td>5</td><td>sep</td><td>sat</td><td>0.8868502</td><td>0.31101354</td><td>0.84177611</td><td>0.3281250</td><td>0.4673540</td><td>0.4800000</td><td>0.80000000</td><td>0</td><td>0</td></tr>\n",
       "\t<tr><th scope=row>13</th><td>6</td><td>5</td><td>aug</td><td>fri</td><td>0.0000000</td><td>0.24807903</td><td>0.80012508</td><td>0.0000000</td><td>0.4398625</td><td>0.7600000</td><td>0.74117647</td><td>0</td><td>0</td></tr>\n",
       "\t<tr><th scope=row>14</th><td>6</td><td>5</td><td>sep</td><td>mon</td><td>0.8379205</td><td>0.45188438</td><td>0.82664165</td><td>0.3229167</td><td>0.5876289</td><td>0.3600000</td><td>0.21176471</td><td>0</td><td>0</td></tr>\n",
       "\t<tr><th scope=row>15</th><td>6</td><td>5</td><td>sep</td><td>wed</td><td>0.8990826</td><td>0.47676546</td><td>0.84302689</td><td>0.4375000</td><td>0.7628866</td><td>0.0800000</td><td>0.48235294</td><td>0</td><td>0</td></tr>\n",
       "\t<tr><th scope=row>16</th><td>6</td><td>5</td><td>sep</td><td>fri</td><td>0.9113150</td><td>0.50567142</td><td>0.86091307</td><td>0.6822917</td><td>0.6426117</td><td>0.3866667</td><td>0.58823529</td><td>0</td><td>0</td></tr>\n",
       "\t<tr><th scope=row>17</th><td>5</td><td>5</td><td>mar</td><td>sat</td><td>0.8623853</td><td>0.12001464</td><td>0.06904315</td><td>0.3645833</td><td>0.3745704</td><td>0.1600000</td><td>0.58823529</td><td>0</td><td>0</td></tr>\n",
       "\t<tr><th scope=row>18</th><td>8</td><td>5</td><td>oct</td><td>mon</td><td>0.6544343</td><td>0.10903769</td><td>0.79874922</td><td>0.1145833</td><td>0.4295533</td><td>0.4266667</td><td>0.52941176</td><td>0</td><td>0</td></tr>\n",
       "\t<tr><th scope=row>19</th><td>6</td><td>4</td><td>mar</td><td>wed</td><td>0.7859327</td><td>0.09110867</td><td>0.05653533</td><td>0.2864583</td><td>0.4020619</td><td>0.2666667</td><td>0.42352941</td><td>0</td><td>0</td></tr>\n",
       "\t<tr><th scope=row>20</th><td>6</td><td>4</td><td>apr</td><td>sat</td><td>0.6972477</td><td>0.08927918</td><td>0.08943089</td><td>0.2239583</td><td>0.1752577</td><td>0.3866667</td><td>0.48235294</td><td>0</td><td>0</td></tr>\n",
       "\t<tr><th scope=row>21</th><td>6</td><td>4</td><td>sep</td><td>tue</td><td>0.8409786</td><td>0.46286132</td><td>0.83427142</td><td>0.3229167</td><td>0.4845361</td><td>0.3333333</td><td>0.27058824</td><td>0</td><td>0</td></tr>\n",
       "\t<tr><th scope=row>22</th><td>5</td><td>4</td><td>sep</td><td>mon</td><td>0.8654434</td><td>0.27625320</td><td>0.87392120</td><td>0.4375000</td><td>0.5120275</td><td>0.3066667</td><td>0.27058824</td><td>0</td><td>0</td></tr>\n",
       "\t<tr><th scope=row>24</th><td>7</td><td>4</td><td>aug</td><td>sat</td><td>0.8165138</td><td>0.39480424</td><td>0.64015009</td><td>0.2812500</td><td>0.5257732</td><td>0.3733333</td><td>0.63529412</td><td>0</td><td>0</td></tr>\n",
       "\t<tr><th scope=row>26</th><td>7</td><td>4</td><td>aug</td><td>sun</td><td>0.8532110</td><td>0.51006220</td><td>0.72020013</td><td>0.5104167</td><td>0.4158076</td><td>0.6000000</td><td>0.58823529</td><td>0</td><td>0</td></tr>\n",
       "\t<tr><th scope=row>27</th><td>7</td><td>4</td><td>sep</td><td>fri</td><td>0.8837920</td><td>0.42041712</td><td>0.80350219</td><td>0.5937500</td><td>0.5085911</td><td>0.2533333</td><td>0.63529412</td><td>0</td><td>0</td></tr>\n",
       "\t<tr><th scope=row>28</th><td>7</td><td>4</td><td>sep</td><td>mon</td><td>0.8379205</td><td>0.45188438</td><td>0.82664165</td><td>0.3229167</td><td>0.5223368</td><td>0.4400000</td><td>0.10588235</td><td>0</td><td>0</td></tr>\n",
       "\t<tr><th scope=row>29</th><td>6</td><td>3</td><td>sep</td><td>sat</td><td>0.9143731</td><td>0.52103915</td><td>0.87029393</td><td>0.3802083</td><td>0.8934708</td><td>0.1200000</td><td>0.27058824</td><td>0</td><td>0</td></tr>\n",
       "\t<tr><th scope=row>30</th><td>6</td><td>3</td><td>sep</td><td>sun</td><td>0.9174312</td><td>0.53530918</td><td>0.87929956</td><td>0.3802083</td><td>0.6391753</td><td>0.3200000</td><td>0.37647059</td><td>0</td><td>0</td></tr>\n",
       "\t<tr><th scope=row>31</th><td>6</td><td>3</td><td>sep</td><td>fri</td><td>0.9418960</td><td>0.30040249</td><td>0.83389619</td><td>0.7864583</td><td>0.7285223</td><td>0.1200000</td><td>0.37647059</td><td>0</td><td>0</td></tr>\n",
       "\t<tr><th scope=row>32</th><td>6</td><td>3</td><td>sep</td><td>mon</td><td>0.7675841</td><td>0.32491767</td><td>0.85590994</td><td>0.3281250</td><td>0.2405498</td><td>0.8400000</td><td>0.84705882</td><td>0</td><td>0</td></tr>\n",
       "\t<tr><th scope=row>33</th><td>6</td><td>3</td><td>sep</td><td>fri</td><td>0.7675841</td><td>0.24405415</td><td>0.85203252</td><td>0.2604167</td><td>0.5635739</td><td>0.2933333</td><td>0.16470588</td><td>0</td><td>0</td></tr>\n",
       "\t<tr><th scope=row>34</th><td>6</td><td>3</td><td>sep</td><td>sun</td><td>0.8623853</td><td>0.26564215</td><td>0.86641651</td><td>0.3645833</td><td>0.4639175</td><td>0.3200000</td><td>0.37647059</td><td>0</td><td>0</td></tr>\n",
       "\t<tr><th scope=row>35</th><td>6</td><td>3</td><td>sep</td><td>mon</td><td>0.8654434</td><td>0.27625320</td><td>0.87392120</td><td>0.4375000</td><td>0.5841924</td><td>0.2266667</td><td>0.27058824</td><td>0</td><td>0</td></tr>\n",
       "\t<tr><th scope=row>...</th><td>...</td><td>...</td><td>...</td><td>...</td><td>...</td><td>...</td><td>...</td><td>...</td><td>...</td><td>...</td><td>...</td><td>...</td><td>...</td></tr>\n",
       "\t<tr><th scope=row>488</th><td>5</td><td>4</td><td>aug</td><td>tue</td><td>0.9663609</td><td>0.5060373</td><td>0.7257036</td><td>0.88020833</td><td>0.7628866</td><td>0.2533333</td><td>0.3764706</td><td>0.00000</td><td>2.8564702</td></tr>\n",
       "\t<tr><th scope=row>489</th><td>4</td><td>4</td><td>aug</td><td>tue</td><td>0.9663609</td><td>0.5060373</td><td>0.7257036</td><td>0.88020833</td><td>0.5223368</td><td>0.7466667</td><td>0.8470588</td><td>0.00000</td><td>3.8649314</td></tr>\n",
       "\t<tr><th scope=row>490</th><td>4</td><td>4</td><td>aug</td><td>wed</td><td>0.9663609</td><td>0.5060373</td><td>0.7257036</td><td>0.88020833</td><td>0.5635739</td><td>0.5733333</td><td>0.1058824</td><td>0.00000</td><td>0.0000000</td></tr>\n",
       "\t<tr><th scope=row>491</th><td>4</td><td>4</td><td>aug</td><td>wed</td><td>0.9663609</td><td>0.5060373</td><td>0.7257036</td><td>0.88020833</td><td>0.8419244</td><td>0.2400000</td><td>0.4235294</td><td>0.00000</td><td>0.0000000</td></tr>\n",
       "\t<tr><th scope=row>492</th><td>4</td><td>4</td><td>aug</td><td>thu</td><td>0.9877676</td><td>0.5451884</td><td>0.7485929</td><td>0.67708333</td><td>0.9690722</td><td>0.0800000</td><td>0.4823529</td><td>0.00000</td><td>0.0000000</td></tr>\n",
       "\t<tr><th scope=row>493</th><td>1</td><td>3</td><td>aug</td><td>fri</td><td>0.9908257</td><td>0.5671423</td><td>0.7604753</td><td>0.54687500</td><td>0.9690722</td><td>0.1600000</td><td>0.2117647</td><td>0.00000</td><td>0.0000000</td></tr>\n",
       "\t<tr><th scope=row>494</th><td>1</td><td>3</td><td>aug</td><td>fri</td><td>0.9908257</td><td>0.5671423</td><td>0.7604753</td><td>0.54687500</td><td>0.8006873</td><td>0.1866667</td><td>0.4823529</td><td>0.00000</td><td>3.7914360</td></tr>\n",
       "\t<tr><th scope=row>495</th><td>6</td><td>6</td><td>aug</td><td>sat</td><td>0.9938838</td><td>0.5890962</td><td>0.7722326</td><td>0.68750000</td><td>0.9140893</td><td>0.2000000</td><td>0.5294118</td><td>0.00000</td><td>2.2607209</td></tr>\n",
       "\t<tr><th scope=row>496</th><td>6</td><td>6</td><td>aug</td><td>mon</td><td>1.0000000</td><td>0.6311745</td><td>0.7957473</td><td>0.83333333</td><td>0.6769759</td><td>0.3600000</td><td>0.2117647</td><td>0.00000</td><td>0.0000000</td></tr>\n",
       "\t<tr><th scope=row>497</th><td>4</td><td>5</td><td>aug</td><td>mon</td><td>1.0000000</td><td>0.6311745</td><td>0.7957473</td><td>0.83333333</td><td>0.9759450</td><td>0.1466667</td><td>0.3176471</td><td>0.00000</td><td>1.3270750</td></tr>\n",
       "\t<tr><th scope=row>498</th><td>3</td><td>4</td><td>aug</td><td>tue</td><td>0.9969419</td><td>0.6516648</td><td>0.8075047</td><td>0.70312500</td><td>0.9656357</td><td>0.1600000</td><td>0.2117647</td><td>0.00000</td><td>2.7523860</td></tr>\n",
       "\t<tr><th scope=row>499</th><td>6</td><td>5</td><td>aug</td><td>tue</td><td>0.9969419</td><td>0.6516648</td><td>0.8075047</td><td>0.70312500</td><td>1.0000000</td><td>0.1466667</td><td>0.2705882</td><td>0.00000</td><td>3.7266568</td></tr>\n",
       "\t<tr><th scope=row>500</th><td>7</td><td>5</td><td>aug</td><td>tue</td><td>0.9969419</td><td>0.6516648</td><td>0.8075047</td><td>0.70312500</td><td>0.7938144</td><td>0.6400000</td><td>0.5294118</td><td>1.00000</td><td>2.4697930</td></tr>\n",
       "\t<tr><th scope=row>501</th><td>8</td><td>6</td><td>aug</td><td>tue</td><td>0.9969419</td><td>0.6516648</td><td>0.8075047</td><td>0.70312500</td><td>0.5979381</td><td>0.6666667</td><td>0.5294118</td><td>0.12500</td><td>0.0000000</td></tr>\n",
       "\t<tr><th scope=row>502</th><td>7</td><td>5</td><td>aug</td><td>tue</td><td>0.9969419</td><td>0.6516648</td><td>0.8075047</td><td>0.70312500</td><td>0.5979381</td><td>0.6666667</td><td>0.5294118</td><td>0.12500</td><td>0.0000000</td></tr>\n",
       "\t<tr><th scope=row>503</th><td>4</td><td>4</td><td>aug</td><td>tue</td><td>0.9969419</td><td>0.6516648</td><td>0.8075047</td><td>0.70312500</td><td>0.5670103</td><td>0.7200000</td><td>0.5294118</td><td>0.06250</td><td>0.0000000</td></tr>\n",
       "\t<tr><th scope=row>504</th><td>2</td><td>4</td><td>aug</td><td>wed</td><td>0.9480122</td><td>0.4990853</td><td>0.8298937</td><td>1.00000000</td><td>0.8591065</td><td>0.2000000</td><td>0.5294118</td><td>0.00000</td><td>1.0818052</td></tr>\n",
       "\t<tr><th scope=row>505</th><td>4</td><td>3</td><td>aug</td><td>wed</td><td>0.9480122</td><td>0.4990853</td><td>0.8298937</td><td>1.00000000</td><td>0.8487973</td><td>0.1866667</td><td>0.5294118</td><td>0.00000</td><td>3.9237539</td></tr>\n",
       "\t<tr><th scope=row>506</th><td>1</td><td>2</td><td>aug</td><td>thu</td><td>0.8409786</td><td>0.5861690</td><td>0.8990619</td><td>0.48437500</td><td>0.7731959</td><td>0.2666667</td><td>0.1647059</td><td>0.00000</td><td>1.9169226</td></tr>\n",
       "\t<tr><th scope=row>507</th><td>1</td><td>2</td><td>aug</td><td>fri</td><td>0.8409786</td><td>0.5997073</td><td>0.9093183</td><td>0.32812500</td><td>0.4914089</td><td>0.7733333</td><td>0.9529412</td><td>0.00000</td><td>0.0000000</td></tr>\n",
       "\t<tr><th scope=row>508</th><td>2</td><td>4</td><td>aug</td><td>fri</td><td>0.8409786</td><td>0.5997073</td><td>0.9093183</td><td>0.32812500</td><td>0.7457045</td><td>0.3466667</td><td>0.3764706</td><td>0.00000</td><td>0.0000000</td></tr>\n",
       "\t<tr><th scope=row>509</th><td>1</td><td>2</td><td>aug</td><td>fri</td><td>0.8409786</td><td>0.5997073</td><td>0.9093183</td><td>0.32812500</td><td>0.7457045</td><td>0.3466667</td><td>0.3764706</td><td>0.00000</td><td>0.0000000</td></tr>\n",
       "\t<tr><th scope=row>510</th><td>5</td><td>4</td><td>aug</td><td>fri</td><td>0.8409786</td><td>0.5997073</td><td>0.9093183</td><td>0.32812500</td><td>0.5807560</td><td>0.7466667</td><td>0.8470588</td><td>0.21875</td><td>1.1537316</td></tr>\n",
       "\t<tr><th scope=row>511</th><td>6</td><td>5</td><td>aug</td><td>fri</td><td>0.8409786</td><td>0.5997073</td><td>0.9093183</td><td>0.32812500</td><td>0.4810997</td><td>0.6266667</td><td>0.5882353</td><td>0.00000</td><td>0.3576744</td></tr>\n",
       "\t<tr><th scope=row>512</th><td>8</td><td>6</td><td>aug</td><td>sun</td><td>0.5535168</td><td>0.1964874</td><td>0.8005003</td><td>0.05729167</td><td>0.8109966</td><td>0.2666667</td><td>0.2705882</td><td>0.00000</td><td>0.0000000</td></tr>\n",
       "\t<tr><th scope=row>513</th><td>4</td><td>3</td><td>aug</td><td>sun</td><td>0.5535168</td><td>0.1964874</td><td>0.8005003</td><td>0.05729167</td><td>0.8109966</td><td>0.2266667</td><td>0.2705882</td><td>0.00000</td><td>2.0068708</td></tr>\n",
       "\t<tr><th scope=row>514</th><td>2</td><td>4</td><td>aug</td><td>sun</td><td>0.5535168</td><td>0.1964874</td><td>0.8005003</td><td>0.05729167</td><td>0.6082474</td><td>0.7466667</td><td>0.6352941</td><td>0.00000</td><td>4.0125921</td></tr>\n",
       "\t<tr><th scope=row>515</th><td>7</td><td>4</td><td>aug</td><td>sun</td><td>0.5535168</td><td>0.1964874</td><td>0.8005003</td><td>0.05729167</td><td>0.5841924</td><td>0.7333333</td><td>0.7411765</td><td>0.00000</td><td>2.4981519</td></tr>\n",
       "\t<tr><th scope=row>516</th><td>1</td><td>4</td><td>aug</td><td>sat</td><td>0.9449541</td><td>0.5232345</td><td>0.7368355</td><td>0.54687500</td><td>0.7353952</td><td>0.3600000</td><td>0.4235294</td><td>0.00000</td><td>0.0000000</td></tr>\n",
       "\t<tr><th scope=row>517</th><td>6</td><td>3</td><td>nov</td><td>tue</td><td>0.4892966</td><td>0.0000000</td><td>0.1014384</td><td>0.01562500</td><td>0.2611684</td><td>0.2133333</td><td>0.4823529</td><td>0.00000</td><td>0.0000000</td></tr>\n",
       "</tbody>\n",
       "</table>\n"
      ],
      "text/latex": [
       "A data.frame: 477 × 13\n",
       "\\begin{tabular}{r|lllllllllllll}\n",
       "  & X & Y & month & day & FFMC & DMC & DC & ISI & temp & RH & wind & rain & area\\\\\n",
       "  & <int> & <int> & <chr> & <chr> & <dbl> & <dbl> & <dbl> & <dbl> & <dbl> & <dbl> & <dbl> & <dbl> & <dbl>\\\\\n",
       "\\hline\n",
       "\t1 & 7 & 5 & mar & fri & 0.6941896 & 0.08488840 & 0.08592871 & 0.2239583 & 0.1374570 & 0.4800000 & 0.74117647 & 0 & 0\\\\\n",
       "\t2 & 7 & 4 & oct & tue & 0.8287462 & 0.11855104 & 0.80487805 & 0.3072917 & 0.4742268 & 0.2400000 & 0.05882353 & 0 & 0\\\\\n",
       "\t3 & 7 & 4 & oct & sat & 0.8287462 & 0.14892060 & 0.82714196 & 0.3072917 & 0.3573883 & 0.2400000 & 0.10588235 & 0 & 0\\\\\n",
       "\t6 & 8 & 6 & aug & sun & 0.8807339 & 0.30113428 & 0.57836148 & 0.7239583 & 0.6185567 & 0.1866667 & 0.58823529 & 0 & 0\\\\\n",
       "\t7 & 8 & 6 & aug & mon & 0.8807339 & 0.31430662 & 0.58786742 & 0.4010417 & 0.6838488 & 0.1600000 & 0.31764706 & 0 & 0\\\\\n",
       "\t8 & 8 & 6 & aug & mon & 0.8562691 & 0.52103915 & 0.72870544 & 0.5156250 & 0.1305842 & 0.9466667 & 0.21176471 & 0 & 0\\\\\n",
       "\t9 & 8 & 6 & sep & tue & 0.8409786 & 0.46286132 & 0.83427142 & 0.3229167 & 0.3058419 & 0.6400000 & 0.58823529 & 0 & 0\\\\\n",
       "\t10 & 7 & 5 & sep & sat & 0.8868502 & 0.31101354 & 0.84177611 & 0.3281250 & 0.6391753 & 0.3333333 & 0.42352941 & 0 & 0\\\\\n",
       "\t11 & 7 & 5 & sep & sat & 0.8868502 & 0.31101354 & 0.84177611 & 0.3281250 & 0.4673540 & 0.4800000 & 0.80000000 & 0 & 0\\\\\n",
       "\t13 & 6 & 5 & aug & fri & 0.0000000 & 0.24807903 & 0.80012508 & 0.0000000 & 0.4398625 & 0.7600000 & 0.74117647 & 0 & 0\\\\\n",
       "\t14 & 6 & 5 & sep & mon & 0.8379205 & 0.45188438 & 0.82664165 & 0.3229167 & 0.5876289 & 0.3600000 & 0.21176471 & 0 & 0\\\\\n",
       "\t15 & 6 & 5 & sep & wed & 0.8990826 & 0.47676546 & 0.84302689 & 0.4375000 & 0.7628866 & 0.0800000 & 0.48235294 & 0 & 0\\\\\n",
       "\t16 & 6 & 5 & sep & fri & 0.9113150 & 0.50567142 & 0.86091307 & 0.6822917 & 0.6426117 & 0.3866667 & 0.58823529 & 0 & 0\\\\\n",
       "\t17 & 5 & 5 & mar & sat & 0.8623853 & 0.12001464 & 0.06904315 & 0.3645833 & 0.3745704 & 0.1600000 & 0.58823529 & 0 & 0\\\\\n",
       "\t18 & 8 & 5 & oct & mon & 0.6544343 & 0.10903769 & 0.79874922 & 0.1145833 & 0.4295533 & 0.4266667 & 0.52941176 & 0 & 0\\\\\n",
       "\t19 & 6 & 4 & mar & wed & 0.7859327 & 0.09110867 & 0.05653533 & 0.2864583 & 0.4020619 & 0.2666667 & 0.42352941 & 0 & 0\\\\\n",
       "\t20 & 6 & 4 & apr & sat & 0.6972477 & 0.08927918 & 0.08943089 & 0.2239583 & 0.1752577 & 0.3866667 & 0.48235294 & 0 & 0\\\\\n",
       "\t21 & 6 & 4 & sep & tue & 0.8409786 & 0.46286132 & 0.83427142 & 0.3229167 & 0.4845361 & 0.3333333 & 0.27058824 & 0 & 0\\\\\n",
       "\t22 & 5 & 4 & sep & mon & 0.8654434 & 0.27625320 & 0.87392120 & 0.4375000 & 0.5120275 & 0.3066667 & 0.27058824 & 0 & 0\\\\\n",
       "\t24 & 7 & 4 & aug & sat & 0.8165138 & 0.39480424 & 0.64015009 & 0.2812500 & 0.5257732 & 0.3733333 & 0.63529412 & 0 & 0\\\\\n",
       "\t26 & 7 & 4 & aug & sun & 0.8532110 & 0.51006220 & 0.72020013 & 0.5104167 & 0.4158076 & 0.6000000 & 0.58823529 & 0 & 0\\\\\n",
       "\t27 & 7 & 4 & sep & fri & 0.8837920 & 0.42041712 & 0.80350219 & 0.5937500 & 0.5085911 & 0.2533333 & 0.63529412 & 0 & 0\\\\\n",
       "\t28 & 7 & 4 & sep & mon & 0.8379205 & 0.45188438 & 0.82664165 & 0.3229167 & 0.5223368 & 0.4400000 & 0.10588235 & 0 & 0\\\\\n",
       "\t29 & 6 & 3 & sep & sat & 0.9143731 & 0.52103915 & 0.87029393 & 0.3802083 & 0.8934708 & 0.1200000 & 0.27058824 & 0 & 0\\\\\n",
       "\t30 & 6 & 3 & sep & sun & 0.9174312 & 0.53530918 & 0.87929956 & 0.3802083 & 0.6391753 & 0.3200000 & 0.37647059 & 0 & 0\\\\\n",
       "\t31 & 6 & 3 & sep & fri & 0.9418960 & 0.30040249 & 0.83389619 & 0.7864583 & 0.7285223 & 0.1200000 & 0.37647059 & 0 & 0\\\\\n",
       "\t32 & 6 & 3 & sep & mon & 0.7675841 & 0.32491767 & 0.85590994 & 0.3281250 & 0.2405498 & 0.8400000 & 0.84705882 & 0 & 0\\\\\n",
       "\t33 & 6 & 3 & sep & fri & 0.7675841 & 0.24405415 & 0.85203252 & 0.2604167 & 0.5635739 & 0.2933333 & 0.16470588 & 0 & 0\\\\\n",
       "\t34 & 6 & 3 & sep & sun & 0.8623853 & 0.26564215 & 0.86641651 & 0.3645833 & 0.4639175 & 0.3200000 & 0.37647059 & 0 & 0\\\\\n",
       "\t35 & 6 & 3 & sep & mon & 0.8654434 & 0.27625320 & 0.87392120 & 0.4375000 & 0.5841924 & 0.2266667 & 0.27058824 & 0 & 0\\\\\n",
       "\t... & ... & ... & ... & ... & ... & ... & ... & ... & ... & ... & ... & ... & ...\\\\\n",
       "\t488 & 5 & 4 & aug & tue & 0.9663609 & 0.5060373 & 0.7257036 & 0.88020833 & 0.7628866 & 0.2533333 & 0.3764706 & 0.00000 & 2.8564702\\\\\n",
       "\t489 & 4 & 4 & aug & tue & 0.9663609 & 0.5060373 & 0.7257036 & 0.88020833 & 0.5223368 & 0.7466667 & 0.8470588 & 0.00000 & 3.8649314\\\\\n",
       "\t490 & 4 & 4 & aug & wed & 0.9663609 & 0.5060373 & 0.7257036 & 0.88020833 & 0.5635739 & 0.5733333 & 0.1058824 & 0.00000 & 0.0000000\\\\\n",
       "\t491 & 4 & 4 & aug & wed & 0.9663609 & 0.5060373 & 0.7257036 & 0.88020833 & 0.8419244 & 0.2400000 & 0.4235294 & 0.00000 & 0.0000000\\\\\n",
       "\t492 & 4 & 4 & aug & thu & 0.9877676 & 0.5451884 & 0.7485929 & 0.67708333 & 0.9690722 & 0.0800000 & 0.4823529 & 0.00000 & 0.0000000\\\\\n",
       "\t493 & 1 & 3 & aug & fri & 0.9908257 & 0.5671423 & 0.7604753 & 0.54687500 & 0.9690722 & 0.1600000 & 0.2117647 & 0.00000 & 0.0000000\\\\\n",
       "\t494 & 1 & 3 & aug & fri & 0.9908257 & 0.5671423 & 0.7604753 & 0.54687500 & 0.8006873 & 0.1866667 & 0.4823529 & 0.00000 & 3.7914360\\\\\n",
       "\t495 & 6 & 6 & aug & sat & 0.9938838 & 0.5890962 & 0.7722326 & 0.68750000 & 0.9140893 & 0.2000000 & 0.5294118 & 0.00000 & 2.2607209\\\\\n",
       "\t496 & 6 & 6 & aug & mon & 1.0000000 & 0.6311745 & 0.7957473 & 0.83333333 & 0.6769759 & 0.3600000 & 0.2117647 & 0.00000 & 0.0000000\\\\\n",
       "\t497 & 4 & 5 & aug & mon & 1.0000000 & 0.6311745 & 0.7957473 & 0.83333333 & 0.9759450 & 0.1466667 & 0.3176471 & 0.00000 & 1.3270750\\\\\n",
       "\t498 & 3 & 4 & aug & tue & 0.9969419 & 0.6516648 & 0.8075047 & 0.70312500 & 0.9656357 & 0.1600000 & 0.2117647 & 0.00000 & 2.7523860\\\\\n",
       "\t499 & 6 & 5 & aug & tue & 0.9969419 & 0.6516648 & 0.8075047 & 0.70312500 & 1.0000000 & 0.1466667 & 0.2705882 & 0.00000 & 3.7266568\\\\\n",
       "\t500 & 7 & 5 & aug & tue & 0.9969419 & 0.6516648 & 0.8075047 & 0.70312500 & 0.7938144 & 0.6400000 & 0.5294118 & 1.00000 & 2.4697930\\\\\n",
       "\t501 & 8 & 6 & aug & tue & 0.9969419 & 0.6516648 & 0.8075047 & 0.70312500 & 0.5979381 & 0.6666667 & 0.5294118 & 0.12500 & 0.0000000\\\\\n",
       "\t502 & 7 & 5 & aug & tue & 0.9969419 & 0.6516648 & 0.8075047 & 0.70312500 & 0.5979381 & 0.6666667 & 0.5294118 & 0.12500 & 0.0000000\\\\\n",
       "\t503 & 4 & 4 & aug & tue & 0.9969419 & 0.6516648 & 0.8075047 & 0.70312500 & 0.5670103 & 0.7200000 & 0.5294118 & 0.06250 & 0.0000000\\\\\n",
       "\t504 & 2 & 4 & aug & wed & 0.9480122 & 0.4990853 & 0.8298937 & 1.00000000 & 0.8591065 & 0.2000000 & 0.5294118 & 0.00000 & 1.0818052\\\\\n",
       "\t505 & 4 & 3 & aug & wed & 0.9480122 & 0.4990853 & 0.8298937 & 1.00000000 & 0.8487973 & 0.1866667 & 0.5294118 & 0.00000 & 3.9237539\\\\\n",
       "\t506 & 1 & 2 & aug & thu & 0.8409786 & 0.5861690 & 0.8990619 & 0.48437500 & 0.7731959 & 0.2666667 & 0.1647059 & 0.00000 & 1.9169226\\\\\n",
       "\t507 & 1 & 2 & aug & fri & 0.8409786 & 0.5997073 & 0.9093183 & 0.32812500 & 0.4914089 & 0.7733333 & 0.9529412 & 0.00000 & 0.0000000\\\\\n",
       "\t508 & 2 & 4 & aug & fri & 0.8409786 & 0.5997073 & 0.9093183 & 0.32812500 & 0.7457045 & 0.3466667 & 0.3764706 & 0.00000 & 0.0000000\\\\\n",
       "\t509 & 1 & 2 & aug & fri & 0.8409786 & 0.5997073 & 0.9093183 & 0.32812500 & 0.7457045 & 0.3466667 & 0.3764706 & 0.00000 & 0.0000000\\\\\n",
       "\t510 & 5 & 4 & aug & fri & 0.8409786 & 0.5997073 & 0.9093183 & 0.32812500 & 0.5807560 & 0.7466667 & 0.8470588 & 0.21875 & 1.1537316\\\\\n",
       "\t511 & 6 & 5 & aug & fri & 0.8409786 & 0.5997073 & 0.9093183 & 0.32812500 & 0.4810997 & 0.6266667 & 0.5882353 & 0.00000 & 0.3576744\\\\\n",
       "\t512 & 8 & 6 & aug & sun & 0.5535168 & 0.1964874 & 0.8005003 & 0.05729167 & 0.8109966 & 0.2666667 & 0.2705882 & 0.00000 & 0.0000000\\\\\n",
       "\t513 & 4 & 3 & aug & sun & 0.5535168 & 0.1964874 & 0.8005003 & 0.05729167 & 0.8109966 & 0.2266667 & 0.2705882 & 0.00000 & 2.0068708\\\\\n",
       "\t514 & 2 & 4 & aug & sun & 0.5535168 & 0.1964874 & 0.8005003 & 0.05729167 & 0.6082474 & 0.7466667 & 0.6352941 & 0.00000 & 4.0125921\\\\\n",
       "\t515 & 7 & 4 & aug & sun & 0.5535168 & 0.1964874 & 0.8005003 & 0.05729167 & 0.5841924 & 0.7333333 & 0.7411765 & 0.00000 & 2.4981519\\\\\n",
       "\t516 & 1 & 4 & aug & sat & 0.9449541 & 0.5232345 & 0.7368355 & 0.54687500 & 0.7353952 & 0.3600000 & 0.4235294 & 0.00000 & 0.0000000\\\\\n",
       "\t517 & 6 & 3 & nov & tue & 0.4892966 & 0.0000000 & 0.1014384 & 0.01562500 & 0.2611684 & 0.2133333 & 0.4823529 & 0.00000 & 0.0000000\\\\\n",
       "\\end{tabular}\n"
      ],
      "text/markdown": [
       "\n",
       "A data.frame: 477 × 13\n",
       "\n",
       "| <!--/--> | X &lt;int&gt; | Y &lt;int&gt; | month &lt;chr&gt; | day &lt;chr&gt; | FFMC &lt;dbl&gt; | DMC &lt;dbl&gt; | DC &lt;dbl&gt; | ISI &lt;dbl&gt; | temp &lt;dbl&gt; | RH &lt;dbl&gt; | wind &lt;dbl&gt; | rain &lt;dbl&gt; | area &lt;dbl&gt; |\n",
       "|---|---|---|---|---|---|---|---|---|---|---|---|---|---|\n",
       "| 1 | 7 | 5 | mar | fri | 0.6941896 | 0.08488840 | 0.08592871 | 0.2239583 | 0.1374570 | 0.4800000 | 0.74117647 | 0 | 0 |\n",
       "| 2 | 7 | 4 | oct | tue | 0.8287462 | 0.11855104 | 0.80487805 | 0.3072917 | 0.4742268 | 0.2400000 | 0.05882353 | 0 | 0 |\n",
       "| 3 | 7 | 4 | oct | sat | 0.8287462 | 0.14892060 | 0.82714196 | 0.3072917 | 0.3573883 | 0.2400000 | 0.10588235 | 0 | 0 |\n",
       "| 6 | 8 | 6 | aug | sun | 0.8807339 | 0.30113428 | 0.57836148 | 0.7239583 | 0.6185567 | 0.1866667 | 0.58823529 | 0 | 0 |\n",
       "| 7 | 8 | 6 | aug | mon | 0.8807339 | 0.31430662 | 0.58786742 | 0.4010417 | 0.6838488 | 0.1600000 | 0.31764706 | 0 | 0 |\n",
       "| 8 | 8 | 6 | aug | mon | 0.8562691 | 0.52103915 | 0.72870544 | 0.5156250 | 0.1305842 | 0.9466667 | 0.21176471 | 0 | 0 |\n",
       "| 9 | 8 | 6 | sep | tue | 0.8409786 | 0.46286132 | 0.83427142 | 0.3229167 | 0.3058419 | 0.6400000 | 0.58823529 | 0 | 0 |\n",
       "| 10 | 7 | 5 | sep | sat | 0.8868502 | 0.31101354 | 0.84177611 | 0.3281250 | 0.6391753 | 0.3333333 | 0.42352941 | 0 | 0 |\n",
       "| 11 | 7 | 5 | sep | sat | 0.8868502 | 0.31101354 | 0.84177611 | 0.3281250 | 0.4673540 | 0.4800000 | 0.80000000 | 0 | 0 |\n",
       "| 13 | 6 | 5 | aug | fri | 0.0000000 | 0.24807903 | 0.80012508 | 0.0000000 | 0.4398625 | 0.7600000 | 0.74117647 | 0 | 0 |\n",
       "| 14 | 6 | 5 | sep | mon | 0.8379205 | 0.45188438 | 0.82664165 | 0.3229167 | 0.5876289 | 0.3600000 | 0.21176471 | 0 | 0 |\n",
       "| 15 | 6 | 5 | sep | wed | 0.8990826 | 0.47676546 | 0.84302689 | 0.4375000 | 0.7628866 | 0.0800000 | 0.48235294 | 0 | 0 |\n",
       "| 16 | 6 | 5 | sep | fri | 0.9113150 | 0.50567142 | 0.86091307 | 0.6822917 | 0.6426117 | 0.3866667 | 0.58823529 | 0 | 0 |\n",
       "| 17 | 5 | 5 | mar | sat | 0.8623853 | 0.12001464 | 0.06904315 | 0.3645833 | 0.3745704 | 0.1600000 | 0.58823529 | 0 | 0 |\n",
       "| 18 | 8 | 5 | oct | mon | 0.6544343 | 0.10903769 | 0.79874922 | 0.1145833 | 0.4295533 | 0.4266667 | 0.52941176 | 0 | 0 |\n",
       "| 19 | 6 | 4 | mar | wed | 0.7859327 | 0.09110867 | 0.05653533 | 0.2864583 | 0.4020619 | 0.2666667 | 0.42352941 | 0 | 0 |\n",
       "| 20 | 6 | 4 | apr | sat | 0.6972477 | 0.08927918 | 0.08943089 | 0.2239583 | 0.1752577 | 0.3866667 | 0.48235294 | 0 | 0 |\n",
       "| 21 | 6 | 4 | sep | tue | 0.8409786 | 0.46286132 | 0.83427142 | 0.3229167 | 0.4845361 | 0.3333333 | 0.27058824 | 0 | 0 |\n",
       "| 22 | 5 | 4 | sep | mon | 0.8654434 | 0.27625320 | 0.87392120 | 0.4375000 | 0.5120275 | 0.3066667 | 0.27058824 | 0 | 0 |\n",
       "| 24 | 7 | 4 | aug | sat | 0.8165138 | 0.39480424 | 0.64015009 | 0.2812500 | 0.5257732 | 0.3733333 | 0.63529412 | 0 | 0 |\n",
       "| 26 | 7 | 4 | aug | sun | 0.8532110 | 0.51006220 | 0.72020013 | 0.5104167 | 0.4158076 | 0.6000000 | 0.58823529 | 0 | 0 |\n",
       "| 27 | 7 | 4 | sep | fri | 0.8837920 | 0.42041712 | 0.80350219 | 0.5937500 | 0.5085911 | 0.2533333 | 0.63529412 | 0 | 0 |\n",
       "| 28 | 7 | 4 | sep | mon | 0.8379205 | 0.45188438 | 0.82664165 | 0.3229167 | 0.5223368 | 0.4400000 | 0.10588235 | 0 | 0 |\n",
       "| 29 | 6 | 3 | sep | sat | 0.9143731 | 0.52103915 | 0.87029393 | 0.3802083 | 0.8934708 | 0.1200000 | 0.27058824 | 0 | 0 |\n",
       "| 30 | 6 | 3 | sep | sun | 0.9174312 | 0.53530918 | 0.87929956 | 0.3802083 | 0.6391753 | 0.3200000 | 0.37647059 | 0 | 0 |\n",
       "| 31 | 6 | 3 | sep | fri | 0.9418960 | 0.30040249 | 0.83389619 | 0.7864583 | 0.7285223 | 0.1200000 | 0.37647059 | 0 | 0 |\n",
       "| 32 | 6 | 3 | sep | mon | 0.7675841 | 0.32491767 | 0.85590994 | 0.3281250 | 0.2405498 | 0.8400000 | 0.84705882 | 0 | 0 |\n",
       "| 33 | 6 | 3 | sep | fri | 0.7675841 | 0.24405415 | 0.85203252 | 0.2604167 | 0.5635739 | 0.2933333 | 0.16470588 | 0 | 0 |\n",
       "| 34 | 6 | 3 | sep | sun | 0.8623853 | 0.26564215 | 0.86641651 | 0.3645833 | 0.4639175 | 0.3200000 | 0.37647059 | 0 | 0 |\n",
       "| 35 | 6 | 3 | sep | mon | 0.8654434 | 0.27625320 | 0.87392120 | 0.4375000 | 0.5841924 | 0.2266667 | 0.27058824 | 0 | 0 |\n",
       "| ... | ... | ... | ... | ... | ... | ... | ... | ... | ... | ... | ... | ... | ... |\n",
       "| 488 | 5 | 4 | aug | tue | 0.9663609 | 0.5060373 | 0.7257036 | 0.88020833 | 0.7628866 | 0.2533333 | 0.3764706 | 0.00000 | 2.8564702 |\n",
       "| 489 | 4 | 4 | aug | tue | 0.9663609 | 0.5060373 | 0.7257036 | 0.88020833 | 0.5223368 | 0.7466667 | 0.8470588 | 0.00000 | 3.8649314 |\n",
       "| 490 | 4 | 4 | aug | wed | 0.9663609 | 0.5060373 | 0.7257036 | 0.88020833 | 0.5635739 | 0.5733333 | 0.1058824 | 0.00000 | 0.0000000 |\n",
       "| 491 | 4 | 4 | aug | wed | 0.9663609 | 0.5060373 | 0.7257036 | 0.88020833 | 0.8419244 | 0.2400000 | 0.4235294 | 0.00000 | 0.0000000 |\n",
       "| 492 | 4 | 4 | aug | thu | 0.9877676 | 0.5451884 | 0.7485929 | 0.67708333 | 0.9690722 | 0.0800000 | 0.4823529 | 0.00000 | 0.0000000 |\n",
       "| 493 | 1 | 3 | aug | fri | 0.9908257 | 0.5671423 | 0.7604753 | 0.54687500 | 0.9690722 | 0.1600000 | 0.2117647 | 0.00000 | 0.0000000 |\n",
       "| 494 | 1 | 3 | aug | fri | 0.9908257 | 0.5671423 | 0.7604753 | 0.54687500 | 0.8006873 | 0.1866667 | 0.4823529 | 0.00000 | 3.7914360 |\n",
       "| 495 | 6 | 6 | aug | sat | 0.9938838 | 0.5890962 | 0.7722326 | 0.68750000 | 0.9140893 | 0.2000000 | 0.5294118 | 0.00000 | 2.2607209 |\n",
       "| 496 | 6 | 6 | aug | mon | 1.0000000 | 0.6311745 | 0.7957473 | 0.83333333 | 0.6769759 | 0.3600000 | 0.2117647 | 0.00000 | 0.0000000 |\n",
       "| 497 | 4 | 5 | aug | mon | 1.0000000 | 0.6311745 | 0.7957473 | 0.83333333 | 0.9759450 | 0.1466667 | 0.3176471 | 0.00000 | 1.3270750 |\n",
       "| 498 | 3 | 4 | aug | tue | 0.9969419 | 0.6516648 | 0.8075047 | 0.70312500 | 0.9656357 | 0.1600000 | 0.2117647 | 0.00000 | 2.7523860 |\n",
       "| 499 | 6 | 5 | aug | tue | 0.9969419 | 0.6516648 | 0.8075047 | 0.70312500 | 1.0000000 | 0.1466667 | 0.2705882 | 0.00000 | 3.7266568 |\n",
       "| 500 | 7 | 5 | aug | tue | 0.9969419 | 0.6516648 | 0.8075047 | 0.70312500 | 0.7938144 | 0.6400000 | 0.5294118 | 1.00000 | 2.4697930 |\n",
       "| 501 | 8 | 6 | aug | tue | 0.9969419 | 0.6516648 | 0.8075047 | 0.70312500 | 0.5979381 | 0.6666667 | 0.5294118 | 0.12500 | 0.0000000 |\n",
       "| 502 | 7 | 5 | aug | tue | 0.9969419 | 0.6516648 | 0.8075047 | 0.70312500 | 0.5979381 | 0.6666667 | 0.5294118 | 0.12500 | 0.0000000 |\n",
       "| 503 | 4 | 4 | aug | tue | 0.9969419 | 0.6516648 | 0.8075047 | 0.70312500 | 0.5670103 | 0.7200000 | 0.5294118 | 0.06250 | 0.0000000 |\n",
       "| 504 | 2 | 4 | aug | wed | 0.9480122 | 0.4990853 | 0.8298937 | 1.00000000 | 0.8591065 | 0.2000000 | 0.5294118 | 0.00000 | 1.0818052 |\n",
       "| 505 | 4 | 3 | aug | wed | 0.9480122 | 0.4990853 | 0.8298937 | 1.00000000 | 0.8487973 | 0.1866667 | 0.5294118 | 0.00000 | 3.9237539 |\n",
       "| 506 | 1 | 2 | aug | thu | 0.8409786 | 0.5861690 | 0.8990619 | 0.48437500 | 0.7731959 | 0.2666667 | 0.1647059 | 0.00000 | 1.9169226 |\n",
       "| 507 | 1 | 2 | aug | fri | 0.8409786 | 0.5997073 | 0.9093183 | 0.32812500 | 0.4914089 | 0.7733333 | 0.9529412 | 0.00000 | 0.0000000 |\n",
       "| 508 | 2 | 4 | aug | fri | 0.8409786 | 0.5997073 | 0.9093183 | 0.32812500 | 0.7457045 | 0.3466667 | 0.3764706 | 0.00000 | 0.0000000 |\n",
       "| 509 | 1 | 2 | aug | fri | 0.8409786 | 0.5997073 | 0.9093183 | 0.32812500 | 0.7457045 | 0.3466667 | 0.3764706 | 0.00000 | 0.0000000 |\n",
       "| 510 | 5 | 4 | aug | fri | 0.8409786 | 0.5997073 | 0.9093183 | 0.32812500 | 0.5807560 | 0.7466667 | 0.8470588 | 0.21875 | 1.1537316 |\n",
       "| 511 | 6 | 5 | aug | fri | 0.8409786 | 0.5997073 | 0.9093183 | 0.32812500 | 0.4810997 | 0.6266667 | 0.5882353 | 0.00000 | 0.3576744 |\n",
       "| 512 | 8 | 6 | aug | sun | 0.5535168 | 0.1964874 | 0.8005003 | 0.05729167 | 0.8109966 | 0.2666667 | 0.2705882 | 0.00000 | 0.0000000 |\n",
       "| 513 | 4 | 3 | aug | sun | 0.5535168 | 0.1964874 | 0.8005003 | 0.05729167 | 0.8109966 | 0.2266667 | 0.2705882 | 0.00000 | 2.0068708 |\n",
       "| 514 | 2 | 4 | aug | sun | 0.5535168 | 0.1964874 | 0.8005003 | 0.05729167 | 0.6082474 | 0.7466667 | 0.6352941 | 0.00000 | 4.0125921 |\n",
       "| 515 | 7 | 4 | aug | sun | 0.5535168 | 0.1964874 | 0.8005003 | 0.05729167 | 0.5841924 | 0.7333333 | 0.7411765 | 0.00000 | 2.4981519 |\n",
       "| 516 | 1 | 4 | aug | sat | 0.9449541 | 0.5232345 | 0.7368355 | 0.54687500 | 0.7353952 | 0.3600000 | 0.4235294 | 0.00000 | 0.0000000 |\n",
       "| 517 | 6 | 3 | nov | tue | 0.4892966 | 0.0000000 | 0.1014384 | 0.01562500 | 0.2611684 | 0.2133333 | 0.4823529 | 0.00000 | 0.0000000 |\n",
       "\n"
      ],
      "text/plain": [
       "    X   Y   month day FFMC      DMC        DC         ISI        temp     \n",
       "1   7   5   mar   fri 0.6941896 0.08488840 0.08592871 0.2239583  0.1374570\n",
       "2   7   4   oct   tue 0.8287462 0.11855104 0.80487805 0.3072917  0.4742268\n",
       "3   7   4   oct   sat 0.8287462 0.14892060 0.82714196 0.3072917  0.3573883\n",
       "6   8   6   aug   sun 0.8807339 0.30113428 0.57836148 0.7239583  0.6185567\n",
       "7   8   6   aug   mon 0.8807339 0.31430662 0.58786742 0.4010417  0.6838488\n",
       "8   8   6   aug   mon 0.8562691 0.52103915 0.72870544 0.5156250  0.1305842\n",
       "9   8   6   sep   tue 0.8409786 0.46286132 0.83427142 0.3229167  0.3058419\n",
       "10  7   5   sep   sat 0.8868502 0.31101354 0.84177611 0.3281250  0.6391753\n",
       "11  7   5   sep   sat 0.8868502 0.31101354 0.84177611 0.3281250  0.4673540\n",
       "13  6   5   aug   fri 0.0000000 0.24807903 0.80012508 0.0000000  0.4398625\n",
       "14  6   5   sep   mon 0.8379205 0.45188438 0.82664165 0.3229167  0.5876289\n",
       "15  6   5   sep   wed 0.8990826 0.47676546 0.84302689 0.4375000  0.7628866\n",
       "16  6   5   sep   fri 0.9113150 0.50567142 0.86091307 0.6822917  0.6426117\n",
       "17  5   5   mar   sat 0.8623853 0.12001464 0.06904315 0.3645833  0.3745704\n",
       "18  8   5   oct   mon 0.6544343 0.10903769 0.79874922 0.1145833  0.4295533\n",
       "19  6   4   mar   wed 0.7859327 0.09110867 0.05653533 0.2864583  0.4020619\n",
       "20  6   4   apr   sat 0.6972477 0.08927918 0.08943089 0.2239583  0.1752577\n",
       "21  6   4   sep   tue 0.8409786 0.46286132 0.83427142 0.3229167  0.4845361\n",
       "22  5   4   sep   mon 0.8654434 0.27625320 0.87392120 0.4375000  0.5120275\n",
       "24  7   4   aug   sat 0.8165138 0.39480424 0.64015009 0.2812500  0.5257732\n",
       "26  7   4   aug   sun 0.8532110 0.51006220 0.72020013 0.5104167  0.4158076\n",
       "27  7   4   sep   fri 0.8837920 0.42041712 0.80350219 0.5937500  0.5085911\n",
       "28  7   4   sep   mon 0.8379205 0.45188438 0.82664165 0.3229167  0.5223368\n",
       "29  6   3   sep   sat 0.9143731 0.52103915 0.87029393 0.3802083  0.8934708\n",
       "30  6   3   sep   sun 0.9174312 0.53530918 0.87929956 0.3802083  0.6391753\n",
       "31  6   3   sep   fri 0.9418960 0.30040249 0.83389619 0.7864583  0.7285223\n",
       "32  6   3   sep   mon 0.7675841 0.32491767 0.85590994 0.3281250  0.2405498\n",
       "33  6   3   sep   fri 0.7675841 0.24405415 0.85203252 0.2604167  0.5635739\n",
       "34  6   3   sep   sun 0.8623853 0.26564215 0.86641651 0.3645833  0.4639175\n",
       "35  6   3   sep   mon 0.8654434 0.27625320 0.87392120 0.4375000  0.5841924\n",
       "... ... ... ...   ... ...       ...        ...        ...        ...      \n",
       "488 5   4   aug   tue 0.9663609 0.5060373  0.7257036  0.88020833 0.7628866\n",
       "489 4   4   aug   tue 0.9663609 0.5060373  0.7257036  0.88020833 0.5223368\n",
       "490 4   4   aug   wed 0.9663609 0.5060373  0.7257036  0.88020833 0.5635739\n",
       "491 4   4   aug   wed 0.9663609 0.5060373  0.7257036  0.88020833 0.8419244\n",
       "492 4   4   aug   thu 0.9877676 0.5451884  0.7485929  0.67708333 0.9690722\n",
       "493 1   3   aug   fri 0.9908257 0.5671423  0.7604753  0.54687500 0.9690722\n",
       "494 1   3   aug   fri 0.9908257 0.5671423  0.7604753  0.54687500 0.8006873\n",
       "495 6   6   aug   sat 0.9938838 0.5890962  0.7722326  0.68750000 0.9140893\n",
       "496 6   6   aug   mon 1.0000000 0.6311745  0.7957473  0.83333333 0.6769759\n",
       "497 4   5   aug   mon 1.0000000 0.6311745  0.7957473  0.83333333 0.9759450\n",
       "498 3   4   aug   tue 0.9969419 0.6516648  0.8075047  0.70312500 0.9656357\n",
       "499 6   5   aug   tue 0.9969419 0.6516648  0.8075047  0.70312500 1.0000000\n",
       "500 7   5   aug   tue 0.9969419 0.6516648  0.8075047  0.70312500 0.7938144\n",
       "501 8   6   aug   tue 0.9969419 0.6516648  0.8075047  0.70312500 0.5979381\n",
       "502 7   5   aug   tue 0.9969419 0.6516648  0.8075047  0.70312500 0.5979381\n",
       "503 4   4   aug   tue 0.9969419 0.6516648  0.8075047  0.70312500 0.5670103\n",
       "504 2   4   aug   wed 0.9480122 0.4990853  0.8298937  1.00000000 0.8591065\n",
       "505 4   3   aug   wed 0.9480122 0.4990853  0.8298937  1.00000000 0.8487973\n",
       "506 1   2   aug   thu 0.8409786 0.5861690  0.8990619  0.48437500 0.7731959\n",
       "507 1   2   aug   fri 0.8409786 0.5997073  0.9093183  0.32812500 0.4914089\n",
       "508 2   4   aug   fri 0.8409786 0.5997073  0.9093183  0.32812500 0.7457045\n",
       "509 1   2   aug   fri 0.8409786 0.5997073  0.9093183  0.32812500 0.7457045\n",
       "510 5   4   aug   fri 0.8409786 0.5997073  0.9093183  0.32812500 0.5807560\n",
       "511 6   5   aug   fri 0.8409786 0.5997073  0.9093183  0.32812500 0.4810997\n",
       "512 8   6   aug   sun 0.5535168 0.1964874  0.8005003  0.05729167 0.8109966\n",
       "513 4   3   aug   sun 0.5535168 0.1964874  0.8005003  0.05729167 0.8109966\n",
       "514 2   4   aug   sun 0.5535168 0.1964874  0.8005003  0.05729167 0.6082474\n",
       "515 7   4   aug   sun 0.5535168 0.1964874  0.8005003  0.05729167 0.5841924\n",
       "516 1   4   aug   sat 0.9449541 0.5232345  0.7368355  0.54687500 0.7353952\n",
       "517 6   3   nov   tue 0.4892966 0.0000000  0.1014384  0.01562500 0.2611684\n",
       "    RH        wind       rain    area     \n",
       "1   0.4800000 0.74117647 0       0        \n",
       "2   0.2400000 0.05882353 0       0        \n",
       "3   0.2400000 0.10588235 0       0        \n",
       "6   0.1866667 0.58823529 0       0        \n",
       "7   0.1600000 0.31764706 0       0        \n",
       "8   0.9466667 0.21176471 0       0        \n",
       "9   0.6400000 0.58823529 0       0        \n",
       "10  0.3333333 0.42352941 0       0        \n",
       "11  0.4800000 0.80000000 0       0        \n",
       "13  0.7600000 0.74117647 0       0        \n",
       "14  0.3600000 0.21176471 0       0        \n",
       "15  0.0800000 0.48235294 0       0        \n",
       "16  0.3866667 0.58823529 0       0        \n",
       "17  0.1600000 0.58823529 0       0        \n",
       "18  0.4266667 0.52941176 0       0        \n",
       "19  0.2666667 0.42352941 0       0        \n",
       "20  0.3866667 0.48235294 0       0        \n",
       "21  0.3333333 0.27058824 0       0        \n",
       "22  0.3066667 0.27058824 0       0        \n",
       "24  0.3733333 0.63529412 0       0        \n",
       "26  0.6000000 0.58823529 0       0        \n",
       "27  0.2533333 0.63529412 0       0        \n",
       "28  0.4400000 0.10588235 0       0        \n",
       "29  0.1200000 0.27058824 0       0        \n",
       "30  0.3200000 0.37647059 0       0        \n",
       "31  0.1200000 0.37647059 0       0        \n",
       "32  0.8400000 0.84705882 0       0        \n",
       "33  0.2933333 0.16470588 0       0        \n",
       "34  0.3200000 0.37647059 0       0        \n",
       "35  0.2266667 0.27058824 0       0        \n",
       "... ...       ...        ...     ...      \n",
       "488 0.2533333 0.3764706  0.00000 2.8564702\n",
       "489 0.7466667 0.8470588  0.00000 3.8649314\n",
       "490 0.5733333 0.1058824  0.00000 0.0000000\n",
       "491 0.2400000 0.4235294  0.00000 0.0000000\n",
       "492 0.0800000 0.4823529  0.00000 0.0000000\n",
       "493 0.1600000 0.2117647  0.00000 0.0000000\n",
       "494 0.1866667 0.4823529  0.00000 3.7914360\n",
       "495 0.2000000 0.5294118  0.00000 2.2607209\n",
       "496 0.3600000 0.2117647  0.00000 0.0000000\n",
       "497 0.1466667 0.3176471  0.00000 1.3270750\n",
       "498 0.1600000 0.2117647  0.00000 2.7523860\n",
       "499 0.1466667 0.2705882  0.00000 3.7266568\n",
       "500 0.6400000 0.5294118  1.00000 2.4697930\n",
       "501 0.6666667 0.5294118  0.12500 0.0000000\n",
       "502 0.6666667 0.5294118  0.12500 0.0000000\n",
       "503 0.7200000 0.5294118  0.06250 0.0000000\n",
       "504 0.2000000 0.5294118  0.00000 1.0818052\n",
       "505 0.1866667 0.5294118  0.00000 3.9237539\n",
       "506 0.2666667 0.1647059  0.00000 1.9169226\n",
       "507 0.7733333 0.9529412  0.00000 0.0000000\n",
       "508 0.3466667 0.3764706  0.00000 0.0000000\n",
       "509 0.3466667 0.3764706  0.00000 0.0000000\n",
       "510 0.7466667 0.8470588  0.21875 1.1537316\n",
       "511 0.6266667 0.5882353  0.00000 0.3576744\n",
       "512 0.2666667 0.2705882  0.00000 0.0000000\n",
       "513 0.2266667 0.2705882  0.00000 2.0068708\n",
       "514 0.7466667 0.6352941  0.00000 4.0125921\n",
       "515 0.7333333 0.7411765  0.00000 2.4981519\n",
       "516 0.3600000 0.4235294  0.00000 0.0000000\n",
       "517 0.2133333 0.4823529  0.00000 0.0000000"
      ]
     },
     "metadata": {},
     "output_type": "display_data"
    }
   ],
   "source": [
    "firedata_log"
   ]
  },
  {
   "cell_type": "code",
   "execution_count": 57,
   "metadata": {},
   "outputs": [],
   "source": [
    "data_scaled[13] <- scaling_fun(firedata[13])"
   ]
  },
  {
   "cell_type": "code",
   "execution_count": 58,
   "metadata": {},
   "outputs": [],
   "source": [
    "write.csv(firedata_log, \"firedata_log.csv\")"
   ]
  },
  {
   "cell_type": "code",
   "execution_count": null,
   "metadata": {},
   "outputs": [],
   "source": []
  },
  {
   "cell_type": "code",
   "execution_count": 59,
   "metadata": {},
   "outputs": [],
   "source": [
    "write.csv(firedata_nomalized, \"firedata_nomalized.csv\")"
   ]
  },
  {
   "cell_type": "code",
   "execution_count": 52,
   "metadata": {},
   "outputs": [],
   "source": []
  },
  {
   "cell_type": "code",
   "execution_count": 60,
   "metadata": {},
   "outputs": [],
   "source": [
    "write.csv(firedata_sqrt, \"firedata_sqrt.csv\")"
   ]
  },
  {
   "cell_type": "code",
   "execution_count": 54,
   "metadata": {},
   "outputs": [],
   "source": []
  },
  {
   "cell_type": "code",
   "execution_count": 62,
   "metadata": {},
   "outputs": [],
   "source": [
    "write.csv(data_scaled, \"scaled_firedata.csv\")"
   ]
  },
  {
   "cell_type": "code",
   "execution_count": 75,
   "metadata": {},
   "outputs": [
    {
     "data": {
      "text/html": [
       "'C:/Users/Park/namda_git/Datamining/term-project'"
      ],
      "text/latex": [
       "'C:/Users/Park/namda\\_git/Datamining/term-project'"
      ],
      "text/markdown": [
       "'C:/Users/Park/namda_git/Datamining/term-project'"
      ],
      "text/plain": [
       "[1] \"C:/Users/Park/namda_git/Datamining/term-project\""
      ]
     },
     "metadata": {},
     "output_type": "display_data"
    }
   ],
   "source": [
    "getwd()"
   ]
  },
  {
   "cell_type": "code",
   "execution_count": null,
   "metadata": {},
   "outputs": [],
   "source": []
  }
 ],
 "metadata": {
  "kernelspec": {
   "display_name": "R",
   "language": "R",
   "name": "ir"
  },
  "language_info": {
   "codemirror_mode": "r",
   "file_extension": ".r",
   "mimetype": "text/x-r-source",
   "name": "R",
   "pygments_lexer": "r",
   "version": "4.0.1"
  }
 },
 "nbformat": 4,
 "nbformat_minor": 4
}
